{
 "cells": [
  {
   "cell_type": "markdown",
   "metadata": {},
   "source": [
    "# Ejercicio de distnacias de supermercados a posibles almacenes."
   ]
  },
  {
   "cell_type": "markdown",
   "metadata": {},
   "source": [
    "## Modelación Matematica"
   ]
  },
  {
   "cell_type": "markdown",
   "metadata": {},
   "source": [
    "### Indices \n",
    "$i \\in I$ indice y conjunto de Supermercados.<br>\n",
    "$j \\in J$ indice y conjunto de Posibles almacenes."
   ]
  },
  {
   "cell_type": "markdown",
   "metadata": {},
   "source": [
    "### Parametros\n",
    "\n",
    "$f_i \\in \\mathbb{R}^+$ Costo de abrir una instalacion en la locacion $j$ <br>\n",
    "$d_{i,j} \\in \\mathbb{R}^+$ Distancia entre el el supermercado $i$ y el almacén $j$.<br>\n",
    "$c_{i,j} \\in \\mathbb{R}^+$ Costo de llevar mercaderia desde el supermercado $i$ y el almacén $j$. Cabe recalcar $c_{i,j}=\\alpha\\cdot d_{i,j}$ "
   ]
  },
  {
   "cell_type": "markdown",
   "metadata": {},
   "source": [
    "### Variables de desición\n",
    "\n",
    "$select_j \\in \\{0,1\\}$: El valor es igual a 1 cuando se construye el almacen de la locacion $j$ es contruido <br>\n",
    "$0\\leq assign_{i,j} \\leq 1$ : Esta variable continua no negativa determina la fracción del suministro recibido por el cliente  $i \\in I$  de la instalación  $j \\in J$. "
   ]
  },
  {
   "cell_type": "markdown",
   "metadata": {},
   "source": [
    "### Función Objetivo\n",
    "1. Debemos minimizar los costos de traslado y construccion. Por ende nuestra funcion objetivo será:\n",
    "\n",
    "\\begin{align}\n",
    "Min\\space Z&=\\sum_{j\\in J}f_i \\cdot select_j+ \\sum_{j\\in J}\\sum_{i \\in I}c_{i,j}\\cdot assign_{i,j}\n",
    "\\end{align}"
   ]
  },
  {
   "cell_type": "markdown",
   "metadata": {},
   "source": [
    "### Restricciones \n",
    "1. Demanda: para cada supermercado debe satisfacerse su demanda, Debe ser la suma de las fracciones de envio desde cada almacén. Siendo la suma igual a 1.\n",
    "\\begin{align}\n",
    "\\sum_{j\\in J} assign_{i,j}&=1\\space\\space\\space \\forall \\space i \\in I\n",
    "\\end{align}\n",
    "2. Necesitamos asegurarnos de que solo enviamos desde las instalaciones $j∈J$ , si esa instalación realmente se ha construido.\n",
    "\\begin{align}\n",
    "assign_{i,j}\\leq select_j \\space\\space \\forall i \\in I\\space\\space \\forall j \\in J\n",
    "\\end{align}"
   ]
  },
  {
   "cell_type": "markdown",
   "metadata": {},
   "source": [
    "###  Observaciones:\n",
    "1. Dejaremos el valor de $\\alpha$ como 1 millon de pesos.\n",
    "2. Las coordenadas de las locaciones de los almacenes y supermercados seran una tupla (Plano cartesiano 2D)"
   ]
  },
  {
   "cell_type": "markdown",
   "metadata": {},
   "source": [
    "## Implementacion en Python"
   ]
  },
  {
   "cell_type": "markdown",
   "metadata": {},
   "source": [
    "### Imports necesarios"
   ]
  },
  {
   "cell_type": "code",
   "execution_count": 11,
   "metadata": {},
   "outputs": [],
   "source": [
    "from itertools import product\n",
    "from math import sqrt \n",
    "import gurobipy as gb\n",
    "from gurobipy import GRB\n",
    "import pandas as pd\n",
    "from IPython.display import display\n",
    "import matplotlib.pyplot as plt\n",
    "import matplotlib as mpl\n",
    "\n",
    "%matplotlib inline"
   ]
  },
  {
   "cell_type": "markdown",
   "metadata": {},
   "source": [
    "### Parametros y coordenadas"
   ]
  },
  {
   "cell_type": "code",
   "execution_count": 29,
   "metadata": {},
   "outputs": [],
   "source": [
    "supermercados = [(0,1.5), (2.5,1.2)]\n",
    "almacenes = [(0,0), (0,1), (0,2), (1,0), (1,1), (1,2), (2,0), (2,1), (2,2)]\n",
    "costo_constu = [3,2,3,1,3,3,4,3,2]\n",
    "costo_por_km = 1"
   ]
  },
  {
   "cell_type": "markdown",
   "metadata": {},
   "source": [
    "### Pre-Procesado"
   ]
  },
  {
   "cell_type": "code",
   "execution_count": 24,
   "metadata": {},
   "outputs": [],
   "source": [
    "def distancia(loc1, loc2):\n",
    "    dx = loc1[0] - loc2[0]\n",
    "    dy = loc1[1] - loc2[1]\n",
    "    return sqrt(dx*dx + dy*dy)\n",
    "#Generamos las llaves de los indices compuestos {i,j}\n",
    "num_almacenes=len(almacenes)\n",
    "num_super = len (supermercados)\n",
    "producto_cart=list(product(range(num_super),range(num_almacenes)))"
   ]
  },
  {
   "cell_type": "code",
   "execution_count": 22,
   "metadata": {
    "scrolled": true
   },
   "outputs": [
    {
     "data": {
      "text/plain": [
       "[(0, 0),\n",
       " (0, 1),\n",
       " (0, 2),\n",
       " (0, 3),\n",
       " (0, 4),\n",
       " (0, 5),\n",
       " (0, 6),\n",
       " (0, 7),\n",
       " (0, 8),\n",
       " (1, 0),\n",
       " (1, 1),\n",
       " (1, 2),\n",
       " (1, 3),\n",
       " (1, 4),\n",
       " (1, 5),\n",
       " (1, 6),\n",
       " (1, 7),\n",
       " (1, 8)]"
      ]
     },
     "execution_count": 22,
     "metadata": {},
     "output_type": "execute_result"
    }
   ],
   "source": [
    "producto_cart"
   ]
  },
  {
   "cell_type": "code",
   "execution_count": 33,
   "metadata": {
    "scrolled": true
   },
   "outputs": [
    {
     "name": "stdout",
     "output_type": "stream",
     "text": [
      "{(0, 0): 1.5, (0, 1): 0.5, (0, 2): 0.5, (0, 3): 1.8027756377319946, (0, 4): 1.118033988749895, (0, 5): 1.118033988749895, (0, 6): 2.5, (0, 7): 2.0615528128088303, (0, 8): 2.0615528128088303, (1, 0): 2.773084924772409, (1, 1): 2.5079872407968904, (1, 2): 2.6248809496813377, (1, 3): 1.9209372712298547, (1, 4): 1.5132745950421556, (1, 5): 1.7, (1, 6): 1.3, (1, 7): 0.5385164807134504, (1, 8): 0.9433981132056605}\n"
     ]
    }
   ],
   "source": [
    "#Costo de envios\n",
    "costo_envio = {(i,j): costo_por_km*distancia(supermercados[i], almacenes[j]) for i, j in producto_cart}\n",
    "print(costo_envio)"
   ]
  },
  {
   "cell_type": "markdown",
   "metadata": {},
   "source": [
    "### Implementación del modelo\n"
   ]
  },
  {
   "cell_type": "code",
   "execution_count": 42,
   "metadata": {
    "scrolled": false
   },
   "outputs": [
    {
     "name": "stdout",
     "output_type": "stream",
     "text": [
      "Optimize a model with 20 rows, 27 columns and 54 nonzeros\n",
      "Variable types: 18 continuous, 9 integer (9 binary)\n",
      "Coefficient statistics:\n",
      "  Matrix range     [1e+00, 1e+00]\n",
      "  Objective range  [5e-01, 4e+00]\n",
      "  Bounds range     [1e+00, 1e+00]\n",
      "  RHS range        [1e+00, 1e+00]\n",
      "Presolve time: 0.09s\n",
      "Presolved: 20 rows, 27 columns, 54 nonzeros\n",
      "Variable types: 18 continuous, 9 integer (9 binary)\n",
      "\n",
      "Root relaxation: objective 4.723713e+00, 15 iterations, 0.00 seconds\n",
      "\n",
      "    Nodes    |    Current Node    |     Objective Bounds      |     Work\n",
      " Expl Unexpl |  Obj  Depth IntInf | Incumbent    BestBd   Gap | It/Node Time\n",
      "\n",
      "*    0     0               0       4.7237129    4.72371  0.00%     -    0s\n",
      "\n",
      "Explored 0 nodes (15 simplex iterations) in 0.27 seconds\n",
      "Thread count was 4 (of 4 available processors)\n",
      "\n",
      "Solution count 1: 4.72371 \n",
      "\n",
      "Optimal solution found (tolerance 1.00e-04)\n",
      "Best objective 4.723712908962e+00, best bound 4.723712908962e+00, gap 0.0000%\n"
     ]
    }
   ],
   "source": [
    "\n",
    "modelo=  gb.Model( 'ubicación_instalación' ) \n",
    "\n",
    "seleccion = modelo.addVars(num_almacenes, vtype=GRB.BINARY, name='Seleccion')\n",
    "asignacion = modelo.addVars(producto_cart, ub=1, vtype=GRB.CONTINUOUS, name='Asignacion')\n",
    "\n",
    "modelo.addConstrs((asignacion[(i,j)] <= seleccion[j] for i,j in producto_cart), name='Construccion/Encvio')\n",
    "modelo.addConstrs((gb.quicksum(asignacion[(i,j)] for j in range(num_almacenes)) == 1 for i in range(num_super)), name='Demanda')\n",
    "\n",
    "modelo.setObjective(seleccion.prod(costo_constu)+asignacion.prod(costo_envio), GRB.MINIMIZE)\n",
    "\n",
    "modelo.optimize()\n"
   ]
  },
  {
   "cell_type": "markdown",
   "metadata": {},
   "source": [
    "### Analisis\n",
    "El resultado del modelo de optimización muestra que el valor de costo total mínimo es de 4.72 millones de libras esterlinas. Veamos la solución que logra ese resultado óptimo."
   ]
  },
  {
   "cell_type": "markdown",
   "metadata": {},
   "source": [
    "### Plan de cosntrucción de almacenes"
   ]
  },
  {
   "cell_type": "code",
   "execution_count": 46,
   "metadata": {
    "scrolled": true
   },
   "outputs": [
    {
     "name": "stdout",
     "output_type": "stream",
     "text": [
      "\n",
      "Se debe contruir el almacen en la locacion 4.\n"
     ]
    }
   ],
   "source": [
    "# var.x es la variable optima del problema.\n",
    "for almacen in seleccion.keys():\n",
    "    if (abs(seleccion[almacen].x) > 1e-6):\n",
    "        print(f\"\\nSe debe contruir el almacen en la locacion {almacen + 1}.\")"
   ]
  },
  {
   "cell_type": "code",
   "execution_count": 47,
   "metadata": {},
   "outputs": [
    {
     "data": {
      "text/plain": [
       "{0: <gurobi.Var Seleccion[0] (value -0.0)>,\n",
       " 1: <gurobi.Var Seleccion[1] (value -0.0)>,\n",
       " 2: <gurobi.Var Seleccion[2] (value -0.0)>,\n",
       " 3: <gurobi.Var Seleccion[3] (value 1.0)>,\n",
       " 4: <gurobi.Var Seleccion[4] (value -0.0)>,\n",
       " 5: <gurobi.Var Seleccion[5] (value -0.0)>,\n",
       " 6: <gurobi.Var Seleccion[6] (value -0.0)>,\n",
       " 7: <gurobi.Var Seleccion[7] (value -0.0)>,\n",
       " 8: <gurobi.Var Seleccion[8] (value -0.0)>}"
      ]
     },
     "execution_count": 47,
     "metadata": {},
     "output_type": "execute_result"
    }
   ],
   "source": [
    "seleccion"
   ]
  }
 ],
 "metadata": {
  "kernelspec": {
   "display_name": "Python 3",
   "language": "python",
   "name": "python3"
  },
  "language_info": {
   "codemirror_mode": {
    "name": "ipython",
    "version": 3
   },
   "file_extension": ".py",
   "mimetype": "text/x-python",
   "name": "python",
   "nbconvert_exporter": "python",
   "pygments_lexer": "ipython3",
   "version": "3.7.4"
  }
 },
 "nbformat": 4,
 "nbformat_minor": 4
}
