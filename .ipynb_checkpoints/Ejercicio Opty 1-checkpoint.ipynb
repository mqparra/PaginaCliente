{
 "cells": [
  {
   "cell_type": "code",
   "execution_count": 17,
   "metadata": {},
   "outputs": [],
   "source": [
    "from gurobipy import *\n",
    "\n",
    "model= Model(\"Hello\")"
   ]
  },
  {
   "cell_type": "code",
   "execution_count": 18,
   "metadata": {},
   "outputs": [],
   "source": [
    "x=model.addVar(obj=3000,vtype=\"C\",name=\"X\")\n",
    "y=model.addVar(obj=4000,vtype=\"C\",name=\"Y\")"
   ]
  },
  {
   "cell_type": "code",
   "execution_count": 19,
   "metadata": {},
   "outputs": [],
   "source": [
    "model.update()"
   ]
  },
  {
   "cell_type": "code",
   "execution_count": 20,
   "metadata": {},
   "outputs": [
    {
     "name": "stdout",
     "output_type": "stream",
     "text": [
      "Optimize a model with 2 rows, 2 columns and 4 nonzeros\n",
      "Coefficient statistics:\n",
      "  Matrix range     [5e+00, 7e+00]\n",
      "  Objective range  [3e+03, 4e+03]\n",
      "  Bounds range     [0e+00, 0e+00]\n",
      "  RHS range        [5e+00, 1e+01]\n",
      "Presolve time: 0.01s\n",
      "Presolved: 2 rows, 2 columns, 4 nonzeros\n",
      "\n",
      "Iteration    Objective       Primal Inf.    Dual Inf.      Time\n",
      "       0    0.0000000e+00   1.875000e+00   0.000000e+00      0s\n",
      "       1    6.0000000e+03   0.000000e+00   0.000000e+00      0s\n",
      "\n",
      "Solved in 1 iterations and 0.02 seconds\n",
      "Optimal objective  6.000000000e+03\n"
     ]
    }
   ],
   "source": [
    "L1=LinExpr([5,6],[x,y])\n",
    "model.addConstr(L1,'>=',10)\n",
    "\n",
    "L2=LinExpr([7,5],[x,y])\n",
    "model.addConstr(L2,'>=',5)\n",
    "\n",
    "model.ModelSense=1\n",
    "model.optimize()"
   ]
  },
  {
   "cell_type": "code",
   "execution_count": 21,
   "metadata": {},
   "outputs": [
    {
     "name": "stdout",
     "output_type": "stream",
     "text": [
      "Valor Optimo =  6000.0 \n",
      "x*= 2.0 \n",
      "y*= 0.0\n"
     ]
    }
   ],
   "source": [
    "if model.Status==GRB.OPTIMAL:\n",
    "    print('Valor Optimo = ',model.ObjVal,\n",
    "         '\\nx*=',x.X,\n",
    "         '\\ny*=',y.X)"
   ]
  },
  {
   "cell_type": "code",
   "execution_count": null,
   "metadata": {},
   "outputs": [],
   "source": []
  }
 ],
 "metadata": {
  "kernelspec": {
   "display_name": "Python 3",
   "language": "python",
   "name": "python3"
  },
  "language_info": {
   "codemirror_mode": {
    "name": "ipython",
    "version": 3
   },
   "file_extension": ".py",
   "mimetype": "text/x-python",
   "name": "python",
   "nbconvert_exporter": "python",
   "pygments_lexer": "ipython3",
   "version": "3.7.4"
  }
 },
 "nbformat": 4,
 "nbformat_minor": 4
}
