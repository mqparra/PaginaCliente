{
 "cells": [
  {
   "cell_type": "markdown",
   "metadata": {},
   "source": [
    "# Sistemas de ecuaciones segun matrices"
   ]
  },
  {
   "cell_type": "markdown",
   "metadata": {},
   "source": [
    "## Imports"
   ]
  },
  {
   "cell_type": "code",
   "execution_count": 1,
   "metadata": {},
   "outputs": [],
   "source": [
    "import numpy as np\n",
    "np.set_printoptions(suppress=True)\n",
    "%matplotlib inline"
   ]
  },
  {
   "cell_type": "markdown",
   "metadata": {},
   "source": [
    "1. Primero debemos crear nuestra matriz la cual presenta n filas y m columnas\n",
    "2. Ademas devemos generar el vector que supuestamente seria la solucion de este problema"
   ]
  },
  {
   "cell_type": "code",
   "execution_count": 18,
   "metadata": {},
   "outputs": [],
   "source": [
    "#                  1,2,3,4,5,6,7,8,9,10\n",
    "z=8.63187\n",
    "i=0.006\n",
    "matriz =np.array([[1,0,0,0,0,1],\n",
    "                  [0,2,0,0,0,0],\n",
    "                  [2,1,0,2,2,1],\n",
    "                  [0,0,2,0,0,0],\n",
    "                  [0,0,0,1,0,0],\n",
    "                  [i,0,i,i,i,i-1]])\n",
    "vector_sol=np.array([5.25,6.48,0.521+2*z,0.051+2*z*3.76,0.0304,0])"
   ]
  },
  {
   "cell_type": "code",
   "execution_count": 19,
   "metadata": {},
   "outputs": [
    {
     "name": "stdout",
     "output_type": "stream",
     "text": [
      "[[ 1.     0.     0.     0.     0.     1.   ]\n",
      " [ 0.     2.     0.     0.     0.     0.   ]\n",
      " [ 2.     1.     0.     2.     2.     1.   ]\n",
      " [ 0.     0.     2.     0.     0.     0.   ]\n",
      " [ 0.     0.     0.     1.     0.     0.   ]\n",
      " [ 0.006  0.     0.006  0.006  0.006 -0.994]]\n"
     ]
    }
   ],
   "source": [
    "print(matriz)"
   ]
  },
  {
   "cell_type": "code",
   "execution_count": 20,
   "metadata": {},
   "outputs": [
    {
     "name": "stdout",
     "output_type": "stream",
     "text": [
      "[ 5.011  3.24  32.481  0.03   2.112  0.239]\n"
     ]
    }
   ],
   "source": [
    "sol=np.linalg.solve(matriz,vector_sol)\n",
    "print(np.around(sol,3))\n"
   ]
  },
  {
   "cell_type": "markdown",
   "metadata": {},
   "source": [
    "## Producto punto entre 2 vectores"
   ]
  },
  {
   "cell_type": "code",
   "execution_count": 5,
   "metadata": {},
   "outputs": [
    {
     "name": "stdout",
     "output_type": "stream",
     "text": [
      "1264.4859136000002\n"
     ]
    }
   ],
   "source": [
    "v2=[44,18,28,64,32,28]\n",
    "print(np.dot(sol,v2))"
   ]
  },
  {
   "cell_type": "markdown",
   "metadata": {},
   "source": [
    "## otra matriz"
   ]
  },
  {
   "cell_type": "code",
   "execution_count": 15,
   "metadata": {},
   "outputs": [],
   "source": [
    "\n",
    "z=11.3\n",
    "f=0.003\n",
    "#                  1,2,3,4,5,Z\n",
    "matriz =np.array([[1,0,0,0,1],\n",
    "                  [0,2,0,0,0],\n",
    "                  [2,1,0,2,1],\n",
    "                  [0,0,2,0,0],\n",
    "                  [f,0,f,f,f-1]])\n",
    "vector_sol=np.array([6.83,12.2,0.13+2*z,0.06+z*2*3.76,0])"
   ]
  },
  {
   "cell_type": "code",
   "execution_count": 16,
   "metadata": {},
   "outputs": [
    {
     "name": "stdout",
     "output_type": "stream",
     "text": [
      "[[ 1.     0.     0.     0.     1.   ]\n",
      " [ 0.     2.     0.     0.     0.   ]\n",
      " [ 2.     1.     0.     2.     1.   ]\n",
      " [ 0.     0.     2.     0.     0.   ]\n",
      " [ 0.003  0.     0.003  0.003 -0.997]]\n"
     ]
    }
   ],
   "source": [
    "print(matriz)"
   ]
  },
  {
   "cell_type": "code",
   "execution_count": 17,
   "metadata": {},
   "outputs": [
    {
     "name": "stdout",
     "output_type": "stream",
     "text": [
      "[ 6.67727  6.1     42.518    1.56136  0.15273]\n"
     ]
    }
   ],
   "source": [
    "sol=np.linalg.solve(matriz,vector_sol)\n",
    "print(np.around(sol,5))\n"
   ]
  },
  {
   "cell_type": "code",
   "execution_count": 18,
   "metadata": {},
   "outputs": [
    {
     "name": "stdout",
     "output_type": "stream",
     "text": [
      "1698.3076494742113\n"
     ]
    }
   ],
   "source": [
    "v2=[44,18,28,64,28]\n",
    "print(np.dot(sol,v2))"
   ]
  },
  {
   "cell_type": "markdown",
   "metadata": {},
   "source": [
    "###  Otra matriz"
   ]
  },
  {
   "cell_type": "code",
   "execution_count": 2,
   "metadata": {},
   "outputs": [
    {
     "name": "stdout",
     "output_type": "stream",
     "text": [
      "[[ 1.     0.     0.     1.     0.     0.   ]\n",
      " [ 0.     2.     0.     0.     0.     0.   ]\n",
      " [ 2.     1.     0.     1.     2.    -2.   ]\n",
      " [ 0.     0.     2.     0.     0.    -7.52 ]\n",
      " [ 0.001  0.     0.001 -0.999  0.001  0.   ]\n",
      " [ 0.15   0.     0.15   0.15  -0.85   0.   ]]\n"
     ]
    }
   ],
   "source": [
    "\n",
    "f=0.001 #CO\n",
    "g=0.15  #O_2\n",
    "#                  1,2,3,4,5,Z\n",
    "matriz =np.array([[1,0,0,1,0,0],\n",
    "                  [0,2,0,0,0,0],\n",
    "                  [2,1,0,1,2,-2],\n",
    "                  [0,0,2,0,0,-2*3.76],\n",
    "                  [f,0,f,f-1,f,0],\n",
    "                  [g,0,g,g,g-1,0]])\n",
    "vector_sol=np.array([80*12+20*19,80*24+20*35,20*2,0,0,0])\n",
    "print(matriz)"
   ]
  },
  {
   "cell_type": "code",
   "execution_count": 3,
   "metadata": {},
   "outputs": [
    {
     "name": "stdout",
     "output_type": "stream",
     "text": [
      "[ 1309.54981  1310.      24542.65944    30.45019  4567.52814  6527.30304]\n"
     ]
    }
   ],
   "source": [
    "sol=np.linalg.solve(matriz,vector_sol)\n",
    "print(np.around(sol,5))\n"
   ]
  },
  {
   "cell_type": "code",
   "execution_count": 94,
   "metadata": {},
   "outputs": [
    {
     "name": "stdout",
     "output_type": "stream",
     "text": [
      "[ 1309.54981242  1310.         24542.65944143    30.45018758\n",
      "  4567.52813672]\n"
     ]
    },
    {
     "data": {
      "text/plain": [
       "915408.1617340555"
      ]
     },
     "execution_count": 94,
     "metadata": {},
     "output_type": "execute_result"
    }
   ],
   "source": [
    "sol=np.array(sol[0:len(sol)-1])\n",
    "print(sol)\n",
    "np.dot(sol,np.array([44,18,28,28,32]))\n"
   ]
  },
  {
   "cell_type": "code",
   "execution_count": 5,
   "metadata": {},
   "outputs": [
    {
     "name": "stdout",
     "output_type": "stream",
     "text": [
      "[[ 1.     0.     0.     1.     0.   ]\n",
      " [ 0.     2.     0.     0.     0.   ]\n",
      " [ 0.     0.     2.     0.     0.   ]\n",
      " [ 0.001  0.     0.001 -0.999  0.001]\n",
      " [ 0.15   0.     0.15   0.15  -0.85 ]]\n"
     ]
    }
   ],
   "source": [
    "k1=80*2/19340\n",
    "k2=20*2/19340\n",
    "Z=1975*92/271128\n",
    "f=0.001 #CO\n",
    "g=0.15  #O_2\n",
    "#                  1,2,3,4,5,Z\n",
    "matriz =np.array([[1,0,0,1,0],\n",
    "                  [0,2,0,0,0],\n",
    "                  [0,0,2,0,0],\n",
    "                  [f,0,f,f-1,f],\n",
    "                  [g,0,g,g,g-1]])\n",
    "vector_sol=np.array([k1*12+k2*19,k1*24+k2*35,2*3.76*Z,0,0])\n",
    "print(matriz)\n",
    "\n"
   ]
  },
  {
   "cell_type": "code",
   "execution_count": 6,
   "metadata": {},
   "outputs": [
    {
     "name": "stdout",
     "output_type": "stream",
     "text": [
      "[0.13545 0.13547 2.51981 0.00313 0.46913]\n"
     ]
    }
   ],
   "source": [
    "sol=np.linalg.solve(matriz,vector_sol)\n",
    "print(np.around(sol,5))\n"
   ]
  },
  {
   "cell_type": "code",
   "execution_count": null,
   "metadata": {},
   "outputs": [],
   "source": []
  }
 ],
 "metadata": {
  "kernelspec": {
   "display_name": "Python 3",
   "language": "python",
   "name": "python3"
  },
  "language_info": {
   "codemirror_mode": {
    "name": "ipython",
    "version": 3
   },
   "file_extension": ".py",
   "mimetype": "text/x-python",
   "name": "python",
   "nbconvert_exporter": "python",
   "pygments_lexer": "ipython3",
   "version": "3.7.4"
  }
 },
 "nbformat": 4,
 "nbformat_minor": 4
}
