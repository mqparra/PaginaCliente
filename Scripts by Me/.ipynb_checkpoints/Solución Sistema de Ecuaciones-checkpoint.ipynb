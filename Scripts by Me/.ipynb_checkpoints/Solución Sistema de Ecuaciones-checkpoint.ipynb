{
 "cells": [
  {
   "cell_type": "markdown",
   "metadata": {},
   "source": [
    "# Sistemas de ecuaciones segun matrices"
   ]
  },
  {
   "cell_type": "markdown",
   "metadata": {},
   "source": [
    "## Imports"
   ]
  },
  {
   "cell_type": "code",
   "execution_count": 17,
   "metadata": {},
   "outputs": [],
   "source": [
    "import numpy as np\n",
    "np.set_printoptions(suppress=True)\n",
    "%matplotlib inline"
   ]
  },
  {
   "cell_type": "markdown",
   "metadata": {},
   "source": [
    "1. Primero debemos crear nuestra matriz la cual presenta n filas y m columnas\n",
    "2. Ademas devemos generar el vector que supuestamente seria la solucion de este problema"
   ]
  },
  {
   "cell_type": "code",
   "execution_count": 18,
   "metadata": {},
   "outputs": [],
   "source": [
    "#                  1,2,3,4,5,6,7,8,9,10\n",
    "z=8.63187\n",
    "i=0.006\n",
    "matriz =np.array([[1,0,0,0,0,1],\n",
    "                  [0,2,0,0,0,0],\n",
    "                  [2,1,0,2,2,1],\n",
    "                  [0,0,2,0,0,0],\n",
    "                  [0,0,0,1,0,0],\n",
    "                  [i,0,i,i,i,i-1]])\n",
    "vector_sol=np.array([5.25,6.48,0.521+2*z,0.051+2*z*3.76,0.0304,0])"
   ]
  },
  {
   "cell_type": "code",
   "execution_count": 19,
   "metadata": {},
   "outputs": [
    {
     "name": "stdout",
     "output_type": "stream",
     "text": [
      "[[ 1.     0.     0.     0.     0.     1.   ]\n",
      " [ 0.     2.     0.     0.     0.     0.   ]\n",
      " [ 2.     1.     0.     2.     2.     1.   ]\n",
      " [ 0.     0.     2.     0.     0.     0.   ]\n",
      " [ 0.     0.     0.     1.     0.     0.   ]\n",
      " [ 0.006  0.     0.006  0.006  0.006 -0.994]]\n"
     ]
    }
   ],
   "source": [
    "print(matriz)"
   ]
  },
  {
   "cell_type": "code",
   "execution_count": 20,
   "metadata": {},
   "outputs": [
    {
     "name": "stdout",
     "output_type": "stream",
     "text": [
      "[ 5.011  3.24  32.481  0.03   2.112  0.239]\n"
     ]
    }
   ],
   "source": [
    "sol=np.linalg.solve(matriz,vector_sol)\n",
    "print(np.around(sol,3))\n"
   ]
  },
  {
   "cell_type": "markdown",
   "metadata": {},
   "source": [
    "## Producto punto entre 2 vectores"
   ]
  },
  {
   "cell_type": "code",
   "execution_count": 5,
   "metadata": {},
   "outputs": [
    {
     "name": "stdout",
     "output_type": "stream",
     "text": [
      "1264.4859136000002\n"
     ]
    }
   ],
   "source": [
    "v2=[44,18,28,64,32,28]\n",
    "print(np.dot(sol,v2))"
   ]
  },
  {
   "cell_type": "markdown",
   "metadata": {},
   "source": [
    "## otra matriz"
   ]
  },
  {
   "cell_type": "code",
   "execution_count": 24,
   "metadata": {},
   "outputs": [],
   "source": [
    "\n",
    "ze=5.775462963\n",
    "f=0.083\n",
    "g=0.007\n",
    "#                  1,2,3,4,5,6,Z\n",
    "matriz =np.array([[1,0,0,0,0,1,0],\n",
    "                  [0,2,0,0,0,0,0],\n",
    "                  [2,1,0,2,2,1,-2],\n",
    "                  [0,0,2,0,0,0,-2*3.76],\n",
    "                  [0,0,0,1,0,0,0],\n",
    "                  [f,0,f,f,f-1,f,0],\n",
    "                  [g,0,g,g,g,g-1,0]])\n",
    "vector_sol=np.array([5.0380,4.9000,1.0250,0.0786,0.0250,0,0])"
   ]
  },
  {
   "cell_type": "code",
   "execution_count": 25,
   "metadata": {},
   "outputs": [
    {
     "name": "stdout",
     "output_type": "stream",
     "text": [
      "[[ 1.     0.     0.     0.     0.     1.     0.   ]\n",
      " [ 0.     2.     0.     0.     0.     0.     0.   ]\n",
      " [ 2.     1.     0.     2.     2.     1.    -2.   ]\n",
      " [ 0.     0.     2.     0.     0.     0.    -7.52 ]\n",
      " [ 0.     0.     0.     1.     0.     0.     0.   ]\n",
      " [ 0.083  0.     0.083  0.083 -0.917  0.083  0.   ]\n",
      " [ 0.007  0.     0.007  0.007  0.007 -0.993  0.   ]]\n"
     ]
    }
   ],
   "source": [
    "print(matriz)"
   ]
  },
  {
   "cell_type": "code",
   "execution_count": 26,
   "metadata": {},
   "outputs": [
    {
     "name": "stdout",
     "output_type": "stream",
     "text": [
      "[ 4.73427  2.45    34.72517  0.025    3.60133  0.30373  9.22496]\n"
     ]
    }
   ],
   "source": [
    "sol=np.linalg.solve(matriz,vector_sol)\n",
    "print(np.around(sol,5))\n"
   ]
  },
  {
   "cell_type": "code",
   "execution_count": null,
   "metadata": {},
   "outputs": [],
   "source": []
  }
 ],
 "metadata": {
  "kernelspec": {
   "display_name": "Python 3",
   "language": "python",
   "name": "python3"
  },
  "language_info": {
   "codemirror_mode": {
    "name": "ipython",
    "version": 3
   },
   "file_extension": ".py",
   "mimetype": "text/x-python",
   "name": "python",
   "nbconvert_exporter": "python",
   "pygments_lexer": "ipython3",
   "version": "3.7.4"
  }
 },
 "nbformat": 4,
 "nbformat_minor": 4
}
