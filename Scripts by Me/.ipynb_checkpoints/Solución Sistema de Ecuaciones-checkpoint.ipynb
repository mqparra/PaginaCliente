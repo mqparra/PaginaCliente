{
 "cells": [
  {
   "cell_type": "markdown",
   "metadata": {},
   "source": [
    "# Sistemas de ecuaciones segun matrices"
   ]
  },
  {
   "cell_type": "markdown",
   "metadata": {},
   "source": [
    "## Imports"
   ]
  },
  {
   "cell_type": "code",
   "execution_count": 26,
   "metadata": {},
   "outputs": [],
   "source": [
    "import numpy as np\n",
    "np.set_printoptions(suppress=True)\n",
    "%matplotlib inline"
   ]
  },
  {
   "cell_type": "markdown",
   "metadata": {},
   "source": [
    "1. Primero debemos crear nuestra matriz la cual presenta n filas y m columnas\n",
    "2. Ademas devemos generar el vector que supuestamente seria la solucion de este problema"
   ]
  },
  {
   "cell_type": "code",
   "execution_count": 27,
   "metadata": {},
   "outputs": [],
   "source": [
    "#                  1,2,3,4,5,6,7,8,9,10\n",
    "z=8.63187\n",
    "i=0.006\n",
    "matriz =np.array([[1,0,0,0,0,1],\n",
    "                  [0,2,0,0,0,0],\n",
    "                  [2,1,0,2,2,1],\n",
    "                  [0,0,2,0,0,0],\n",
    "                  [0,0,0,1,0,0],\n",
    "                  [i,0,i,i,i,i-1]])\n",
    "vector_sol=np.array([5.25,6.48,0.521+2*z,0.051+2*z*3.76,0.0304,0])"
   ]
  },
  {
   "cell_type": "code",
   "execution_count": 28,
   "metadata": {},
   "outputs": [
    {
     "name": "stdout",
     "output_type": "stream",
     "text": [
      "[[ 1.     0.     0.     0.     0.     1.   ]\n",
      " [ 0.     2.     0.     0.     0.     0.   ]\n",
      " [ 2.     1.     0.     2.     2.     1.   ]\n",
      " [ 0.     0.     2.     0.     0.     0.   ]\n",
      " [ 0.     0.     0.     1.     0.     0.   ]\n",
      " [ 0.006  0.     0.006  0.006  0.006 -0.994]]\n"
     ]
    }
   ],
   "source": [
    "print(matriz)"
   ]
  },
  {
   "cell_type": "code",
   "execution_count": 29,
   "metadata": {},
   "outputs": [
    {
     "name": "stdout",
     "output_type": "stream",
     "text": [
      "[ 5.011  3.24  32.481  0.03   2.112  0.239]\n"
     ]
    }
   ],
   "source": [
    "print(np.around(np.linalg.solve(matriz,vector_sol),3))"
   ]
  },
  {
   "cell_type": "code",
   "execution_count": null,
   "metadata": {},
   "outputs": [],
   "source": []
  }
 ],
 "metadata": {
  "kernelspec": {
   "display_name": "Python 3",
   "language": "python",
   "name": "python3"
  },
  "language_info": {
   "codemirror_mode": {
    "name": "ipython",
    "version": 3
   },
   "file_extension": ".py",
   "mimetype": "text/x-python",
   "name": "python",
   "nbconvert_exporter": "python",
   "pygments_lexer": "ipython3",
   "version": "3.7.4"
  }
 },
 "nbformat": 4,
 "nbformat_minor": 4
}
