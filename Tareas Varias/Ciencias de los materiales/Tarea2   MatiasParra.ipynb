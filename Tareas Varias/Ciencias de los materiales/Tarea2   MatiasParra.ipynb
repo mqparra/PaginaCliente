{
 "cells": [
  {
   "cell_type": "markdown",
   "metadata": {},
   "source": [
    "# Tarea 2"
   ]
  },
  {
   "cell_type": "markdown",
   "metadata": {},
   "source": [
    "## Funcion de vacancias segun su temperatura (°K)"
   ]
  },
  {
   "cell_type": "code",
   "execution_count": 1,
   "metadata": {},
   "outputs": [],
   "source": [
    "import matplotlib.pyplot as plt\n",
    "import matplotlib as mpl\n",
    "import seaborn as sns\n",
    "import numpy as np\n",
    "\n",
    "t=np.linspace(273,1000,10000)\n",
    "f_numero_vac= lambda t,n,E,k: n*np.exp(1)*np.exp(-E/(k*t))\n",
    "vac_t=f_numero_vac(t,6.032*10**28,0.68,8.61*10**-5)"
   ]
  },
  {
   "cell_type": "markdown",
   "metadata": {},
   "source": [
    "### Valor a 500 °C ->773 °K  por m^3"
   ]
  },
  {
   "cell_type": "code",
   "execution_count": 9,
   "metadata": {},
   "outputs": [
    {
     "name": "stdout",
     "output_type": "stream",
     "text": [
      "El numero de vacancias en 1 m^3 de alumino a 500 °C es 5.991557477313274e+24 vacancias.\n"
     ]
    }
   ],
   "source": [
    "vac_500=f_numero_vac(773,6.032*10**28,0.68,8.61*10**-5)\n",
    "print('El numero de vacancias en 1 m^3 de alumino a 500 °C es {} vacancias.'.format(vac_500))"
   ]
  },
  {
   "cell_type": "code",
   "execution_count": 7,
   "metadata": {},
   "outputs": [
    {
     "name": "stdout",
     "output_type": "stream",
     "text": [
      "El numero de vacancias en 1 kg de alumino a 500 °C es 2.2168762666059117e+21 vacancias.\n"
     ]
    }
   ],
   "source": [
    "#ahora por solo 1 kg de aluminio. \n",
    "# volumen de muestra =*3.7*10**-4 m^3\n",
    "vac_500_1kg=f_numero_vac(773,6.032*10**28,0.68,8.61*10**-5)*3.7*10**-4\n",
    "print('El numero de vacancias en 1 kg de alumino a 500 °C es {} vacancias.'.format(vac_500_1kg))"
   ]
  },
  {
   "cell_type": "markdown",
   "metadata": {},
   "source": [
    "### Gráfico hermoso de vacancias."
   ]
  },
  {
   "cell_type": "code",
   "execution_count": 10,
   "metadata": {
    "scrolled": true
   },
   "outputs": [
    {
     "data": {
      "image/png": "[encoded data removed]",
      "text/plain": [
       "<Figure size 864x360 with 1 Axes>"
      ]
     },
     "metadata": {
      "needs_background": "light"
     },
     "output_type": "display_data"
    }
   ],
   "source": [
    "plt.figure(figsize=(12,5))\n",
    "plt.plot(t, vac_t*3.7*10**-4,label=\"Cuerva vacancias\")\n",
    "plt.title('Función vacancias')\n",
    "plt.ylabel('Cantidad por 1 kg')\n",
    "plt.xlabel('Temperatura K')\n",
    "plt.legend(loc='best')\n",
    "plt.show()"
   ]
  },
  {
   "cell_type": "markdown",
   "metadata": {},
   "source": [
    "###  Valor de vacancias a 25 °C -> 298 °K"
   ]
  },
  {
   "cell_type": "code",
   "execution_count": 19,
   "metadata": {},
   "outputs": [
    {
     "name": "stdout",
     "output_type": "stream",
     "text": [
      "El numero de vacancias en 1 m^3 de alumino a 25 °C es 5.067525822775971e+17 vacancias.\n"
     ]
    }
   ],
   "source": [
    "T=298\n",
    "vac_500=f_numero_vac(T,6.032*10**28,0.68,8.61*10**-5)\n",
    "print('El numero de vacancias en 1 m^3 de alumino a {} °C es {} vacancias.'.format(T-273,vac_500))"
   ]
  },
  {
   "cell_type": "code",
   "execution_count": 18,
   "metadata": {},
   "outputs": [
    {
     "name": "stdout",
     "output_type": "stream",
     "text": [
      "El numero de vacancias en 1 kg de alumino a 25 °C es 187498455442710.94 vacancias.\n"
     ]
    }
   ],
   "source": [
    "#ahora por solo 1 kg de aluminio. \n",
    "# volumen de muestra =*3.7*10**-4 m^3\n",
    "T=298\n",
    "vac_500_1kg=f_numero_vac(T,6.032*10**28,0.68,8.61*10**-5)*3.7*10**-4\n",
    "print('El numero de vacancias en 1 kg de alumino a {} °C es {} vacancias.'.format(T-273,vac_500_1kg))"
   ]
  },
  {
   "cell_type": "markdown",
   "metadata": {},
   "source": [
    "###  Valor de vacancias a 350 °C -> 623 °K"
   ]
  },
  {
   "cell_type": "code",
   "execution_count": 15,
   "metadata": {},
   "outputs": [
    {
     "name": "stdout",
     "output_type": "stream",
     "text": [
      "El numero de vacancias en 1 m^3 de alumino a 350 °C es 5.119047361255985e+23 vacancias.\n"
     ]
    }
   ],
   "source": [
    "T=623\n",
    "vac_500=f_numero_vac(T,6.032*10**28,0.68,8.61*10**-5)\n",
    "print('El numero de vacancias en 1 m^3 de alumino a {} °C es {} vacancias.'.format(T-273,vac_500))"
   ]
  },
  {
   "cell_type": "code",
   "execution_count": 17,
   "metadata": {},
   "outputs": [
    {
     "name": "stdout",
     "output_type": "stream",
     "text": [
      "El numero de vacancias en 1 kg de alumino a 350 °C es 1.8940475236647148e+20 vacancias.\n"
     ]
    }
   ],
   "source": [
    "#ahora por solo 1 kg de aluminio. \n",
    "# volumen de muestra =*3.7*10**-4 m^3\n",
    "T=623\n",
    "vac_500_1kg=f_numero_vac(T,6.032*10**28,0.68,8.61*10**-5)*3.7*10**-4\n",
    "print('El numero de vacancias en 1 kg de alumino a {} °C es {} vacancias.'.format(T-273,vac_500_1kg))"
   ]
  },
  {
   "cell_type": "code",
   "execution_count": null,
   "metadata": {},
   "outputs": [],
   "source": []
  }
 ],
 "metadata": {
  "kernelspec": {
   "display_name": "Python 3",
   "language": "python",
   "name": "python3"
  },
  "language_info": {
   "codemirror_mode": {
    "name": "ipython",
    "version": 3
   },
   "file_extension": ".py",
   "mimetype": "text/x-python",
   "name": "python",
   "nbconvert_exporter": "python",
   "pygments_lexer": "ipython3",
   "version": "3.7.4"
  }
 },
 "nbformat": 4,
 "nbformat_minor": 4
}
