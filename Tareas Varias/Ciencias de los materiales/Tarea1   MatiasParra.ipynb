{
 "cells": [
  {
   "cell_type": "markdown",
   "metadata": {},
   "source": [
    "# Desarrollo de la tarea:\n"
   ]
  },
  {
   "cell_type": "code",
   "execution_count": 1,
   "metadata": {
    "scrolled": false
   },
   "outputs": [
    {
     "name": "stdout",
     "output_type": "stream",
     "text": [
      "IPython console for SymPy 1.6.2 (Python 3.7.4-64-bit) (ground types: python)\n",
      "\n",
      "These commands were executed:\n",
      ">>> from __future__ import division\n",
      ">>> from sympy import *\n",
      ">>> x, y, z, t = symbols('x y z t')\n",
      ">>> k, m, n = symbols('k m n', integer=True)\n",
      ">>> f, g, h = symbols('f g h', cls=Function)\n",
      ">>> init_printing()\n",
      "\n",
      "Documentation can be found at https://docs.sympy.org/1.6.2/\n",
      "\n"
     ]
    }
   ],
   "source": [
    "from sympy import init_session\n",
    "init_session(use_latex=True)"
   ]
  },
  {
   "cell_type": "markdown",
   "metadata": {},
   "source": [
    "## Ejercicio 1:\n",
    "Suponga que tiene un átomo con un electrón orbitando al núcleo (modelo de Bohr) con niveles de energía -217,87eV (en su nivel fundamental), -54,47 y -24,21 eV para los niveles 2 y 3 respectivamente. Al respecto:\n"
   ]
  },
  {
   "cell_type": "markdown",
   "metadata": {},
   "source": [
    "### a) ¿Cuáles son las frecuencias y longitudes de onda de las líneas espectrales que este átomo puede emitirentre estos tres niveles? ¿a qué tipo de serie corresponden cada una? Esquematice laslíneas espectrales y señale el color al cual correspondería cada una."
   ]
  },
  {
   "cell_type": "markdown",
   "metadata": {},
   "source": [
    "Según  el  modelo  semi-clásico,  las  líneas  de  emisión  tienen  un  ancho  infinitesimal  y  su  ubicación corresponde a la longitud de onda de una emisión con energía igual a la diferencia energética entre los niveles  superior  e  inferior  involucrados  en  el  salto  del  electrón. Por medio de las ecuaciones de energia cianetica y potencial y finalmente por la 2 ley de Newton obtenemos que la energia segun el numero cuantico $n$ sera de :\n",
    "$$\\displaystyle E_n =- 13.617 \\cdot \\frac{ Z^{2}}{n^{2}}eV$$\n",
    "Si bien tenemos esta ecuacion, ya nos dan las respectivas energias segun sus nieveles:\n",
    "1. $E_1=-217,87\\space eV$\n",
    "2. $E_2=-54,47\\space eV$\n",
    "3. $E_3= -24,21\\space eV$\n",
    "A la vez sabemos que la diferencia entre los las energias sera lo mismo que :\n",
    "$$\\Delta E_n = E_{Em}=h\\cdot v_0 =h\\cdot \\frac{c}{\\lambda}$$\n",
    "Donde $h$ seria la constante de Plank , $v$ seria la frecuencia de las lineas espectrales y $c$ es la velocidad de la luz."
   ]
  },
  {
   "cell_type": "markdown",
   "metadata": {},
   "source": [
    "A continuacion definiremos algunas constantes que nos seran de ayuda en el proceso de solucion"
   ]
  },
  {
   "cell_type": "code",
   "execution_count": 2,
   "metadata": {},
   "outputs": [],
   "source": [
    "E_1,E_2,E_3,h,c,R=symbols('E_1,E_2,E_3,h,c,R')\n",
    "v=symbols('v_0',real=True,positive=True)\n",
    "lamb=symbols('lambda',real=True)\n",
    "E_1,E_2,E_3=-217.87,-54.47,-24.21 #eV\n",
    "h=4.136*10**(-15)#eV/s\n",
    "c=3*10**8 #m/s\n"
   ]
  },
  {
   "cell_type": "markdown",
   "metadata": {},
   "source": [
    "Por curiosidad buscaremos el valor del Numero atomico de este atomo, donde obtendremos a continucaion que es $Z=4$, es decir es el atomo de Berilio."
   ]
  },
  {
   "cell_type": "code",
   "execution_count": 3,
   "metadata": {
    "scrolled": true
   },
   "outputs": [
    {
     "data": {
      "image/png": "[encoded data removed]",
      "text/latex": [
       "$\\displaystyle 3.99998164055418$"
      ],
      "text/plain": [
       "3.99998164055418"
      ]
     },
     "execution_count": 3,
     "metadata": {},
     "output_type": "execute_result"
    }
   ],
   "source": [
    "Z,n=symbols('Z,n',real=True,positive=True)\n",
    "n=1\n",
    "solve(Eq(E_1,-13.617* Z**2/n**2),Z)[0]"
   ]
  },
  {
   "cell_type": "markdown",
   "metadata": {},
   "source": [
    "Ahora buscaremos para el primer salto energetico entre losniveles 1 y 2, las frecuencias y la longitud de onda."
   ]
  },
  {
   "cell_type": "code",
   "execution_count": 4,
   "metadata": {
    "scrolled": true
   },
   "outputs": [
    {
     "name": "stdout",
     "output_type": "stream",
     "text": [
      "Diferencia de energia= 163.4[eV], v_0 = 3.95067698259188E+16[Hz], lambda =7.59363525091799[nm]\n"
     ]
    }
   ],
   "source": [
    "v_s=solve(Eq(E_2-E_1,h*v),v)[0]\n",
    "lamb_s=solve(Eq(E_2-E_1,h*c/lamb),lamb)[0]*10**9\n",
    "print('Diferencia de energia= {}[eV], v_0 = {}[Hz], lambda ={}[nm]'.format(E_2-E_1,v_s,lamb_s))"
   ]
  },
  {
   "cell_type": "markdown",
   "metadata": {},
   "source": [
    "Ahora buscaremos para el primer salto energetico entre losniveles 2 y 3, las frecuencias y la longitud de onda."
   ]
  },
  {
   "cell_type": "code",
   "execution_count": 5,
   "metadata": {
    "scrolled": true
   },
   "outputs": [
    {
     "name": "stdout",
     "output_type": "stream",
     "text": [
      "Diferencia de energia= 30.259999999999998[eV], v_0 = 7.31624758220503E+15[Hz], lambda =41.0046265697290[nm]\n"
     ]
    }
   ],
   "source": [
    "v_s=solve(Eq(E_3-E_2,h*v),v)[0]\n",
    "lamb_s=solve(Eq(E_3-E_2,h*c/lamb),lamb)[0]*10**9\n",
    "print('Diferencia de energia= {}[eV], v_0 = {}[Hz], lambda ={}[nm]'.format(E_3-E_2,v_s,lamb_s))"
   ]
  },
  {
   "cell_type": "markdown",
   "metadata": {},
   "source": [
    "Ahora buscaremos para el primer salto energetico entre losniveles 1 y 3, las frecuencias y la longitud de onda."
   ]
  },
  {
   "cell_type": "code",
   "execution_count": 6,
   "metadata": {
    "scrolled": true
   },
   "outputs": [
    {
     "name": "stdout",
     "output_type": "stream",
     "text": [
      "Diferencia de energia= 193.66[eV], v_0 = 4.68230174081238E+16[Hz], lambda =6.40710523598058[nm]\n"
     ]
    }
   ],
   "source": [
    "v_s=solve(Eq(E_3-E_1,h*v),v)[0]\n",
    "lamb_s=solve(Eq(E_3-E_1,h*c/lamb),lamb)[0]*10**9\n",
    "print('Diferencia de energia= {}[eV], v_0 = {}[Hz], lambda ={}[nm]'.format(E_3-E_1,v_s,lamb_s))"
   ]
  },
  {
   "cell_type": "markdown",
   "metadata": {},
   "source": [
    "Revisando los valores obtenidos podemos decir que las 3 lineas son Ultra violeta ya que no estan dentro del espectro visible $[3 \\space eV,1.8\\space eV]$ con respecto a la diferncias de energia ni tampoco segun la longitud de onda. Por esto tambien se puede decie que las 3 estan dentro de una serie de Lyman y son de tonos violetas (aunque no las podemos observar)"
   ]
  },
  {
   "cell_type": "markdown",
   "metadata": {},
   "source": [
    "### b) ¿Qué longitudes de onda puede absorber este átomo si se encuentra en su nivel fundamental?"
   ]
  },
  {
   "cell_type": "markdown",
   "metadata": {},
   "source": [
    "Para obtener estas longitudes basta seguir la ecuacion de las series de liman:\n",
    "$$\\lambda_n=\\frac{h\\cdot c}{E_n}$$\n",
    "Como nos encontramos en el nivel fundamental el valor de $n=1$"
   ]
  },
  {
   "cell_type": "code",
   "execution_count": 7,
   "metadata": {},
   "outputs": [
    {
     "data": {
      "image/png": "[encoded data removed]",
      "text/latex": [
       "$\\displaystyle 7.59363525091799 \\cdot 10^{-9}$"
      ],
      "text/plain": [
       "7.59363525091799e-9"
      ]
     },
     "execution_count": 7,
     "metadata": {},
     "output_type": "execute_result"
    }
   ],
   "source": [
    "solve(Eq(lamb,h*c/(E_2-E_1)))[0]"
   ]
  },
  {
   "cell_type": "markdown",
   "metadata": {},
   "source": [
    "Este atomo puede recibir longitudes de ondas difernetes a las remitidas por las tranciciones de la pregunta anterior."
   ]
  },
  {
   "cell_type": "markdown",
   "metadata": {},
   "source": [
    "### c) Ahora considerando la explicación de Sommerfeld al desdoblamiento de las líneas espectrales, ¿Cuál(es)transición(es) podría(n)presentar desdoblamiento de estas líneas?"
   ]
  },
  {
   "cell_type": "markdown",
   "metadata": {},
   "source": [
    "El efecto del desdoblamineto hace que los electrones tiendan a situarse en los orbitales de energia menor. Por ende en este caso, sabiendo que hablamos del atomo de Berilio, podriamso decir que las tranciiones permitidas son:\n",
    "2p $\\rightarrow$ 1s; 3p $\\rightarrow$ 2s ; 3s $\\rightarrow$ 2p ; 3d $\\rightarrow$ 2p.\n",
    "Lo anterior cumple: $$\\Delta l=\\pm 1\\\\ \\Delta m_{l}=0,\\pm1$$"
   ]
  },
  {
   "cell_type": "markdown",
   "metadata": {},
   "source": [
    "### d) Si la función de trabajo que mantiene al electrón ligado es de 5 eV¿Cuál es la velocidad que podría alcanzar el electrón al superar el nivel energético de la pregunta anterior?"
   ]
  },
  {
   "cell_type": "markdown",
   "metadata": {},
   "source": [
    "Sabemos de antemano que la Energía de un fotón absorbido = Energía necesaria para liberar 1 electrón + energía cinética del electrón emitido. Es decir :\n",
    "$$h\\cdot v_o =\\phi + E_k\\\\v_0=\\frac{c}{\\lambda}\\\\ E_k=\\frac{1}{2}\\cdot m_e *v_{m}^2$$"
   ]
  },
  {
   "cell_type": "markdown",
   "metadata": {},
   "source": [
    "Teneiendo que $\\lambda=206[nm]$ , $\\phi=5[eV]=8,1*10^{-19}[J]$ y la masa del electron $m_e=9,1*10^{-31}\\space[Kg]$\n"
   ]
  },
  {
   "cell_type": "code",
   "execution_count": 8,
   "metadata": {},
   "outputs": [],
   "source": [
    "vm,m_e=symbols('v_s,m_e',real=True,positive=True)\n",
    "m_e=9.1*10**-31 #Kg\n",
    "c=3*10**8\n",
    "phi =8.1*10**-19 #J\n",
    "h=6.63 *10**-34 #Js\n",
    "lamb=206*10**-9"
   ]
  },
  {
   "cell_type": "code",
   "execution_count": 9,
   "metadata": {},
   "outputs": [
    {
     "name": "stdout",
     "output_type": "stream",
     "text": [
      "La velocidad que podría alcanzar el electrón al \n",
      "suministrarle una longitud de onda de 206 nm es 584664.796577659 m/s\n"
     ]
    }
   ],
   "source": [
    "sol=solve(Eq(h*c/lamb-phi,1/2*m_e*vm**2),vm)[0]\n",
    "print ('La velocidad que podría alcanzar el electrón al \\nsuministrarle una longitud de onda de 206 nm es {} m/s'.format(sol))"
   ]
  },
  {
   "cell_type": "markdown",
   "metadata": {},
   "source": [
    "## Ejercicio 2"
   ]
  },
  {
   "cell_type": "markdown",
   "metadata": {},
   "source": [
    "Considere un átomo de hidrógeno que experimenta una transición desde el nivel n=2 a su nivel fundamental, emitiendo unfotón con $\\lambda=122$ nm."
   ]
  },
  {
   "cell_type": "markdown",
   "metadata": {},
   "source": [
    "###  a) Si  el átomo semodela como un electrón en una caja unidimensionalcomo se muestra en la figura ¿cuál es el ancho de la caja, para que la transición de n=2 a n=1 corresponda a la emisión de un fotón con esta longitud de onda?"
   ]
  },
  {
   "cell_type": "markdown",
   "metadata": {},
   "source": [
    "Sabemos que se trata del hidrogeno y ademas nos dan el valor del $\\lambda=122\\space nm$. Con estos valores podemos saber cual es la diferencia de energias entre los niveles 1 y 2, ademas teniendo estas diferencias podemos obtener el valor de **a**. Ocupando la ecuacion $\\Delta E_n = E_{Em}=h\\cdot v_0 =h\\cdot \\frac{c}{\\lambda}$ y la ecuacion de energia de Schrödinguer segun nivel de energetico. $E_n=\\frac{n^2h^2\\pi^2}{2m_e\\cdot a^2}$"
   ]
  },
  {
   "cell_type": "code",
   "execution_count": 10,
   "metadata": {},
   "outputs": [
    {
     "data": {
      "image/png": "[encoded data removed]",
      "text/latex": [
       "$\\displaystyle 1.6303278688524586e-18$"
      ],
      "text/plain": [
       "1.6303278688524586e-18"
      ]
     },
     "execution_count": 10,
     "metadata": {},
     "output_type": "execute_result"
    }
   ],
   "source": [
    "a=symbols('a')\n",
    "m_e=9.1*10**-31 #Kg\n",
    "c=3*10**8 #m/s\n",
    "h=6.63 *10**-34 #Js\n",
    "hd=(6.63/(2*3.14159265359))*10**-34\n",
    "delta_E=h*c/(122*10**-9)\n",
    "delta_E"
   ]
  },
  {
   "cell_type": "markdown",
   "metadata": {},
   "source": [
    "En seguida resolvemos la ecuacion $$1.63\\cdot10^{-18}J=(2^{2}-1^{2})\\cdot\\frac{h^2\\pi^2}{2m_e\\cdot a^2}$$"
   ]
  },
  {
   "cell_type": "code",
   "execution_count": 11,
   "metadata": {},
   "outputs": [
    {
     "data": {
      "image/png": "[encoded data removed]",
      "text/latex": [
       "$\\displaystyle 1.11107142857128 \\cdot 10^{-19}$"
      ],
      "text/plain": [
       "1.11107142857128e-19"
      ]
     },
     "execution_count": 11,
     "metadata": {},
     "output_type": "execute_result"
    }
   ],
   "source": [
    "expr=3*hd**2*pi**2/(2*m_e*delta_E)\n",
    "expr=expr.evalf()\n",
    "expr"
   ]
  },
  {
   "cell_type": "code",
   "execution_count": 12,
   "metadata": {},
   "outputs": [
    {
     "data": {
      "image/png": "[encoded data removed]",
      "text/latex": [
       "$\\displaystyle \\left[ -3.33327380899211 \\cdot 10^{-10}, \\  3.33327380899211 \\cdot 10^{-10}\\right]$"
      ],
      "text/plain": [
       "[-3.33327380899211e-10, 3.33327380899211e-10]"
      ]
     },
     "execution_count": 12,
     "metadata": {},
     "output_type": "execute_result"
    }
   ],
   "source": [
    "solve(Eq(a**2,expr),a)"
   ]
  },
  {
   "cell_type": "markdown",
   "metadata": {},
   "source": [
    "Por ende podemos saber que el valor de **a** es $0.33 nm$"
   ]
  },
  {
   "cell_type": "markdown",
   "metadata": {},
   "source": [
    "### b)¿a qué distancia x la función dedistribución deprobabilidad $(|\\psi|)^{2}$ es máxima cuando esta se encuentra en su nivel fundamental y en n=2?. "
   ]
  },
  {
   "cell_type": "markdown",
   "metadata": {},
   "source": [
    "Podemos obtener estas distancias sin necesidad de saber a ciencia cierta el valor de a (dejandola en funcion de esta), pero como ya la encontramos es mejor gaficarlas y observar cuales serian estos valores. Cabe recalcar que la funcion $$(|\\psi|)^{2}=\\frac{2}{a}\\cdot sin(\\frac{\\pi\\cdot n\\cdot x}{a})$$"
   ]
  },
  {
   "cell_type": "code",
   "execution_count": 13,
   "metadata": {},
   "outputs": [],
   "source": [
    "%matplotlib inline\n",
    "y_n=Function('psi_n')\n",
    "E_n=Function('E_n')\n",
    "n=symbols('n',real=True,positive=True)\n",
    "a=3.33327380899211*10**-10\n",
    "h_d=h/(2*pi)"
   ]
  },
  {
   "cell_type": "markdown",
   "metadata": {},
   "source": [
    "Para el caso de **n=1**"
   ]
  },
  {
   "cell_type": "code",
   "execution_count": 14,
   "metadata": {},
   "outputs": [],
   "source": [
    "y=sqrt(2/a)*sin(1*pi*x/a)"
   ]
  },
  {
   "cell_type": "code",
   "execution_count": 15,
   "metadata": {},
   "outputs": [
    {
     "data": {
      "image/png": "[encoded data removed]",
      "text/plain": [
       "<Figure size 432x288 with 1 Axes>"
      ]
     },
     "metadata": {
      "needs_background": "light"
     },
     "output_type": "display_data"
    },
    {
     "data": {
      "text/plain": [
       "<sympy.plotting.plot.Plot at 0x18ae93e6988>"
      ]
     },
     "execution_count": 15,
     "metadata": {},
     "output_type": "execute_result"
    }
   ],
   "source": [
    "plot(Abs(y)**2,(x,0,a))"
   ]
  },
  {
   "cell_type": "code",
   "execution_count": 17,
   "metadata": {},
   "outputs": [
    {
     "data": {
      "image/png": "[encoded data removed]",
      "text/latex": [
       "$\\displaystyle \\left[ 0.0, \\  1.66663690449605 \\cdot 10^{-10}, \\  3.33327380899211 \\cdot 10^{-10}, \\  4.99991071348816 \\cdot 10^{-10}\\right]$"
      ],
      "text/plain": [
       "[0.0, 1.66663690449605e-10, 3.33327380899211e-10, 4.99991071348816e-10]"
      ]
     },
     "execution_count": 17,
     "metadata": {},
     "output_type": "execute_result"
    }
   ],
   "source": [
    "solve(Eq(diff(y**2),0),x) #el valor encontrado debe estar dentro del intervalo [0,a] exeptuando los limites."
   ]
  },
  {
   "cell_type": "markdown",
   "metadata": {},
   "source": [
    "Como podemos observar el valor de maxima probabilidad en el nivel fundamental **n=1** es cuando se encuentra a una distancia de $\\frac{a}{2}$ es decir cuando la distancia es 0.166 nm"
   ]
  },
  {
   "cell_type": "markdown",
   "metadata": {},
   "source": [
    "Para el caso de **n=2**"
   ]
  },
  {
   "cell_type": "code",
   "execution_count": 18,
   "metadata": {},
   "outputs": [],
   "source": [
    "y=sqrt(2/a)*sin(2*pi*x/a)"
   ]
  },
  {
   "cell_type": "code",
   "execution_count": 19,
   "metadata": {},
   "outputs": [
    {
     "data": {
      "image/png": "[encoded data removed]",
      "text/plain": [
       "<Figure size 432x288 with 1 Axes>"
      ]
     },
     "metadata": {
      "needs_background": "light"
     },
     "output_type": "display_data"
    },
    {
     "data": {
      "text/plain": [
       "<sympy.plotting.plot.Plot at 0x18aec590248>"
      ]
     },
     "execution_count": 19,
     "metadata": {},
     "output_type": "execute_result"
    }
   ],
   "source": [
    "plot(Abs(y)**2,(x,0,a))"
   ]
  },
  {
   "cell_type": "code",
   "execution_count": 22,
   "metadata": {},
   "outputs": [
    {
     "data": {
      "image/png": "[encoded data removed]",
      "text/latex": [
       "$\\displaystyle \\left[ 0.0, \\  8.33318452248027 \\cdot 10^{-11}, \\  1.66663690449605 \\cdot 10^{-10}, \\  2.49995535674408 \\cdot 10^{-10}\\right]$"
      ],
      "text/plain": [
       "[0.0, 8.33318452248027e-11, 1.66663690449605e-10, 2.49995535674408e-10]"
      ]
     },
     "execution_count": 22,
     "metadata": {},
     "output_type": "execute_result"
    }
   ],
   "source": [
    "solve(Eq(diff(y**2),0),x) #el valor encontrado debe estar dentro del intervalo [0,a] exeptuando los limites."
   ]
  },
  {
   "cell_type": "markdown",
   "metadata": {},
   "source": [
    "Como podemos observar el valor de maxima probabilidad en el nivel 2 **n=2** es cuando se encuentra a una distancia de $\\frac{a}{4}$ y $\\frac{3\\cdot a}{4}$  es decir cuando las distancias son $0.0833 nm$ y $0.25 nm$"
   ]
  },
  {
   "cell_type": "markdown",
   "metadata": {},
   "source": [
    "###  c) Utilizandoel ancho calculado en la pregunta a)¿cuál es la energía del estado base? ¿Cómo corresponde a la energía del estado base del átomo de H?"
   ]
  },
  {
   "cell_type": "markdown",
   "metadata": {},
   "source": [
    "Ocupando la ecuacion Schrödinger : $E_n=\\frac{n^2h^2\\pi^2}{2m_e\\cdot a^2}$ Podemos obtener la energia del estado base."
   ]
  },
  {
   "cell_type": "code",
   "execution_count": 23,
   "metadata": {},
   "outputs": [
    {
     "data": {
      "image/png": "[encoded data removed]",
      "text/latex": [
       "$\\displaystyle 3.39216885245903$"
      ],
      "text/plain": [
       "3.39216885245903"
      ]
     },
     "execution_count": 23,
     "metadata": {},
     "output_type": "execute_result"
    }
   ],
   "source": [
    "((1)*(h/(2*3.14159265359))**2*pi**2/(2*m_e*a**2)*6.242*10**18).evalf() #lo pasamos a eV"
   ]
  },
  {
   "cell_type": "markdown",
   "metadata": {},
   "source": [
    "El estado base segun Bohr serian -13eV en el estado fundamental, por ende  hay algo que no cuadra ya que por medio de la ecuacion de Schödinger nos da una energia de 3,39 eV. Paradogicamente esto seria igual a la energia del hidrogeno en el nivel 2 de forma positva."
   ]
  },
  {
   "cell_type": "markdown",
   "metadata": {},
   "source": [
    "### d) ¿Cree usted que una caja unidimensional es un buen modelo de un átomo de hidrógeno? Explique por qué"
   ]
  },
  {
   "cell_type": "markdown",
   "metadata": {},
   "source": [
    "A mi parecer creo que este modelo no buscaba como principal objetivo evaluar las energias segun su nivel energetico, sino que se cnetraba en el principio d einsertidumpre en la posicion del electron en funcion del atomo. Anque los valores obtenidos de forma experimental en esta tarea sean lejanos a la teoria no descartaria que este modelo sea inadecuado para un atomo de hidrogeno."
   ]
  },
  {
   "cell_type": "markdown",
   "metadata": {},
   "source": [
    "## Ejercicio 3"
   ]
  },
  {
   "cell_type": "markdown",
   "metadata": {},
   "source": [
    "Realice los diagramas de orbitales moleculares para $Li_2^{+}$, $Be_2^{+}$ y $B_2$"
   ]
  },
  {
   "cell_type": "markdown",
   "metadata": {},
   "source": [
    "### a) Identifique en cada diagrama el HOMO y LUMO, y averigüe si los iones corresponden a una molécula diamagnética o paramagnética."
   ]
  },
  {
   "cell_type": "markdown",
   "metadata": {},
   "source": [
    "<img src=\"20200903_231718.jpg\" width=600 height=300 >"
   ]
  },
  {
   "cell_type": "markdown",
   "metadata": {},
   "source": [
    "### b)¿Qué tipo de enlace forma cada una de las moléculas?"
   ]
  },
  {
   "cell_type": "markdown",
   "metadata": {},
   "source": [
    "Los enlaces $Li_2^{+}$, $Be_2^{+}$ son enalces metalicos, en cambio el $B_2$ es un elnace covalente "
   ]
  },
  {
   "cell_type": "markdown",
   "metadata": {},
   "source": [
    "## Ejercicio 4"
   ]
  },
  {
   "cell_type": "markdown",
   "metadata": {},
   "source": [
    "Una fotoceldade silicio puede detectar una longitud de onda máxima de 1.11 un"
   ]
  },
  {
   "cell_type": "markdown",
   "metadata": {},
   "source": [
    "### a)¿Cuál es el intervalo de energía prohibida o gap(en eV) entre las bandas de conducción y de valencia?"
   ]
  },
  {
   "cell_type": "markdown",
   "metadata": {},
   "source": [
    "Se sabe que la banda prohibida es la energía mínima necesaria para excitar el electrón de manera que pueda participar en la conducción. Investigando en varias paginas se pudo encontrar que el valor de la banda prohivida es: $1.09eV$\n",
    "http://hyperphysics.phy-astr.gsu.edu/hbasees/Solids/band.html"
   ]
  },
  {
   "cell_type": "markdown",
   "metadata": {},
   "source": [
    "### b) Explique por qué el silicio puro es opaco en términos de la materia vista hasta ahora."
   ]
  },
  {
   "cell_type": "markdown",
   "metadata": {},
   "source": [
    "Como dice el enunciado el silicio tiene como max longitud de onda $1.11 \\mu n$ que seria lo mismo que $1110 nm$ por ende absorve una grancantidad de difernetes longitudes de ondas. Se sabe que absorve el 95% de las undas radioactivas infrarrojas. Se podia decir que como absorve un gran espectro, emite muy pocas longitudes de ondas. En sintesis por esto seria un elemento opaco."
   ]
  },
  {
   "cell_type": "markdown",
   "metadata": {},
   "source": [
    "### c) Averigüe que pasa cuando a una red de Si se le añaden impurezaspor ejemplo de Antimonio y de Boro, ¿Qué ocurre con la conduccióndel Si en ambos casos?"
   ]
  },
  {
   "cell_type": "markdown",
   "metadata": {},
   "source": [
    "Esta practica se le conoce como dopaje con el fin de cambair sus propiedades electricas. Un semiconductor altamente dopado actuará mas como un conductor que como un semi conductor.\n",
    "Al agregarle estas impurezas hara que el semiconductor sea de tipo N o P, en este caso $N\\rightarrow(antimonio)$ y $P\\rightarrow(Boro)$.\n",
    "Los de tipo N aumenta las cargas negativas en el semiconductor.\n",
    "Los del tipo P aumentan las cargas positivas en el semiconductor (genera orificios).\n",
    "Ambos dopages aumenta la consuctividad de los materiales.\n"
   ]
  },
  {
   "cell_type": "code",
   "execution_count": null,
   "metadata": {},
   "outputs": [],
   "source": []
  }
 ],
 "metadata": {
  "kernelspec": {
   "display_name": "Python 3",
   "language": "python",
   "name": "python3"
  },
  "language_info": {
   "codemirror_mode": {
    "name": "ipython",
    "version": 3
   },
   "file_extension": ".py",
   "mimetype": "text/x-python",
   "name": "python",
   "nbconvert_exporter": "python",
   "pygments_lexer": "ipython3",
   "version": "3.7.4"
  }
 },
 "nbformat": 4,
 "nbformat_minor": 4
}
