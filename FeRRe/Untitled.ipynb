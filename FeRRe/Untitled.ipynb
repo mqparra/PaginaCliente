{
 "cells": [
  {
   "cell_type": "code",
   "execution_count": 1,
   "metadata": {},
   "outputs": [],
   "source": [
    "%matplotlib inline\n",
    "import pandas as pd\n",
    "import numpy as np\n",
    "import matplotlib.pyplot as plt\n",
    "import matplotlib as mpl\n",
    "import time\n",
    "from IPython.display import HTML,display\n"
   ]
  },
  {
   "cell_type": "code",
   "execution_count": 2,
   "metadata": {
    "scrolled": false
   },
   "outputs": [
    {
     "name": "stdout",
     "output_type": "stream",
     "text": [
      "\n",
      "\n",
      "\n",
      "\n",
      "\n",
      "\n",
      "\n",
      "\n",
      "\n",
      "\n",
      "\n",
      "\n",
      "\n",
      "\n",
      "\n",
      "\n",
      "\n",
      "\n",
      "\n",
      "\n",
      "\n",
      "\n",
      "\n",
      "\n",
      "\n",
      "\n",
      "\n",
      "\n",
      "\n",
      "\n",
      "\n",
      "\n",
      "\n",
      "\n",
      "\n",
      "\n",
      "\n",
      "\n",
      "\n",
      "\n",
      "\n",
      "\n",
      "\n",
      "\n",
      "\n",
      "\n",
      "\n",
      "}\n",
      "\n",
      "\n",
      "\n",
      "\n",
      "\n",
      "\n",
      "\n",
      "\n",
      "\n",
      "\n",
      "\n",
      "\n",
      "\n",
      "\n",
      "\n",
      "\n",
      "\n",
      "\n",
      "\n",
      "\n",
      "\n",
      "\n",
      "\n",
      "\n",
      "\n",
      "\n",
      "\n",
      "\n",
      "\n",
      "\n",
      "\n",
      "\n",
      "\n",
      "\n",
      "\n",
      "\n",
      "\n",
      "\n",
      "\n",
      "\n",
      "\n",
      "\n",
      "\n",
      "\n",
      "\n",
      "\n",
      "\n",
      "\n",
      "\n",
      "\n",
      "\n",
      "\n"
     ]
    },
    {
     "data": {
      "text/plain": [
       "[1608492714.688601,\n",
       " 1608492727.9404624,\n",
       " 1608492729.0431304,\n",
       " 1608492729.6195142,\n",
       " 1608492730.118066,\n",
       " 1608492731.1870284,\n",
       " 1608492731.5900433,\n",
       " 1608492732.241718,\n",
       " 1608492733.230761,\n",
       " 1608492733.6583343,\n",
       " 1608492734.040686,\n",
       " 1608492735.2842932,\n",
       " 1608492735.4884152,\n",
       " 1608492735.7093227,\n",
       " 1608492735.9410274,\n",
       " 1608492737.1079826,\n",
       " 1608492738.0673938,\n",
       " 1608492738.312293,\n",
       " 1608492738.5987933,\n",
       " 1608492740.3521478,\n",
       " 1608492740.6779642,\n",
       " 1608492741.779486,\n",
       " 1608492742.057649,\n",
       " 1608492742.6442044,\n",
       " 1608492743.4074655,\n",
       " 1608492743.8129017,\n",
       " 1608492744.6652699,\n",
       " 1608492744.8979614,\n",
       " 1608492745.1627789,\n",
       " 1608492745.431811,\n",
       " 1608492745.733012,\n",
       " 1608492746.0062466,\n",
       " 1608492746.2828925,\n",
       " 1608492746.5334218,\n",
       " 1608492746.7884257,\n",
       " 1608492747.0270586,\n",
       " 1608492747.923075,\n",
       " 1608492748.9196458,\n",
       " 1608492749.8104281,\n",
       " 1608492750.5607212,\n",
       " 1608492751.5243886,\n",
       " 1608492752.4419546,\n",
       " 1608492754.5805168,\n",
       " 1608492755.3468192,\n",
       " 1608492756.164588,\n",
       " 1608492757.0071805,\n",
       " 1608492757.7809553,\n",
       " 1608492758.5762935,\n",
       " 1608492761.6526358,\n",
       " 1608492763.918987,\n",
       " 1608492766.447112,\n",
       " 1608492768.408921,\n",
       " 1608492770.3416004,\n",
       " 1608492772.046163,\n",
       " 1608492773.7298381,\n",
       " 1608492775.4058647,\n",
       " 1608492777.3423698,\n",
       " 1608492779.078168,\n",
       " 1608492780.8829203,\n",
       " 1608492782.4251647,\n",
       " 1608492783.6808987,\n",
       " 1608492785.6122696,\n",
       " 1608492790.0696099,\n",
       " 1608492794.1578617,\n",
       " 1608492797.2547922,\n",
       " 1608492800.3814952,\n",
       " 1608492803.128292,\n",
       " 1608492805.0866463,\n",
       " 1608492805.7659376,\n",
       " 1608492806.3647132,\n",
       " 1608492806.9728324,\n",
       " 1608492807.48306,\n",
       " 1608492807.7501142,\n",
       " 1608492807.9968119,\n",
       " 1608492811.0641513,\n",
       " 1608492811.2992814,\n",
       " 1608492811.5369473,\n",
       " 1608492816.519905,\n",
       " 1608492816.7509854,\n",
       " 1608492817.0037622,\n",
       " 1608492818.7577412,\n",
       " 1608492820.5786326,\n",
       " 1608492823.3076818,\n",
       " 1608492823.612415,\n",
       " 1608492827.6391017,\n",
       " 1608492827.8644245,\n",
       " 1608492828.092121,\n",
       " 1608492828.3130124,\n",
       " 1608492828.5359733,\n",
       " 1608492828.7671013,\n",
       " 1608492829.0111365,\n",
       " 1608492829.2461305,\n",
       " 1608492829.4812076,\n",
       " 1608492829.72638,\n",
       " 1608492830.8012607,\n",
       " 1608492835.814761,\n",
       " 1608492842.0241494,\n",
       " 1608492845.5178134,\n",
       " 1608492858.578245,\n",
       " 1608492859.464905,\n",
       " 1608492860.1488087]"
      ]
     },
     "execution_count": 2,
     "metadata": {},
     "output_type": "execute_result"
    }
   ],
   "source": [
    "tiempos=[]\n",
    "inicio=time.time()\n",
    "tiempos.append(inicio)\n",
    "for i in range(100):    \n",
    "    boton=input(\"\")\n",
    "    tiempos.append(time.time())\n",
    "tiempos"
   ]
  },
  {
   "cell_type": "code",
   "execution_count": 3,
   "metadata": {},
   "outputs": [],
   "source": [
    "tiempos=np.array(tiempos)"
   ]
  },
  {
   "cell_type": "code",
   "execution_count": 4,
   "metadata": {},
   "outputs": [
    {
     "data": {
      "text/plain": [
       "101"
      ]
     },
     "execution_count": 4,
     "metadata": {},
     "output_type": "execute_result"
    }
   ],
   "source": [
    "len(tiempos)"
   ]
  },
  {
   "cell_type": "code",
   "execution_count": 5,
   "metadata": {},
   "outputs": [
    {
     "data": {
      "text/plain": [
       "array([1.60849271e+09, 1.60849273e+09, 1.60849273e+09, 1.60849273e+09,\n",
       "       1.60849273e+09, 1.60849273e+09, 1.60849273e+09, 1.60849273e+09,\n",
       "       1.60849273e+09, 1.60849273e+09, 1.60849273e+09, 1.60849274e+09,\n",
       "       1.60849274e+09, 1.60849274e+09, 1.60849274e+09, 1.60849274e+09,\n",
       "       1.60849274e+09, 1.60849274e+09, 1.60849274e+09, 1.60849274e+09,\n",
       "       1.60849274e+09, 1.60849274e+09, 1.60849274e+09, 1.60849274e+09,\n",
       "       1.60849274e+09, 1.60849274e+09, 1.60849274e+09, 1.60849274e+09,\n",
       "       1.60849275e+09, 1.60849275e+09, 1.60849275e+09, 1.60849275e+09,\n",
       "       1.60849275e+09, 1.60849275e+09, 1.60849275e+09, 1.60849275e+09,\n",
       "       1.60849275e+09, 1.60849275e+09, 1.60849275e+09, 1.60849275e+09,\n",
       "       1.60849275e+09, 1.60849275e+09, 1.60849275e+09, 1.60849276e+09,\n",
       "       1.60849276e+09, 1.60849276e+09, 1.60849276e+09, 1.60849276e+09,\n",
       "       1.60849276e+09, 1.60849276e+09, 1.60849277e+09, 1.60849277e+09,\n",
       "       1.60849277e+09, 1.60849277e+09, 1.60849277e+09, 1.60849278e+09,\n",
       "       1.60849278e+09, 1.60849278e+09, 1.60849278e+09, 1.60849278e+09,\n",
       "       1.60849278e+09, 1.60849279e+09, 1.60849279e+09, 1.60849279e+09,\n",
       "       1.60849280e+09, 1.60849280e+09, 1.60849280e+09, 1.60849281e+09,\n",
       "       1.60849281e+09, 1.60849281e+09, 1.60849281e+09, 1.60849281e+09,\n",
       "       1.60849281e+09, 1.60849281e+09, 1.60849281e+09, 1.60849281e+09,\n",
       "       1.60849281e+09, 1.60849282e+09, 1.60849282e+09, 1.60849282e+09,\n",
       "       1.60849282e+09, 1.60849282e+09, 1.60849282e+09, 1.60849282e+09,\n",
       "       1.60849283e+09, 1.60849283e+09, 1.60849283e+09, 1.60849283e+09,\n",
       "       1.60849283e+09, 1.60849283e+09, 1.60849283e+09, 1.60849283e+09,\n",
       "       1.60849283e+09, 1.60849283e+09, 1.60849283e+09, 1.60849284e+09,\n",
       "       1.60849284e+09, 1.60849285e+09, 1.60849286e+09, 1.60849286e+09,\n",
       "       1.60849286e+09])"
      ]
     },
     "execution_count": 5,
     "metadata": {},
     "output_type": "execute_result"
    }
   ],
   "source": [
    "tiempos"
   ]
  },
  {
   "cell_type": "code",
   "execution_count": 7,
   "metadata": {},
   "outputs": [],
   "source": [
    "tabla=pd.DataFrame(data=tiempos,columns={'Tiempos'})"
   ]
  },
  {
   "cell_type": "code",
   "execution_count": 13,
   "metadata": {},
   "outputs": [
    {
     "data": {
      "text/plain": [
       "<AxesSubplot:>"
      ]
     },
     "execution_count": 13,
     "metadata": {},
     "output_type": "execute_result"
    },
    {
     "data": {
      "image/png": "[encoded data removed]",
      "text/plain": [
       "<Figure size 432x288 with 1 Axes>"
      ]
     },
     "metadata": {
      "needs_background": "light"
     },
     "output_type": "display_data"
    }
   ],
   "source": [
    "tabla1=tabla.diff().copy()\n",
    "tabla1.dropna(inplace=True)\n",
    "tabla1['Tiempos'].plot()"
   ]
  },
  {
   "cell_type": "code",
   "execution_count": 10,
   "metadata": {},
   "outputs": [
    {
     "data": {
      "text/plain": [
       "<AxesSubplot:ylabel='Frequency'>"
      ]
     },
     "execution_count": 10,
     "metadata": {},
     "output_type": "execute_result"
    },
    {
     "data": {
      "image/png": "[encoded data removed]",
      "text/plain": [
       "<Figure size 432x288 with 1 Axes>"
      ]
     },
     "metadata": {
      "needs_background": "light"
     },
     "output_type": "display_data"
    }
   ],
   "source": [
    "tabla1.plot(kind='hist',bins=40)"
   ]
  },
  {
   "cell_type": "markdown",
   "metadata": {},
   "source": [
    "## Ajuste de tiempos"
   ]
  },
  {
   "cell_type": "code",
   "execution_count": 15,
   "metadata": {},
   "outputs": [
    {
     "name": "stdout",
     "output_type": "stream",
     "text": [
      "['cauchy', 'chi2', 'expon', 'exponpow', 'gamma', 'lognorm', 'norm', 'powerlaw', 'rayleigh', 'uniform']\n"
     ]
    }
   ],
   "source": [
    "from fitter import Fitter,get_common_distributions,get_distributions\n",
    "print(get_common_distributions())"
   ]
  },
  {
   "cell_type": "code",
   "execution_count": 16,
   "metadata": {
    "scrolled": false
   },
   "outputs": [
    {
     "data": {
      "text/html": [
       "\n",
       "            <div style=\"float: left; border: 1px solid black; width:500px\">\n",
       "              <div id=\"aa77950b-9450-4115-a93d-84eba7152509\" style=\"background-color:blue; width:0%\">&nbsp;</div>\n",
       "            </div>\n",
       "            <label id=\"474a6ab8-7fa8-4cef-88d6-ed083dbc571c\" style=\"padding-left: 10px;\" text = \"\"/>\n",
       "            "
      ],
      "text/plain": [
       "<IPython.core.display.HTML object>"
      ]
     },
     "metadata": {},
     "output_type": "display_data"
    },
    {
     "data": {
      "text/html": [
       "<div>\n",
       "<style scoped>\n",
       "    .dataframe tbody tr th:only-of-type {\n",
       "        vertical-align: middle;\n",
       "    }\n",
       "\n",
       "    .dataframe tbody tr th {\n",
       "        vertical-align: top;\n",
       "    }\n",
       "\n",
       "    .dataframe thead th {\n",
       "        text-align: right;\n",
       "    }\n",
       "</style>\n",
       "<table border=\"1\" class=\"dataframe\">\n",
       "  <thead>\n",
       "    <tr style=\"text-align: right;\">\n",
       "      <th></th>\n",
       "      <th>sumsquare_error</th>\n",
       "      <th>aic</th>\n",
       "      <th>bic</th>\n",
       "      <th>kl_div</th>\n",
       "    </tr>\n",
       "  </thead>\n",
       "  <tbody>\n",
       "    <tr>\n",
       "      <th>lognorm</th>\n",
       "      <td>1.369273</td>\n",
       "      <td>849.228449</td>\n",
       "      <td>-415.273550</td>\n",
       "      <td>inf</td>\n",
       "    </tr>\n",
       "    <tr>\n",
       "      <th>gamma</th>\n",
       "      <td>1.393409</td>\n",
       "      <td>1120.202381</td>\n",
       "      <td>-413.526152</td>\n",
       "      <td>inf</td>\n",
       "    </tr>\n",
       "    <tr>\n",
       "      <th>chi2</th>\n",
       "      <td>1.995715</td>\n",
       "      <td>840.008977</td>\n",
       "      <td>-377.601272</td>\n",
       "      <td>inf</td>\n",
       "    </tr>\n",
       "    <tr>\n",
       "      <th>exponpow</th>\n",
       "      <td>2.100838</td>\n",
       "      <td>891.774052</td>\n",
       "      <td>-372.467896</td>\n",
       "      <td>inf</td>\n",
       "    </tr>\n",
       "    <tr>\n",
       "      <th>powerlaw</th>\n",
       "      <td>3.227186</td>\n",
       "      <td>612.955176</td>\n",
       "      <td>-329.540444</td>\n",
       "      <td>inf</td>\n",
       "    </tr>\n",
       "  </tbody>\n",
       "</table>\n",
       "</div>"
      ],
      "text/plain": [
       "          sumsquare_error          aic         bic  kl_div\n",
       "lognorm          1.369273   849.228449 -415.273550     inf\n",
       "gamma            1.393409  1120.202381 -413.526152     inf\n",
       "chi2             1.995715   840.008977 -377.601272     inf\n",
       "exponpow         2.100838   891.774052 -372.467896     inf\n",
       "powerlaw         3.227186   612.955176 -329.540444     inf"
      ]
     },
     "execution_count": 16,
     "metadata": {},
     "output_type": "execute_result"
    },
    {
     "data": {
      "image/png": "[encoded data removed]",
      "text/plain": [
       "<Figure size 432x288 with 1 Axes>"
      ]
     },
     "metadata": {
      "needs_background": "light"
     },
     "output_type": "display_data"
    }
   ],
   "source": [
    "\n",
    "f = Fitter(tabla1['Tiempos'],distributions=get_common_distributions())\n",
    "f.fit()\n",
    "f.summary()"
   ]
  },
  {
   "cell_type": "code",
   "execution_count": 29,
   "metadata": {},
   "outputs": [
    {
     "data": {
      "text/plain": [
       "{'lognorm': (1.786976198808997, 0.20198068491563634, 0.3881399035043135)}"
      ]
     },
     "execution_count": 29,
     "metadata": {},
     "output_type": "execute_result"
    }
   ],
   "source": [
    "f.get_best()"
   ]
  }
 ],
 "metadata": {
  "kernelspec": {
   "display_name": "Python 3",
   "language": "python",
   "name": "python3"
  },
  "language_info": {
   "codemirror_mode": {
    "name": "ipython",
    "version": 3
   },
   "file_extension": ".py",
   "mimetype": "text/x-python",
   "name": "python",
   "nbconvert_exporter": "python",
   "pygments_lexer": "ipython3",
   "version": "3.7.4"
  }
 },
 "nbformat": 4,
 "nbformat_minor": 4
}
