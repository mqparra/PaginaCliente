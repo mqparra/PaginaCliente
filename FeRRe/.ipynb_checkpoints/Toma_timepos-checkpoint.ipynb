{
 "cells": [
  {
   "cell_type": "code",
   "execution_count": 1,
   "metadata": {},
   "outputs": [],
   "source": [
    "%matplotlib inline\n",
    "import pandas as pd\n",
    "import numpy as np\n",
    "import matplotlib.pyplot as plt\n",
    "import matplotlib as mpl\n",
    "import time\n",
    "from os.path import isfile\n",
    "from IPython.display import HTML,display\n",
    "from datetime import date,datetime\n"
   ]
  },
  {
   "cell_type": "markdown",
   "metadata": {},
   "source": [
    "# Inicio toma de Datos"
   ]
  },
  {
   "cell_type": "code",
   "execution_count": 35,
   "metadata": {
    "scrolled": false
   },
   "outputs": [
    {
     "name": "stdout",
     "output_type": "stream",
     "text": [
      "Enter: LLegada \n",
      "FIN fin de toma de datos \n",
      "Enter: LLegada \n",
      "FIN fin de toma de datos \n",
      "Enter: LLegada \n",
      "FIN fin de toma de datos \n",
      "Enter: LLegada \n",
      "FIN fin de toma de datos \n",
      "Enter: LLegada \n",
      "FIN fin de toma de datos \n",
      "Enter: LLegada \n",
      "FIN fin de toma de datos \n",
      "Enter: LLegada \n",
      "FIN fin de toma de datos \n",
      "Enter: LLegada \n",
      "FIN fin de toma de datos \n",
      "Enter: LLegada \n",
      "FIN fin de toma de datos \n",
      "Enter: LLegada \n",
      "FIN fin de toma de datos fin\n"
     ]
    },
    {
     "data": {
      "text/plain": [
       "[1609598139.3046203,\n",
       " 1609598615.3386712,\n",
       " 1609598646.906362,\n",
       " 1609599023.7742348,\n",
       " 1609600913.8364646,\n",
       " 1609601131.717307,\n",
       " 1609601135.8837347,\n",
       " 1609601294.4653769,\n",
       " 1609601468.8556066,\n",
       " 1609605814.1138391]"
      ]
     },
     "execution_count": 35,
     "metadata": {},
     "output_type": "execute_result"
    }
   ],
   "source": [
    "horas=[]\n",
    "minutos=[]\n",
    "segundos=[]\n",
    "tiempos=[]\n",
    "inicio=time.time()\n",
    "tiempos.append(inicio)\n",
    "fin=False\n",
    "while not fin:    \n",
    "    i=str(input(\"Enter: LLegada \\nFIN fin de toma de datos \")).upper()\n",
    "    if i=='FIN':\n",
    "        fin=True\n",
    "    else:\n",
    "        tiempos.append(time.time())\n",
    "        horas.append(int(datetime.today().hour))\n",
    "        minutos.append(int(datetime.today().minute))\n",
    "        segundos.append(int(datetime.today().second))"
   ]
  },
  {
   "cell_type": "code",
   "execution_count": 36,
   "metadata": {},
   "outputs": [
    {
     "data": {
      "text/plain": [
       "[1609598139.3046203,\n",
       " 1609598615.3386712,\n",
       " 1609598646.906362,\n",
       " 1609599023.7742348,\n",
       " 1609600913.8364646,\n",
       " 1609601131.717307,\n",
       " 1609601135.8837347,\n",
       " 1609601294.4653769,\n",
       " 1609601468.8556066,\n",
       " 1609605814.1138391]"
      ]
     },
     "execution_count": 36,
     "metadata": {},
     "output_type": "execute_result"
    }
   ],
   "source": [
    "tiempos"
   ]
  },
  {
   "cell_type": "code",
   "execution_count": 37,
   "metadata": {},
   "outputs": [],
   "source": [
    "tiempos=np.array(tiempos)"
   ]
  },
  {
   "cell_type": "code",
   "execution_count": null,
   "metadata": {},
   "outputs": [],
   "source": [
    "tabla=pd.DataFrame(data=tiempos,columns={'TIEMPOS'})"
   ]
  },
  {
   "cell_type": "code",
   "execution_count": 38,
   "metadata": {},
   "outputs": [],
   "source": [
    "tabla1=tabla.diff().copy()\n",
    "tabla1.dropna(inplace=True)\n",
    "tabla1['TIEMPOS']=tabla1['TIEMPOS']/60\n",
    "tabla1.reset_index(inplace=True,drop=True)"
   ]
  },
  {
   "cell_type": "code",
   "execution_count": null,
   "metadata": {},
   "outputs": [],
   "source": [
    "tabla1['HORA']=horas \n",
    "tabla1['MINUTO']=minutos\n",
    "tabla1['SEGUNDO']=segundos"
   ]
  },
  {
   "cell_type": "code",
   "execution_count": 40,
   "metadata": {},
   "outputs": [
    {
     "data": {
      "text/html": [
       "<div>\n",
       "<style scoped>\n",
       "    .dataframe tbody tr th:only-of-type {\n",
       "        vertical-align: middle;\n",
       "    }\n",
       "\n",
       "    .dataframe tbody tr th {\n",
       "        vertical-align: top;\n",
       "    }\n",
       "\n",
       "    .dataframe thead th {\n",
       "        text-align: right;\n",
       "    }\n",
       "</style>\n",
       "<table border=\"1\" class=\"dataframe\">\n",
       "  <thead>\n",
       "    <tr style=\"text-align: right;\">\n",
       "      <th></th>\n",
       "      <th>TIEMPOS</th>\n",
       "    </tr>\n",
       "  </thead>\n",
       "  <tbody>\n",
       "    <tr>\n",
       "      <th>0</th>\n",
       "      <td>7.933901</td>\n",
       "    </tr>\n",
       "    <tr>\n",
       "      <th>1</th>\n",
       "      <td>0.526128</td>\n",
       "    </tr>\n",
       "    <tr>\n",
       "      <th>2</th>\n",
       "      <td>6.281131</td>\n",
       "    </tr>\n",
       "    <tr>\n",
       "      <th>3</th>\n",
       "      <td>31.501037</td>\n",
       "    </tr>\n",
       "    <tr>\n",
       "      <th>4</th>\n",
       "      <td>3.631347</td>\n",
       "    </tr>\n",
       "    <tr>\n",
       "      <th>5</th>\n",
       "      <td>0.069440</td>\n",
       "    </tr>\n",
       "    <tr>\n",
       "      <th>6</th>\n",
       "      <td>2.643027</td>\n",
       "    </tr>\n",
       "    <tr>\n",
       "      <th>7</th>\n",
       "      <td>2.906504</td>\n",
       "    </tr>\n",
       "    <tr>\n",
       "      <th>8</th>\n",
       "      <td>72.420971</td>\n",
       "    </tr>\n",
       "  </tbody>\n",
       "</table>\n",
       "</div>"
      ],
      "text/plain": [
       "     TIEMPOS\n",
       "0   7.933901\n",
       "1   0.526128\n",
       "2   6.281131\n",
       "3  31.501037\n",
       "4   3.631347\n",
       "5   0.069440\n",
       "6   2.643027\n",
       "7   2.906504\n",
       "8  72.420971"
      ]
     },
     "metadata": {},
     "output_type": "display_data"
    },
    {
     "data": {
      "text/plain": [
       "<AxesSubplot:>"
      ]
     },
     "execution_count": 40,
     "metadata": {},
     "output_type": "execute_result"
    },
    {
     "data": {
      "image/png": "[encoded data removed]",
      "text/plain": [
       "<Figure size 432x288 with 1 Axes>"
      ]
     },
     "metadata": {
      "needs_background": "light"
     },
     "output_type": "display_data"
    }
   ],
   "source": [
    "display(tabla1)\n",
    "tabla1.plot()"
   ]
  },
  {
   "cell_type": "code",
   "execution_count": 41,
   "metadata": {
    "scrolled": false
   },
   "outputs": [
    {
     "data": {
      "text/plain": [
       "<AxesSubplot:label='6bdde5fd-92d8-4297-80f0-2229948aaf4d'>"
      ]
     },
     "execution_count": 41,
     "metadata": {},
     "output_type": "execute_result"
    },
    {
     "data": {
      "image/png": "[encoded data removed]",
      "text/plain": [
       "<Figure size 432x288 with 2 Axes>"
      ]
     },
     "metadata": {
      "needs_background": "light"
     },
     "output_type": "display_data"
    }
   ],
   "source": [
    "ax = tabla1.TIEMPOS.plot(kind='hist')\n",
    "tabla1.TIEMPOS.plot(kind='kde', ax=ax, secondary_y=True)"
   ]
  },
  {
   "cell_type": "markdown",
   "metadata": {},
   "source": [
    "## Insertar fecha de datos"
   ]
  },
  {
   "cell_type": "code",
   "execution_count": 42,
   "metadata": {},
   "outputs": [],
   "source": [
    "#RECUPERACION DE FECHAS\n",
    "dias_ordenados = [\"LUNES\", \"MARTES\", \"MIÉRCOLES\", \"JUEVES\", \"VIERNES\", \"SÁBADO\",'DOMINGO']\n",
    "dias_en_ingles = ['Monday', 'Tuesday', 'Wednesday', 'Thursday', 'Friday', 'Saturday', 'Sunday']\n",
    "dia=int(datetime.today().day)\n",
    "mes=int(datetime.today().month)\n",
    "año=int(datetime.today().year)\n",
    "nombre=date.today().strftime(\"%A\")\n",
    "#ALGORITMO DE IDETIFICACION DE DIA ESPAÑOL\n",
    "i=0\n",
    "for day in dias_en_ingles:\n",
    "    if nombre==day:\n",
    "        nombre=dias_ordenados[i]\n",
    "    i+=1   \n",
    "#AGREGACION A LA TABLA\n",
    "tabla1['DIA_SEMANA']=nombre\n",
    "tabla1['DIA_NUMERO']=dia\n",
    "tabla1['MES']=mes\n",
    "tabla1['AÑO']=año\n",
    "\n",
    "tabla1['DIA_SEMANA']= pd.Categorical(tabla1['DIA_SEMANA'], dias_ordenados)"
   ]
  },
  {
   "cell_type": "markdown",
   "metadata": {},
   "source": [
    "### Guardar tablas"
   ]
  },
  {
   "cell_type": "code",
   "execution_count": 43,
   "metadata": {},
   "outputs": [],
   "source": [
    "entradas_hoy=tabla1.copy()\n"
   ]
  },
  {
   "cell_type": "code",
   "execution_count": 44,
   "metadata": {},
   "outputs": [],
   "source": [
    "if isfile('datos.csv'):\n",
    "    entradas_anteriores=pd.read_csv('datos.csv',header=0,encoding='utf-8-sig',decimal=',',sep=';')\n",
    "else:\n",
    "    entradas_anteriores=pd.DataFrame({'TIEMPOS':[],\n",
    "                                      'DIA_SEMANA':[],\n",
    "                                      'DIA_NUMERO':[],\n",
    "                                      'MES':[],\n",
    "                                      'AÑO':[]})\n"
   ]
  },
  {
   "cell_type": "code",
   "execution_count": 45,
   "metadata": {},
   "outputs": [],
   "source": [
    "df=pd.concat([entradas_anteriores,\n",
    "              entradas_hoy],\n",
    "             axis=0).reset_index().copy()\n",
    "df.drop(columns='index',inplace=True)"
   ]
  },
  {
   "cell_type": "code",
   "execution_count": 46,
   "metadata": {},
   "outputs": [],
   "source": [
    "df.to_csv('datos.csv',header=True,index=False,encoding='utf-8-sig',decimal=',',sep=';')\n",
    "df.to_csv('datos_github.csv',header=True,index=False,encoding='utf-8-sig',decimal='.',sep=',')"
   ]
  },
  {
   "cell_type": "code",
   "execution_count": 47,
   "metadata": {
    "scrolled": false
   },
   "outputs": [
    {
     "data": {
      "text/plain": [
       "<AxesSubplot:>"
      ]
     },
     "execution_count": 47,
     "metadata": {},
     "output_type": "execute_result"
    },
    {
     "data": {
      "image/png": "[encoded data removed]",
      "text/plain": [
       "<Figure size 432x288 with 1 Axes>"
      ]
     },
     "metadata": {
      "needs_background": "light"
     },
     "output_type": "display_data"
    }
   ],
   "source": [
    "df.TIEMPOS.plot(kind='bar')"
   ]
  },
  {
   "cell_type": "markdown",
   "metadata": {},
   "source": [
    "# Analisis"
   ]
  },
  {
   "cell_type": "code",
   "execution_count": 48,
   "metadata": {},
   "outputs": [],
   "source": [
    "df['DIA_SEMANA']= pd.Categorical(df['DIA_SEMANA'], dias_ordenados)"
   ]
  },
  {
   "cell_type": "code",
   "execution_count": 49,
   "metadata": {},
   "outputs": [
    {
     "data": {
      "text/plain": [
       "<AxesSubplot:xlabel='DIA_SEMANA'>"
      ]
     },
     "execution_count": 49,
     "metadata": {},
     "output_type": "execute_result"
    },
    {
     "data": {
      "image/png": "[encoded data removed]",
      "text/plain": [
       "<Figure size 432x288 with 1 Axes>"
      ]
     },
     "metadata": {
      "needs_background": "light"
     },
     "output_type": "display_data"
    }
   ],
   "source": [
    "df.groupby(by=['DIA_SEMANA']).agg({'TIEMPOS':'count'}).plot(kind='bar')"
   ]
  },
  {
   "cell_type": "markdown",
   "metadata": {},
   "source": [
    "# Ajuste de tiempos"
   ]
  },
  {
   "cell_type": "code",
   "execution_count": 50,
   "metadata": {},
   "outputs": [
    {
     "name": "stdout",
     "output_type": "stream",
     "text": [
      "['cauchy', 'chi2', 'expon', 'exponpow', 'gamma', 'lognorm', 'norm', 'powerlaw', 'rayleigh', 'uniform']\n"
     ]
    }
   ],
   "source": [
    "from fitter import Fitter,get_common_distributions,get_distributions\n",
    "print(get_common_distributions())"
   ]
  },
  {
   "cell_type": "code",
   "execution_count": 51,
   "metadata": {
    "scrolled": false
   },
   "outputs": [
    {
     "data": {
      "text/html": [
       "\n",
       "            <div style=\"float: left; border: 1px solid black; width:500px\">\n",
       "              <div id=\"3b1c08d4-5c79-4b3c-8f22-fe0fc1bbb627\" style=\"background-color:blue; width:0%\">&nbsp;</div>\n",
       "            </div>\n",
       "            <label id=\"799d395c-2167-47a5-a7de-2df9bc4b0912\" style=\"padding-left: 10px;\" text = \"\"/>\n",
       "            "
      ],
      "text/plain": [
       "<IPython.core.display.HTML object>"
      ]
     },
     "metadata": {},
     "output_type": "display_data"
    },
    {
     "data": {
      "text/html": [
       "<div>\n",
       "<style scoped>\n",
       "    .dataframe tbody tr th:only-of-type {\n",
       "        vertical-align: middle;\n",
       "    }\n",
       "\n",
       "    .dataframe tbody tr th {\n",
       "        vertical-align: top;\n",
       "    }\n",
       "\n",
       "    .dataframe thead th {\n",
       "        text-align: right;\n",
       "    }\n",
       "</style>\n",
       "<table border=\"1\" class=\"dataframe\">\n",
       "  <thead>\n",
       "    <tr style=\"text-align: right;\">\n",
       "      <th></th>\n",
       "      <th>sumsquare_error</th>\n",
       "      <th>aic</th>\n",
       "      <th>bic</th>\n",
       "      <th>kl_div</th>\n",
       "    </tr>\n",
       "  </thead>\n",
       "  <tbody>\n",
       "    <tr>\n",
       "      <th>gamma</th>\n",
       "      <td>0.056211</td>\n",
       "      <td>1142.389509</td>\n",
       "      <td>-149.781040</td>\n",
       "      <td>inf</td>\n",
       "    </tr>\n",
       "    <tr>\n",
       "      <th>lognorm</th>\n",
       "      <td>0.061211</td>\n",
       "      <td>1110.613982</td>\n",
       "      <td>-147.565512</td>\n",
       "      <td>inf</td>\n",
       "    </tr>\n",
       "    <tr>\n",
       "      <th>exponpow</th>\n",
       "      <td>0.066033</td>\n",
       "      <td>983.404937</td>\n",
       "      <td>-145.593811</td>\n",
       "      <td>inf</td>\n",
       "    </tr>\n",
       "    <tr>\n",
       "      <th>expon</th>\n",
       "      <td>0.067566</td>\n",
       "      <td>1137.531046</td>\n",
       "      <td>-148.255385</td>\n",
       "      <td>inf</td>\n",
       "    </tr>\n",
       "    <tr>\n",
       "      <th>powerlaw</th>\n",
       "      <td>0.068390</td>\n",
       "      <td>946.692426</td>\n",
       "      <td>-144.682108</td>\n",
       "      <td>inf</td>\n",
       "    </tr>\n",
       "  </tbody>\n",
       "</table>\n",
       "</div>"
      ],
      "text/plain": [
       "          sumsquare_error          aic         bic  kl_div\n",
       "gamma            0.056211  1142.389509 -149.781040     inf\n",
       "lognorm          0.061211  1110.613982 -147.565512     inf\n",
       "exponpow         0.066033   983.404937 -145.593811     inf\n",
       "expon            0.067566  1137.531046 -148.255385     inf\n",
       "powerlaw         0.068390   946.692426 -144.682108     inf"
      ]
     },
     "execution_count": 51,
     "metadata": {},
     "output_type": "execute_result"
    },
    {
     "data": {
      "image/png": "[encoded data removed]",
      "text/plain": [
       "<Figure size 432x288 with 1 Axes>"
      ]
     },
     "metadata": {
      "needs_background": "light"
     },
     "output_type": "display_data"
    }
   ],
   "source": [
    "\n",
    "f = Fitter(df['TIEMPOS'],distributions=get_common_distributions())\n",
    "f.fit()\n",
    "f.summary()"
   ]
  },
  {
   "cell_type": "code",
   "execution_count": 52,
   "metadata": {
    "scrolled": true
   },
   "outputs": [
    {
     "data": {
      "text/plain": [
       "{'gamma': (0.6417921088441612, 0.06944046020507812, 14.84426141677319)}"
      ]
     },
     "execution_count": 52,
     "metadata": {},
     "output_type": "execute_result"
    }
   ],
   "source": [
    "f.get_best()"
   ]
  },
  {
   "cell_type": "code",
   "execution_count": 34,
   "metadata": {},
   "outputs": [
    {
     "data": {
      "text/plain": [
       "2021"
      ]
     },
     "execution_count": 34,
     "metadata": {},
     "output_type": "execute_result"
    }
   ],
   "source": [
    "int(datetime.today().day)\n",
    "int(datetime.today().month)\n",
    "int(datetime.today().year)"
   ]
  },
  {
   "cell_type": "code",
   "execution_count": 58,
   "metadata": {},
   "outputs": [
    {
     "data": {
      "text/plain": [
       "Index(['TIEMPOS', 'DIA_SEMANA', 'DIA_NUMERO', 'MES', 'AÑO'], dtype='object')"
      ]
     },
     "execution_count": 58,
     "metadata": {},
     "output_type": "execute_result"
    }
   ],
   "source": [
    "df.columns"
   ]
  },
  {
   "cell_type": "code",
   "execution_count": 61,
   "metadata": {},
   "outputs": [
    {
     "data": {
      "text/html": [
       "<div>\n",
       "<style scoped>\n",
       "    .dataframe tbody tr th:only-of-type {\n",
       "        vertical-align: middle;\n",
       "    }\n",
       "\n",
       "    .dataframe tbody tr th {\n",
       "        vertical-align: top;\n",
       "    }\n",
       "\n",
       "    .dataframe thead th {\n",
       "        text-align: right;\n",
       "    }\n",
       "</style>\n",
       "<table border=\"1\" class=\"dataframe\">\n",
       "  <thead>\n",
       "    <tr style=\"text-align: right;\">\n",
       "      <th></th>\n",
       "      <th></th>\n",
       "      <th>TIEMPOS</th>\n",
       "    </tr>\n",
       "    <tr>\n",
       "      <th>MES</th>\n",
       "      <th>DIA_SEMANA</th>\n",
       "      <th></th>\n",
       "    </tr>\n",
       "  </thead>\n",
       "  <tbody>\n",
       "    <tr>\n",
       "      <th rowspan=\"6\" valign=\"top\">1.0</th>\n",
       "      <th>LUNES</th>\n",
       "      <td>0</td>\n",
       "    </tr>\n",
       "    <tr>\n",
       "      <th>MARTES</th>\n",
       "      <td>0</td>\n",
       "    </tr>\n",
       "    <tr>\n",
       "      <th>MIÉRCOLES</th>\n",
       "      <td>0</td>\n",
       "    </tr>\n",
       "    <tr>\n",
       "      <th>JUEVES</th>\n",
       "      <td>0</td>\n",
       "    </tr>\n",
       "    <tr>\n",
       "      <th>VIERNES</th>\n",
       "      <td>0</td>\n",
       "    </tr>\n",
       "    <tr>\n",
       "      <th>SÁBADO</th>\n",
       "      <td>9</td>\n",
       "    </tr>\n",
       "    <tr>\n",
       "      <th rowspan=\"6\" valign=\"top\">12.0</th>\n",
       "      <th>LUNES</th>\n",
       "      <td>0</td>\n",
       "    </tr>\n",
       "    <tr>\n",
       "      <th>MARTES</th>\n",
       "      <td>0</td>\n",
       "    </tr>\n",
       "    <tr>\n",
       "      <th>MIÉRCOLES</th>\n",
       "      <td>0</td>\n",
       "    </tr>\n",
       "    <tr>\n",
       "      <th>JUEVES</th>\n",
       "      <td>17</td>\n",
       "    </tr>\n",
       "    <tr>\n",
       "      <th>VIERNES</th>\n",
       "      <td>0</td>\n",
       "    </tr>\n",
       "    <tr>\n",
       "      <th>SÁBADO</th>\n",
       "      <td>0</td>\n",
       "    </tr>\n",
       "  </tbody>\n",
       "</table>\n",
       "</div>"
      ],
      "text/plain": [
       "                 TIEMPOS\n",
       "MES  DIA_SEMANA         \n",
       "1.0  LUNES             0\n",
       "     MARTES            0\n",
       "     MIÉRCOLES         0\n",
       "     JUEVES            0\n",
       "     VIERNES           0\n",
       "     SÁBADO            9\n",
       "12.0 LUNES             0\n",
       "     MARTES            0\n",
       "     MIÉRCOLES         0\n",
       "     JUEVES           17\n",
       "     VIERNES           0\n",
       "     SÁBADO            0"
      ]
     },
     "execution_count": 61,
     "metadata": {},
     "output_type": "execute_result"
    }
   ],
   "source": [
    "df.groupby(['MES','DIA_SEMANA']).agg({'TIEMPOS':'count'})"
   ]
  }
 ],
 "metadata": {
  "kernelspec": {
   "display_name": "Python 3",
   "language": "python",
   "name": "python3"
  },
  "language_info": {
   "codemirror_mode": {
    "name": "ipython",
    "version": 3
   },
   "file_extension": ".py",
   "mimetype": "text/x-python",
   "name": "python",
   "nbconvert_exporter": "python",
   "pygments_lexer": "ipython3",
   "version": "3.7.4"
  }
 },
 "nbformat": 4,
 "nbformat_minor": 4
}
