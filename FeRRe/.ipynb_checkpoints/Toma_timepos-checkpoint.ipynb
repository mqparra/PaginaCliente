{
 "cells": [
  {
   "cell_type": "code",
   "execution_count": 145,
   "metadata": {},
   "outputs": [],
   "source": [
    "%matplotlib inline\n",
    "import pandas as pd\n",
    "import numpy as np\n",
    "import matplotlib.pyplot as plt\n",
    "import matplotlib as mpl\n",
    "import time\n",
    "from os.path import isfile\n",
    "from IPython.display import HTML,display\n",
    "from datetime import date,datetime\n"
   ]
  },
  {
   "cell_type": "markdown",
   "metadata": {},
   "source": [
    "# Decir que dia y mes"
   ]
  },
  {
   "cell_type": "code",
   "execution_count": 29,
   "metadata": {
    "scrolled": false
   },
   "outputs": [
    {
     "name": "stdout",
     "output_type": "stream",
     "text": [
      "Enter: LLegada \n",
      "FIN fin de toma de datos \n",
      "Enter: LLegada \n",
      "FIN fin de toma de datos \n",
      "Enter: LLegada \n",
      "FIN fin de toma de datos \n",
      "Enter: LLegada \n",
      "FIN fin de toma de datos \n",
      "Enter: LLegada \n",
      "FIN fin de toma de datos \n",
      "Enter: LLegada \n",
      "FIN fin de toma de datos \n",
      "Enter: LLegada \n",
      "FIN fin de toma de datos \n",
      "Enter: LLegada \n",
      "FIN fin de toma de datos \n",
      "Enter: LLegada \n",
      "FIN fin de toma de datos \n",
      "Enter: LLegada \n",
      "FIN fin de toma de datos \n",
      "Enter: LLegada \n",
      "FIN fin de toma de datos \n",
      "Enter: LLegada \n",
      "FIN fin de toma de datos \n",
      "Enter: LLegada \n",
      "FIN fin de toma de datos \n",
      "Enter: LLegada \n",
      "FIN fin de toma de datos \n",
      "Enter: LLegada \n",
      "FIN fin de toma de datos fin\n"
     ]
    },
    {
     "data": {
      "text/plain": [
       "[1609362171.0869343,\n",
       " 1609362172.29103,\n",
       " 1609362174.010945,\n",
       " 1609362175.2410905,\n",
       " 1609362177.7203367,\n",
       " 1609362179.7305646,\n",
       " 1609362180.609565,\n",
       " 1609362181.3931704,\n",
       " 1609362184.7985978,\n",
       " 1609362186.9456933,\n",
       " 1609362188.9638605,\n",
       " 1609362190.3072548,\n",
       " 1609362191.6317883,\n",
       " 1609362199.4616604,\n",
       " 1609362203.2784524]"
      ]
     },
     "execution_count": 29,
     "metadata": {},
     "output_type": "execute_result"
    }
   ],
   "source": [
    "tiempos=[]\n",
    "inicio=time.time()\n",
    "tiempos.append(inicio)\n",
    "fin=False\n",
    "while not fin:    \n",
    "    i=str(input(\"Enter: LLegada \\nFIN fin de toma de datos \")).upper()\n",
    "    if i=='FIN':\n",
    "        fin=True\n",
    "    else:\n",
    "        tiempos.append(time.time())\n",
    "    \n",
    "tiempos"
   ]
  },
  {
   "cell_type": "code",
   "execution_count": 30,
   "metadata": {},
   "outputs": [
    {
     "data": {
      "text/plain": [
       "[1609362171.0869343,\n",
       " 1609362172.29103,\n",
       " 1609362174.010945,\n",
       " 1609362175.2410905,\n",
       " 1609362177.7203367,\n",
       " 1609362179.7305646,\n",
       " 1609362180.609565,\n",
       " 1609362181.3931704,\n",
       " 1609362184.7985978,\n",
       " 1609362186.9456933,\n",
       " 1609362188.9638605,\n",
       " 1609362190.3072548,\n",
       " 1609362191.6317883,\n",
       " 1609362199.4616604,\n",
       " 1609362203.2784524]"
      ]
     },
     "execution_count": 30,
     "metadata": {},
     "output_type": "execute_result"
    }
   ],
   "source": [
    "tiempos"
   ]
  },
  {
   "cell_type": "code",
   "execution_count": 31,
   "metadata": {},
   "outputs": [],
   "source": [
    "tiempos=np.array(tiempos)"
   ]
  },
  {
   "cell_type": "code",
   "execution_count": 77,
   "metadata": {},
   "outputs": [],
   "source": [
    "tabla=pd.DataFrame(data=tiempos,columns={'TIEMPOS'})"
   ]
  },
  {
   "cell_type": "code",
   "execution_count": 78,
   "metadata": {},
   "outputs": [],
   "source": [
    "tabla1=tabla.diff().copy()\n",
    "tabla1.dropna(inplace=True)\n",
    "tabla1['TIEMPOS']=tabla1['TIEMPOS']/60\n",
    "tabla1.reset_index(inplace=True,drop=True)"
   ]
  },
  {
   "cell_type": "code",
   "execution_count": 79,
   "metadata": {},
   "outputs": [
    {
     "data": {
      "text/html": [
       "<div>\n",
       "<style scoped>\n",
       "    .dataframe tbody tr th:only-of-type {\n",
       "        vertical-align: middle;\n",
       "    }\n",
       "\n",
       "    .dataframe tbody tr th {\n",
       "        vertical-align: top;\n",
       "    }\n",
       "\n",
       "    .dataframe thead th {\n",
       "        text-align: right;\n",
       "    }\n",
       "</style>\n",
       "<table border=\"1\" class=\"dataframe\">\n",
       "  <thead>\n",
       "    <tr style=\"text-align: right;\">\n",
       "      <th></th>\n",
       "      <th>TIEMPOS</th>\n",
       "    </tr>\n",
       "  </thead>\n",
       "  <tbody>\n",
       "    <tr>\n",
       "      <th>0</th>\n",
       "      <td>0.020068</td>\n",
       "    </tr>\n",
       "    <tr>\n",
       "      <th>1</th>\n",
       "      <td>0.028665</td>\n",
       "    </tr>\n",
       "    <tr>\n",
       "      <th>2</th>\n",
       "      <td>0.020502</td>\n",
       "    </tr>\n",
       "    <tr>\n",
       "      <th>3</th>\n",
       "      <td>0.041321</td>\n",
       "    </tr>\n",
       "    <tr>\n",
       "      <th>4</th>\n",
       "      <td>0.033504</td>\n",
       "    </tr>\n",
       "    <tr>\n",
       "      <th>5</th>\n",
       "      <td>0.014650</td>\n",
       "    </tr>\n",
       "    <tr>\n",
       "      <th>6</th>\n",
       "      <td>0.013060</td>\n",
       "    </tr>\n",
       "    <tr>\n",
       "      <th>7</th>\n",
       "      <td>0.056757</td>\n",
       "    </tr>\n",
       "    <tr>\n",
       "      <th>8</th>\n",
       "      <td>0.035785</td>\n",
       "    </tr>\n",
       "    <tr>\n",
       "      <th>9</th>\n",
       "      <td>0.033636</td>\n",
       "    </tr>\n",
       "    <tr>\n",
       "      <th>10</th>\n",
       "      <td>0.022390</td>\n",
       "    </tr>\n",
       "    <tr>\n",
       "      <th>11</th>\n",
       "      <td>0.022076</td>\n",
       "    </tr>\n",
       "    <tr>\n",
       "      <th>12</th>\n",
       "      <td>0.130498</td>\n",
       "    </tr>\n",
       "    <tr>\n",
       "      <th>13</th>\n",
       "      <td>0.063613</td>\n",
       "    </tr>\n",
       "  </tbody>\n",
       "</table>\n",
       "</div>"
      ],
      "text/plain": [
       "     TIEMPOS\n",
       "0   0.020068\n",
       "1   0.028665\n",
       "2   0.020502\n",
       "3   0.041321\n",
       "4   0.033504\n",
       "5   0.014650\n",
       "6   0.013060\n",
       "7   0.056757\n",
       "8   0.035785\n",
       "9   0.033636\n",
       "10  0.022390\n",
       "11  0.022076\n",
       "12  0.130498\n",
       "13  0.063613"
      ]
     },
     "metadata": {},
     "output_type": "display_data"
    },
    {
     "data": {
      "text/plain": [
       "<AxesSubplot:>"
      ]
     },
     "execution_count": 79,
     "metadata": {},
     "output_type": "execute_result"
    },
    {
     "data": {
      "image/png": "[encoded data removed]",
      "text/plain": [
       "<Figure size 432x288 with 1 Axes>"
      ]
     },
     "metadata": {
      "needs_background": "light"
     },
     "output_type": "display_data"
    }
   ],
   "source": [
    "display(tabla1)\n",
    "tabla1.plot()"
   ]
  },
  {
   "cell_type": "code",
   "execution_count": 80,
   "metadata": {
    "scrolled": false
   },
   "outputs": [
    {
     "data": {
      "text/plain": [
       "<AxesSubplot:label='69208ac8-b7ab-4e77-b170-bb0edc84c9b8'>"
      ]
     },
     "execution_count": 80,
     "metadata": {},
     "output_type": "execute_result"
    },
    {
     "data": {
      "image/png": "[encoded data removed]",
      "text/plain": [
       "<Figure size 432x288 with 2 Axes>"
      ]
     },
     "metadata": {
      "needs_background": "light"
     },
     "output_type": "display_data"
    }
   ],
   "source": [
    "ax = tabla1.TIEMPOS.plot(kind='hist')\n",
    "tabla1.TIEMPOS.plot(kind='kde', ax=ax, secondary_y=True)"
   ]
  },
  {
   "cell_type": "markdown",
   "metadata": {},
   "source": [
    "## Insertar fecha de datos"
   ]
  },
  {
   "cell_type": "code",
   "execution_count": 81,
   "metadata": {},
   "outputs": [],
   "source": [
    "#RECUPERACION DE FECHAS\n",
    "dias_ordenados = [\"LUNES\", \"MARTES\", \"MIÉRCOLES\", \"JUEVES\", \"VIERNES\", \"SÁBADO\"]\n",
    "dias_en_ingles = ['Monday', 'Tuesday', 'Wednesday', 'Thursday', 'Friday', 'Saturday', 'Sunday']\n",
    "dia=datetime.today().day\n",
    "mes=datetime.today().month\n",
    "año=datetime.today().year\n",
    "nombre=date.today().strftime(\"%A\")\n",
    "#ALGORITMO DE IDETIFICACION DE DIA ESPAÑOL\n",
    "i=0\n",
    "for day in dias_en_ingles:\n",
    "    if nombre==day:\n",
    "        nombre=dias_ordenados[i]\n",
    "    i+=1   \n",
    "#AGREGACION A LA TABLA\n",
    "tabla1['DIA_SEMANA']=nombre\n",
    "tabla1['DIA_NUMERO']=dia\n",
    "tabla1['MES']=mes\n",
    "tabla1['AÑO']=año\n",
    "\n",
    "tabla1['DIA_SEMANA']= pd.Categorical(tabla1['DIA_SEMANA'], dias_ordenados)"
   ]
  },
  {
   "cell_type": "markdown",
   "metadata": {},
   "source": [
    "### Guardar tablas"
   ]
  },
  {
   "cell_type": "code",
   "execution_count": 140,
   "metadata": {},
   "outputs": [],
   "source": [
    "entradas_hoy=tabla1.copy()\n"
   ]
  },
  {
   "cell_type": "code",
   "execution_count": 154,
   "metadata": {},
   "outputs": [],
   "source": [
    "if isfile('datos.csv'):\n",
    "    entradas_anteriores=pd.read_csv('datos.csv',header=0,encoding='utf-8-sig',decimal=',',sep=';')\n",
    "else:\n",
    "    entradas_anteriores=pd.DataFrame({'TIEMPOS':[],\n",
    "                                      'DIA_SEMANA':[],\n",
    "                                      'DIA_NUMERO':[],\n",
    "                                      'MES':[],\n",
    "                                      'AÑO':[]})\n"
   ]
  },
  {
   "cell_type": "code",
   "execution_count": 129,
   "metadata": {},
   "outputs": [],
   "source": [
    "df=pd.concat([entradas_anteriores,\n",
    "              entradas_hoy],\n",
    "             axis=0).reset_index().copy()\n",
    "df.drop(columns='index',inplace=True)"
   ]
  },
  {
   "cell_type": "code",
   "execution_count": 152,
   "metadata": {},
   "outputs": [],
   "source": [
    "df.to_csv('datos.csv',header=True,index=False,encoding='utf-8-sig',decimal=',',sep=';')"
   ]
  },
  {
   "cell_type": "code",
   "execution_count": 151,
   "metadata": {
    "scrolled": true
   },
   "outputs": [
    {
     "data": {
      "text/plain": [
       "<AxesSubplot:>"
      ]
     },
     "execution_count": 151,
     "metadata": {},
     "output_type": "execute_result"
    },
    {
     "data": {
      "image/png": "[encoded data removed]",
      "text/plain": [
       "<Figure size 432x288 with 1 Axes>"
      ]
     },
     "metadata": {
      "needs_background": "light"
     },
     "output_type": "display_data"
    }
   ],
   "source": [
    "df.TIEMPOS.plot(kind='bar')"
   ]
  },
  {
   "cell_type": "markdown",
   "metadata": {},
   "source": [
    "# Analisis"
   ]
  },
  {
   "cell_type": "code",
   "execution_count": 135,
   "metadata": {},
   "outputs": [],
   "source": [
    "df['DIA_SEMANA']= pd.Categorical(df['DIA_SEMANA'], dias_ordenados)"
   ]
  },
  {
   "cell_type": "code",
   "execution_count": 138,
   "metadata": {},
   "outputs": [
    {
     "data": {
      "text/plain": [
       "<AxesSubplot:xlabel='DIA_SEMANA'>"
      ]
     },
     "execution_count": 138,
     "metadata": {},
     "output_type": "execute_result"
    },
    {
     "data": {
      "image/png": "[encoded data removed]",
      "text/plain": [
       "<Figure size 432x288 with 1 Axes>"
      ]
     },
     "metadata": {
      "needs_background": "light"
     },
     "output_type": "display_data"
    }
   ],
   "source": [
    "df.groupby(by=['DIA_SEMANA']).agg({'TIEMPOS':'count'}).plot(kind='bar')"
   ]
  },
  {
   "cell_type": "markdown",
   "metadata": {},
   "source": [
    "# Ajuste de tiempos"
   ]
  },
  {
   "cell_type": "code",
   "execution_count": 77,
   "metadata": {},
   "outputs": [
    {
     "name": "stdout",
     "output_type": "stream",
     "text": [
      "['cauchy', 'chi2', 'expon', 'exponpow', 'gamma', 'lognorm', 'norm', 'powerlaw', 'rayleigh', 'uniform']\n"
     ]
    }
   ],
   "source": [
    "from fitter import Fitter,get_common_distributions,get_distributions\n",
    "print(get_common_distributions())"
   ]
  },
  {
   "cell_type": "code",
   "execution_count": 78,
   "metadata": {
    "scrolled": false
   },
   "outputs": [
    {
     "data": {
      "text/html": [
       "\n",
       "            <div style=\"float: left; border: 1px solid black; width:500px\">\n",
       "              <div id=\"b2bbc4a2-6892-493f-bc11-25565b257fd0\" style=\"background-color:blue; width:0%\">&nbsp;</div>\n",
       "            </div>\n",
       "            <label id=\"d5637b04-f068-4dc7-9913-f45cd905aa5c\" style=\"padding-left: 10px;\" text = \"\"/>\n",
       "            "
      ],
      "text/plain": [
       "<IPython.core.display.HTML object>"
      ]
     },
     "metadata": {},
     "output_type": "display_data"
    },
    {
     "data": {
      "text/html": [
       "<div>\n",
       "<style scoped>\n",
       "    .dataframe tbody tr th:only-of-type {\n",
       "        vertical-align: middle;\n",
       "    }\n",
       "\n",
       "    .dataframe tbody tr th {\n",
       "        vertical-align: top;\n",
       "    }\n",
       "\n",
       "    .dataframe thead th {\n",
       "        text-align: right;\n",
       "    }\n",
       "</style>\n",
       "<table border=\"1\" class=\"dataframe\">\n",
       "  <thead>\n",
       "    <tr style=\"text-align: right;\">\n",
       "      <th></th>\n",
       "      <th>sumsquare_error</th>\n",
       "      <th>aic</th>\n",
       "      <th>bic</th>\n",
       "      <th>kl_div</th>\n",
       "    </tr>\n",
       "  </thead>\n",
       "  <tbody>\n",
       "    <tr>\n",
       "      <th>cauchy</th>\n",
       "      <td>0.447324</td>\n",
       "      <td>899.753285</td>\n",
       "      <td>-26.465411</td>\n",
       "      <td>inf</td>\n",
       "    </tr>\n",
       "    <tr>\n",
       "      <th>lognorm</th>\n",
       "      <td>0.455088</td>\n",
       "      <td>813.799338</td>\n",
       "      <td>-23.990740</td>\n",
       "      <td>inf</td>\n",
       "    </tr>\n",
       "    <tr>\n",
       "      <th>gamma</th>\n",
       "      <td>0.455825</td>\n",
       "      <td>810.662308</td>\n",
       "      <td>-23.974551</td>\n",
       "      <td>inf</td>\n",
       "    </tr>\n",
       "    <tr>\n",
       "      <th>rayleigh</th>\n",
       "      <td>0.456980</td>\n",
       "      <td>802.074743</td>\n",
       "      <td>-26.251832</td>\n",
       "      <td>inf</td>\n",
       "    </tr>\n",
       "    <tr>\n",
       "      <th>norm</th>\n",
       "      <td>0.459555</td>\n",
       "      <td>809.511497</td>\n",
       "      <td>-26.195649</td>\n",
       "      <td>inf</td>\n",
       "    </tr>\n",
       "  </tbody>\n",
       "</table>\n",
       "</div>"
      ],
      "text/plain": [
       "          sumsquare_error         aic        bic  kl_div\n",
       "cauchy           0.447324  899.753285 -26.465411     inf\n",
       "lognorm          0.455088  813.799338 -23.990740     inf\n",
       "gamma            0.455825  810.662308 -23.974551     inf\n",
       "rayleigh         0.456980  802.074743 -26.251832     inf\n",
       "norm             0.459555  809.511497 -26.195649     inf"
      ]
     },
     "execution_count": 78,
     "metadata": {},
     "output_type": "execute_result"
    },
    {
     "data": {
      "image/png": "[encoded data removed]",
      "text/plain": [
       "<Figure size 432x288 with 1 Axes>"
      ]
     },
     "metadata": {
      "needs_background": "light"
     },
     "output_type": "display_data"
    }
   ],
   "source": [
    "\n",
    "f = Fitter(tabla_final,distributions=get_common_distributions())\n",
    "f.fit()\n",
    "f.summary()"
   ]
  },
  {
   "cell_type": "code",
   "execution_count": 79,
   "metadata": {},
   "outputs": [
    {
     "data": {
      "text/plain": [
       "{'cauchy': (14.102891419514869, 5.319378390685635)}"
      ]
     },
     "execution_count": 79,
     "metadata": {},
     "output_type": "execute_result"
    }
   ],
   "source": [
    "f.get_best()"
   ]
  },
  {
   "cell_type": "code",
   "execution_count": 149,
   "metadata": {},
   "outputs": [],
   "source": [
    "entradas_anteriores=pd.DataFrame({'TIEMPOS':[],\n",
    "                                     'DIA_SEMANA':[],\n",
    "                                     'DIA_NUMERO':[],\n",
    "                                  'MES':[],\n",
    "                                     'AÑO':[]})"
   ]
  },
  {
   "cell_type": "code",
   "execution_count": 150,
   "metadata": {},
   "outputs": [
    {
     "data": {
      "text/html": [
       "<div>\n",
       "<style scoped>\n",
       "    .dataframe tbody tr th:only-of-type {\n",
       "        vertical-align: middle;\n",
       "    }\n",
       "\n",
       "    .dataframe tbody tr th {\n",
       "        vertical-align: top;\n",
       "    }\n",
       "\n",
       "    .dataframe thead th {\n",
       "        text-align: right;\n",
       "    }\n",
       "</style>\n",
       "<table border=\"1\" class=\"dataframe\">\n",
       "  <thead>\n",
       "    <tr style=\"text-align: right;\">\n",
       "      <th></th>\n",
       "      <th>TIEMPOS</th>\n",
       "      <th>DIA_SEMANA</th>\n",
       "      <th>DIA_NUMERO</th>\n",
       "      <th>MES</th>\n",
       "      <th>AÑO</th>\n",
       "    </tr>\n",
       "  </thead>\n",
       "  <tbody>\n",
       "  </tbody>\n",
       "</table>\n",
       "</div>"
      ],
      "text/plain": [
       "Empty DataFrame\n",
       "Columns: [TIEMPOS, DIA_SEMANA, DIA_NUMERO, MES, AÑO]\n",
       "Index: []"
      ]
     },
     "execution_count": 150,
     "metadata": {},
     "output_type": "execute_result"
    }
   ],
   "source": [
    "entradas_anteriores"
   ]
  }
 ],
 "metadata": {
  "kernelspec": {
   "display_name": "Python 3",
   "language": "python",
   "name": "python3"
  },
  "language_info": {
   "codemirror_mode": {
    "name": "ipython",
    "version": 3
   },
   "file_extension": ".py",
   "mimetype": "text/x-python",
   "name": "python",
   "nbconvert_exporter": "python",
   "pygments_lexer": "ipython3",
   "version": "3.7.4"
  }
 },
 "nbformat": 4,
 "nbformat_minor": 4
}
