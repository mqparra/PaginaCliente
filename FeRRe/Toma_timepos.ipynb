{
 "cells": [
  {
   "cell_type": "code",
   "execution_count": 1,
   "metadata": {},
   "outputs": [],
   "source": [
    "%matplotlib inline\n",
    "import pandas as pd\n",
    "import numpy as np\n",
    "import matplotlib.pyplot as plt\n",
    "import matplotlib as mpl\n",
    "import time\n",
    "from os.path import isfile\n",
    "from IPython.display import HTML,display\n",
    "from datetime import date,datetime\n"
   ]
  },
  {
   "cell_type": "markdown",
   "metadata": {},
   "source": [
    "# Decir que dia y mes"
   ]
  },
  {
   "cell_type": "code",
   "execution_count": 2,
   "metadata": {
    "scrolled": false
   },
   "outputs": [
    {
     "name": "stdout",
     "output_type": "stream",
     "text": [
      "Enter: LLegada \n",
      "FIN fin de toma de datos \n",
      "Enter: LLegada \n",
      "FIN fin de toma de datos \n",
      "Enter: LLegada \n",
      "FIN fin de toma de datos \n",
      "Enter: LLegada \n",
      "FIN fin de toma de datos \n",
      "Enter: LLegada \n",
      "FIN fin de toma de datos \n",
      "Enter: LLegada \n",
      "FIN fin de toma de datos \n",
      "Enter: LLegada \n",
      "FIN fin de toma de datos \n",
      "Enter: LLegada \n",
      "FIN fin de toma de datos \n",
      "Enter: LLegada \n",
      "FIN fin de toma de datos \n",
      "Enter: LLegada \n",
      "FIN fin de toma de datos \n",
      "Enter: LLegada \n",
      "FIN fin de toma de datos \n",
      "Enter: LLegada \n",
      "FIN fin de toma de datos \n",
      "Enter: LLegada \n",
      "FIN fin de toma de datos \n",
      "Enter: LLegada \n",
      "FIN fin de toma de datos \n",
      "Enter: LLegada \n",
      "FIN fin de toma de datos \n",
      "Enter: LLegada \n",
      "FIN fin de toma de datos \n",
      "Enter: LLegada \n",
      "FIN fin de toma de datos \n",
      "Enter: LLegada \n",
      "FIN fin de toma de datos \n",
      "Enter: LLegada \n",
      "FIN fin de toma de datos \n",
      "Enter: LLegada \n",
      "FIN fin de toma de datos \n",
      "Enter: LLegada \n",
      "FIN fin de toma de datos \n",
      "Enter: LLegada \n",
      "FIN fin de toma de datos \n",
      "Enter: LLegada \n",
      "FIN fin de toma de datos \n",
      "Enter: LLegada \n",
      "FIN fin de toma de datos \n",
      "Enter: LLegada \n",
      "FIN fin de toma de datos \n",
      "Enter: LLegada \n",
      "FIN fin de toma de datos fin\n"
     ]
    },
    {
     "data": {
      "text/plain": [
       "[1609369904.3234987,\n",
       " 1609369905.337234,\n",
       " 1609369906.5208302,\n",
       " 1609369906.8210292,\n",
       " 1609369908.0185215,\n",
       " 1609369909.028325,\n",
       " 1609369909.3329422,\n",
       " 1609369910.6486306,\n",
       " 1609369911.724358,\n",
       " 1609369912.0637116,\n",
       " 1609369913.4035258,\n",
       " 1609369914.3921854,\n",
       " 1609369914.6898127,\n",
       " 1609369915.926882,\n",
       " 1609369916.9673111,\n",
       " 1609369917.290304,\n",
       " 1609369918.5968459,\n",
       " 1609369919.6320896,\n",
       " 1609369919.9096618,\n",
       " 1609369921.3019712,\n",
       " 1609369922.2178082,\n",
       " 1609369922.557712,\n",
       " 1609369924.7691598,\n",
       " 1609369927.2727728,\n",
       " 1609369927.5506344,\n",
       " 1609369927.833654]"
      ]
     },
     "execution_count": 2,
     "metadata": {},
     "output_type": "execute_result"
    }
   ],
   "source": [
    "tiempos=[]\n",
    "inicio=time.time()\n",
    "tiempos.append(inicio)\n",
    "fin=False\n",
    "while not fin:    \n",
    "    i=str(input(\"Enter: LLegada \\nFIN fin de toma de datos \")).upper()\n",
    "    if i=='FIN':\n",
    "        fin=True\n",
    "    else:\n",
    "        tiempos.append(time.time())\n",
    "    \n",
    "tiempos"
   ]
  },
  {
   "cell_type": "code",
   "execution_count": 3,
   "metadata": {},
   "outputs": [
    {
     "data": {
      "text/plain": [
       "[1609369904.3234987,\n",
       " 1609369905.337234,\n",
       " 1609369906.5208302,\n",
       " 1609369906.8210292,\n",
       " 1609369908.0185215,\n",
       " 1609369909.028325,\n",
       " 1609369909.3329422,\n",
       " 1609369910.6486306,\n",
       " 1609369911.724358,\n",
       " 1609369912.0637116,\n",
       " 1609369913.4035258,\n",
       " 1609369914.3921854,\n",
       " 1609369914.6898127,\n",
       " 1609369915.926882,\n",
       " 1609369916.9673111,\n",
       " 1609369917.290304,\n",
       " 1609369918.5968459,\n",
       " 1609369919.6320896,\n",
       " 1609369919.9096618,\n",
       " 1609369921.3019712,\n",
       " 1609369922.2178082,\n",
       " 1609369922.557712,\n",
       " 1609369924.7691598,\n",
       " 1609369927.2727728,\n",
       " 1609369927.5506344,\n",
       " 1609369927.833654]"
      ]
     },
     "execution_count": 3,
     "metadata": {},
     "output_type": "execute_result"
    }
   ],
   "source": [
    "tiempos"
   ]
  },
  {
   "cell_type": "code",
   "execution_count": 4,
   "metadata": {},
   "outputs": [],
   "source": [
    "tiempos=np.array(tiempos)"
   ]
  },
  {
   "cell_type": "code",
   "execution_count": 5,
   "metadata": {},
   "outputs": [],
   "source": [
    "tabla=pd.DataFrame(data=tiempos,columns={'TIEMPOS'})"
   ]
  },
  {
   "cell_type": "code",
   "execution_count": 6,
   "metadata": {},
   "outputs": [],
   "source": [
    "tabla1=tabla.diff().copy()\n",
    "tabla1.dropna(inplace=True)\n",
    "tabla1['TIEMPOS']=tabla1['TIEMPOS']/60\n",
    "tabla1.reset_index(inplace=True,drop=True)"
   ]
  },
  {
   "cell_type": "code",
   "execution_count": 7,
   "metadata": {},
   "outputs": [
    {
     "data": {
      "text/html": [
       "<div>\n",
       "<style scoped>\n",
       "    .dataframe tbody tr th:only-of-type {\n",
       "        vertical-align: middle;\n",
       "    }\n",
       "\n",
       "    .dataframe tbody tr th {\n",
       "        vertical-align: top;\n",
       "    }\n",
       "\n",
       "    .dataframe thead th {\n",
       "        text-align: right;\n",
       "    }\n",
       "</style>\n",
       "<table border=\"1\" class=\"dataframe\">\n",
       "  <thead>\n",
       "    <tr style=\"text-align: right;\">\n",
       "      <th></th>\n",
       "      <th>TIEMPOS</th>\n",
       "    </tr>\n",
       "  </thead>\n",
       "  <tbody>\n",
       "    <tr>\n",
       "      <th>0</th>\n",
       "      <td>0.016896</td>\n",
       "    </tr>\n",
       "    <tr>\n",
       "      <th>1</th>\n",
       "      <td>0.019727</td>\n",
       "    </tr>\n",
       "    <tr>\n",
       "      <th>2</th>\n",
       "      <td>0.005003</td>\n",
       "    </tr>\n",
       "    <tr>\n",
       "      <th>3</th>\n",
       "      <td>0.019958</td>\n",
       "    </tr>\n",
       "    <tr>\n",
       "      <th>4</th>\n",
       "      <td>0.016830</td>\n",
       "    </tr>\n",
       "    <tr>\n",
       "      <th>5</th>\n",
       "      <td>0.005077</td>\n",
       "    </tr>\n",
       "    <tr>\n",
       "      <th>6</th>\n",
       "      <td>0.021928</td>\n",
       "    </tr>\n",
       "    <tr>\n",
       "      <th>7</th>\n",
       "      <td>0.017929</td>\n",
       "    </tr>\n",
       "    <tr>\n",
       "      <th>8</th>\n",
       "      <td>0.005656</td>\n",
       "    </tr>\n",
       "    <tr>\n",
       "      <th>9</th>\n",
       "      <td>0.022330</td>\n",
       "    </tr>\n",
       "    <tr>\n",
       "      <th>10</th>\n",
       "      <td>0.016478</td>\n",
       "    </tr>\n",
       "    <tr>\n",
       "      <th>11</th>\n",
       "      <td>0.004960</td>\n",
       "    </tr>\n",
       "    <tr>\n",
       "      <th>12</th>\n",
       "      <td>0.020618</td>\n",
       "    </tr>\n",
       "    <tr>\n",
       "      <th>13</th>\n",
       "      <td>0.017340</td>\n",
       "    </tr>\n",
       "    <tr>\n",
       "      <th>14</th>\n",
       "      <td>0.005383</td>\n",
       "    </tr>\n",
       "    <tr>\n",
       "      <th>15</th>\n",
       "      <td>0.021776</td>\n",
       "    </tr>\n",
       "    <tr>\n",
       "      <th>16</th>\n",
       "      <td>0.017254</td>\n",
       "    </tr>\n",
       "    <tr>\n",
       "      <th>17</th>\n",
       "      <td>0.004626</td>\n",
       "    </tr>\n",
       "    <tr>\n",
       "      <th>18</th>\n",
       "      <td>0.023205</td>\n",
       "    </tr>\n",
       "    <tr>\n",
       "      <th>19</th>\n",
       "      <td>0.015264</td>\n",
       "    </tr>\n",
       "    <tr>\n",
       "      <th>20</th>\n",
       "      <td>0.005665</td>\n",
       "    </tr>\n",
       "    <tr>\n",
       "      <th>21</th>\n",
       "      <td>0.036857</td>\n",
       "    </tr>\n",
       "    <tr>\n",
       "      <th>22</th>\n",
       "      <td>0.041727</td>\n",
       "    </tr>\n",
       "    <tr>\n",
       "      <th>23</th>\n",
       "      <td>0.004631</td>\n",
       "    </tr>\n",
       "    <tr>\n",
       "      <th>24</th>\n",
       "      <td>0.004717</td>\n",
       "    </tr>\n",
       "  </tbody>\n",
       "</table>\n",
       "</div>"
      ],
      "text/plain": [
       "     TIEMPOS\n",
       "0   0.016896\n",
       "1   0.019727\n",
       "2   0.005003\n",
       "3   0.019958\n",
       "4   0.016830\n",
       "5   0.005077\n",
       "6   0.021928\n",
       "7   0.017929\n",
       "8   0.005656\n",
       "9   0.022330\n",
       "10  0.016478\n",
       "11  0.004960\n",
       "12  0.020618\n",
       "13  0.017340\n",
       "14  0.005383\n",
       "15  0.021776\n",
       "16  0.017254\n",
       "17  0.004626\n",
       "18  0.023205\n",
       "19  0.015264\n",
       "20  0.005665\n",
       "21  0.036857\n",
       "22  0.041727\n",
       "23  0.004631\n",
       "24  0.004717"
      ]
     },
     "metadata": {},
     "output_type": "display_data"
    },
    {
     "data": {
      "text/plain": [
       "<AxesSubplot:>"
      ]
     },
     "execution_count": 7,
     "metadata": {},
     "output_type": "execute_result"
    },
    {
     "data": {
      "image/png": "[encoded data removed]",
      "text/plain": [
       "<Figure size 432x288 with 1 Axes>"
      ]
     },
     "metadata": {
      "needs_background": "light"
     },
     "output_type": "display_data"
    }
   ],
   "source": [
    "display(tabla1)\n",
    "tabla1.plot()"
   ]
  },
  {
   "cell_type": "code",
   "execution_count": 8,
   "metadata": {
    "scrolled": false
   },
   "outputs": [
    {
     "data": {
      "text/plain": [
       "<AxesSubplot:label='d01a7220-669f-4094-aa49-a4f0bc975a80'>"
      ]
     },
     "execution_count": 8,
     "metadata": {},
     "output_type": "execute_result"
    },
    {
     "data": {
      "image/png": "[encoded data removed]",
      "text/plain": [
       "<Figure size 432x288 with 2 Axes>"
      ]
     },
     "metadata": {
      "needs_background": "light"
     },
     "output_type": "display_data"
    }
   ],
   "source": [
    "ax = tabla1.TIEMPOS.plot(kind='hist')\n",
    "tabla1.TIEMPOS.plot(kind='kde', ax=ax, secondary_y=True)"
   ]
  },
  {
   "cell_type": "markdown",
   "metadata": {},
   "source": [
    "## Insertar fecha de datos"
   ]
  },
  {
   "cell_type": "code",
   "execution_count": 9,
   "metadata": {},
   "outputs": [],
   "source": [
    "#RECUPERACION DE FECHAS\n",
    "dias_ordenados = [\"LUNES\", \"MARTES\", \"MIÉRCOLES\", \"JUEVES\", \"VIERNES\", \"SÁBADO\"]\n",
    "dias_en_ingles = ['Monday', 'Tuesday', 'Wednesday', 'Thursday', 'Friday', 'Saturday', 'Sunday']\n",
    "dia=datetime.today().day\n",
    "mes=datetime.today().month\n",
    "año=datetime.today().year\n",
    "nombre=date.today().strftime(\"%A\")\n",
    "#ALGORITMO DE IDETIFICACION DE DIA ESPAÑOL\n",
    "i=0\n",
    "for day in dias_en_ingles:\n",
    "    if nombre==day:\n",
    "        nombre=dias_ordenados[i]\n",
    "    i+=1   \n",
    "#AGREGACION A LA TABLA\n",
    "tabla1['DIA_SEMANA']=nombre\n",
    "tabla1['DIA_NUMERO']=dia\n",
    "tabla1['MES']=mes\n",
    "tabla1['AÑO']=año\n",
    "\n",
    "tabla1['DIA_SEMANA']= pd.Categorical(tabla1['DIA_SEMANA'], dias_ordenados)"
   ]
  },
  {
   "cell_type": "markdown",
   "metadata": {},
   "source": [
    "### Guardar tablas"
   ]
  },
  {
   "cell_type": "code",
   "execution_count": 10,
   "metadata": {},
   "outputs": [],
   "source": [
    "entradas_hoy=tabla1.copy()\n"
   ]
  },
  {
   "cell_type": "code",
   "execution_count": 22,
   "metadata": {},
   "outputs": [],
   "source": [
    "if isfile('datos.csv'):\n",
    "    entradas_anteriores=pd.read_csv('datos.csv',header=0,encoding='utf-8-sig',decimal=',',sep=';')\n",
    "else:\n",
    "    entradas_anteriores=pd.DataFrame({'TIEMPOS':[],\n",
    "                                      'DIA_SEMANA':[],\n",
    "                                      'DIA_NUMERO':[],\n",
    "                                      'MES':[],\n",
    "                                      'AÑO':[]})\n"
   ]
  },
  {
   "cell_type": "code",
   "execution_count": 23,
   "metadata": {},
   "outputs": [],
   "source": [
    "df=pd.concat([entradas_anteriores,\n",
    "              entradas_hoy],\n",
    "             axis=0).reset_index().copy()\n",
    "df.drop(columns='index',inplace=True)"
   ]
  },
  {
   "cell_type": "code",
   "execution_count": 21,
   "metadata": {},
   "outputs": [],
   "source": [
    "df.to_csv('datos.csv',header=True,index=False,encoding='utf-8-sig',decimal=',',sep=';')"
   ]
  },
  {
   "cell_type": "code",
   "execution_count": 16,
   "metadata": {
    "scrolled": true
   },
   "outputs": [
    {
     "data": {
      "text/plain": [
       "<AxesSubplot:>"
      ]
     },
     "execution_count": 16,
     "metadata": {},
     "output_type": "execute_result"
    },
    {
     "data": {
      "image/png": "[encoded data removed]",
      "text/plain": [
       "<Figure size 432x288 with 1 Axes>"
      ]
     },
     "metadata": {
      "needs_background": "light"
     },
     "output_type": "display_data"
    }
   ],
   "source": [
    "df.TIEMPOS.plot(kind='bar')"
   ]
  },
  {
   "cell_type": "markdown",
   "metadata": {},
   "source": [
    "# Analisis"
   ]
  },
  {
   "cell_type": "code",
   "execution_count": 17,
   "metadata": {},
   "outputs": [],
   "source": [
    "df['DIA_SEMANA']= pd.Categorical(df['DIA_SEMANA'], dias_ordenados)"
   ]
  },
  {
   "cell_type": "code",
   "execution_count": 18,
   "metadata": {},
   "outputs": [
    {
     "data": {
      "text/plain": [
       "<AxesSubplot:xlabel='DIA_SEMANA'>"
      ]
     },
     "execution_count": 18,
     "metadata": {},
     "output_type": "execute_result"
    },
    {
     "data": {
      "image/png": "[encoded data removed]",
      "text/plain": [
       "<Figure size 432x288 with 1 Axes>"
      ]
     },
     "metadata": {
      "needs_background": "light"
     },
     "output_type": "display_data"
    }
   ],
   "source": [
    "df.groupby(by=['DIA_SEMANA']).agg({'TIEMPOS':'count'}).plot(kind='bar')"
   ]
  },
  {
   "cell_type": "markdown",
   "metadata": {},
   "source": [
    "# Ajuste de tiempos"
   ]
  },
  {
   "cell_type": "code",
   "execution_count": null,
   "metadata": {},
   "outputs": [],
   "source": [
    "from fitter import Fitter,get_common_distributions,get_distributions\n",
    "print(get_common_distributions())"
   ]
  },
  {
   "cell_type": "code",
   "execution_count": null,
   "metadata": {
    "scrolled": false
   },
   "outputs": [],
   "source": [
    "\n",
    "f = Fitter(tabla_final,distributions=get_common_distributions())\n",
    "f.fit()\n",
    "f.summary()"
   ]
  },
  {
   "cell_type": "code",
   "execution_count": null,
   "metadata": {},
   "outputs": [],
   "source": [
    "f.get_best()"
   ]
  },
  {
   "cell_type": "code",
   "execution_count": null,
   "metadata": {},
   "outputs": [],
   "source": [
    "entradas_anteriores=pd.DataFrame({'TIEMPOS':[],\n",
    "                                     'DIA_SEMANA':[],\n",
    "                                     'DIA_NUMERO':[],\n",
    "                                  'MES':[],\n",
    "                                     'AÑO':[]})"
   ]
  },
  {
   "cell_type": "code",
   "execution_count": null,
   "metadata": {},
   "outputs": [],
   "source": [
    "entradas_anteriores"
   ]
  }
 ],
 "metadata": {
  "kernelspec": {
   "display_name": "Python 3",
   "language": "python",
   "name": "python3"
  },
  "language_info": {
   "codemirror_mode": {
    "name": "ipython",
    "version": 3
   },
   "file_extension": ".py",
   "mimetype": "text/x-python",
   "name": "python",
   "nbconvert_exporter": "python",
   "pygments_lexer": "ipython3",
   "version": "3.7.4"
  }
 },
 "nbformat": 4,
 "nbformat_minor": 4
}
