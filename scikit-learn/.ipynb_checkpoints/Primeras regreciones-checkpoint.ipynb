{
 "cells": [
  {
   "cell_type": "code",
   "execution_count": 17,
   "metadata": {},
   "outputs": [
    {
     "name": "stdout",
     "output_type": "stream",
     "text": [
      "Enter: LLegada \n",
      "FIN fin de toma de datos \n",
      "Enter: LLegada \n",
      "FIN fin de toma de datos \n",
      "Enter: LLegada \n",
      "FIN fin de toma de datos \n",
      "Enter: LLegada \n",
      "FIN fin de toma de datos \n",
      "Enter: LLegada \n",
      "FIN fin de toma de datos \n",
      "Enter: LLegada \n",
      "FIN fin de toma de datos \n",
      "Enter: LLegada \n",
      "FIN fin de toma de datos \n",
      "Enter: LLegada \n",
      "FIN fin de toma de datos \n",
      "Enter: LLegada \n",
      "FIN fin de toma de datos \n",
      "Enter: LLegada \n",
      "FIN fin de toma de datos \n",
      "Enter: LLegada \n",
      "FIN fin de toma de datos \n",
      "Enter: LLegada \n",
      "FIN fin de toma de datos \n",
      "Enter: LLegada \n",
      "FIN fin de toma de datos \n",
      "Enter: LLegada \n",
      "FIN fin de toma de datos \n",
      "Enter: LLegada \n",
      "FIN fin de toma de datos \n",
      "Enter: LLegada \n",
      "FIN fin de toma de datos \n",
      "Enter: LLegada \n",
      "FIN fin de toma de datos \n",
      "Enter: LLegada \n",
      "FIN fin de toma de datos \n",
      "Enter: LLegada \n",
      "FIN fin de toma de datos \n",
      "Enter: LLegada \n",
      "FIN fin de toma de datos \n",
      "Enter: LLegada \n",
      "FIN fin de toma de datos \n",
      "Enter: LLegada \n",
      "FIN fin de toma de datos \n",
      "Enter: LLegada \n",
      "FIN fin de toma de datos \n",
      "Enter: LLegada \n",
      "FIN fin de toma de datos \n",
      "Enter: LLegada \n",
      "FIN fin de toma de datos \n",
      "Enter: LLegada \n",
      "FIN fin de toma de datos \n",
      "Enter: LLegada \n",
      "FIN fin de toma de datos \n",
      "Enter: LLegada \n",
      "FIN fin de toma de datos \n",
      "Enter: LLegada \n",
      "FIN fin de toma de datos \n",
      "Enter: LLegada \n",
      "FIN fin de toma de datos \n",
      "Enter: LLegada \n",
      "FIN fin de toma de datos \n",
      "Enter: LLegada \n",
      "FIN fin de toma de datos \n",
      "Enter: LLegada \n",
      "FIN fin de toma de datos \n",
      "Enter: LLegada \n",
      "FIN fin de toma de datos \n",
      "Enter: LLegada \n",
      "FIN fin de toma de datos \n",
      "Enter: LLegada \n",
      "FIN fin de toma de datos \n",
      "Enter: LLegada \n",
      "FIN fin de toma de datos \n",
      "Enter: LLegada \n",
      "FIN fin de toma de datos \n",
      "Enter: LLegada \n",
      "FIN fin de toma de datos \n",
      "Enter: LLegada \n",
      "FIN fin de toma de datos \n",
      "Enter: LLegada \n",
      "FIN fin de toma de datos \n",
      "Enter: LLegada \n",
      "FIN fin de toma de datos \n",
      "Enter: LLegada \n",
      "FIN fin de toma de datos \n",
      "Enter: LLegada \n",
      "FIN fin de toma de datos \n",
      "Enter: LLegada \n",
      "FIN fin de toma de datos \n",
      "Enter: LLegada \n",
      "FIN fin de toma de datos \n",
      "Enter: LLegada \n",
      "FIN fin de toma de datos \n",
      "Enter: LLegada \n",
      "FIN fin de toma de datos \n",
      "Enter: LLegada \n",
      "FIN fin de toma de datos \n",
      "Enter: LLegada \n",
      "FIN fin de toma de datos \n",
      "Enter: LLegada \n",
      "FIN fin de toma de datos \n",
      "Enter: LLegada \n",
      "FIN fin de toma de datos \n",
      "Enter: LLegada \n",
      "FIN fin de toma de datos \n",
      "Enter: LLegada \n",
      "FIN fin de toma de datos \n",
      "Enter: LLegada \n",
      "FIN fin de toma de datos \n",
      "Enter: LLegada \n",
      "FIN fin de toma de datos \n",
      "Enter: LLegada \n",
      "FIN fin de toma de datos \n",
      "Enter: LLegada \n",
      "FIN fin de toma de datos \n",
      "Enter: LLegada \n",
      "FIN fin de toma de datos \n",
      "Enter: LLegada \n",
      "FIN fin de toma de datos \n",
      "Enter: LLegada \n",
      "FIN fin de toma de datos \n",
      "Enter: LLegada \n",
      "FIN fin de toma de datos \n",
      "Enter: LLegada \n",
      "FIN fin de toma de datos fin\n"
     ]
    }
   ],
   "source": [
    "%matplotlib inline\n",
    "import pandas as pd\n",
    "import numpy as np\n",
    "import matplotlib.pyplot as plt\n",
    "import matplotlib as mpl\n",
    "import time\n",
    "from os.path import isfile\n",
    "from IPython.display import HTML,display\n",
    "from datetime import date,datetime\n",
    "horas=[]\n",
    "minutos=[]\n",
    "segundos=[]\n",
    "tiempos=[]\n",
    "inicio=time.time()\n",
    "tiempos.append(inicio)\n",
    "fin=False\n",
    "while not fin:    \n",
    "    i=str(input(\"Enter: LLegada \\nFIN fin de toma de datos \")).upper()\n",
    "    if i=='FIN':\n",
    "        fin=True\n",
    "    else:\n",
    "        tiempos.append(time.time())\n",
    "        horas.append(int(datetime.today().hour))\n",
    "        minutos.append(int(datetime.today().minute))\n",
    "        segundos.append(int(datetime.today().second))\n"
   ]
  },
  {
   "cell_type": "code",
   "execution_count": 25,
   "metadata": {},
   "outputs": [],
   "source": [
    "tiempos=np.array(tiempos)"
   ]
  },
  {
   "cell_type": "code",
   "execution_count": 117,
   "metadata": {},
   "outputs": [],
   "source": [
    "tabla=pd.DataFrame(data=tiempos,columns={'TIEMPOS'})"
   ]
  },
  {
   "cell_type": "code",
   "execution_count": 118,
   "metadata": {
    "scrolled": false
   },
   "outputs": [
    {
     "data": {
      "text/html": [
       "<div>\n",
       "<style scoped>\n",
       "    .dataframe tbody tr th:only-of-type {\n",
       "        vertical-align: middle;\n",
       "    }\n",
       "\n",
       "    .dataframe tbody tr th {\n",
       "        vertical-align: top;\n",
       "    }\n",
       "\n",
       "    .dataframe thead th {\n",
       "        text-align: right;\n",
       "    }\n",
       "</style>\n",
       "<table border=\"1\" class=\"dataframe\">\n",
       "  <thead>\n",
       "    <tr style=\"text-align: right;\">\n",
       "      <th></th>\n",
       "      <th>TIEMPOS</th>\n",
       "      <th>HORA</th>\n",
       "      <th>MINUTO</th>\n",
       "      <th>SEGUNDO</th>\n",
       "    </tr>\n",
       "  </thead>\n",
       "  <tbody>\n",
       "    <tr>\n",
       "      <th>0</th>\n",
       "      <td>1.249523</td>\n",
       "      <td>13</td>\n",
       "      <td>23</td>\n",
       "      <td>15</td>\n",
       "    </tr>\n",
       "    <tr>\n",
       "      <th>1</th>\n",
       "      <td>1.265306</td>\n",
       "      <td>13</td>\n",
       "      <td>23</td>\n",
       "      <td>16</td>\n",
       "    </tr>\n",
       "    <tr>\n",
       "      <th>2</th>\n",
       "      <td>0.602887</td>\n",
       "      <td>13</td>\n",
       "      <td>23</td>\n",
       "      <td>17</td>\n",
       "    </tr>\n",
       "    <tr>\n",
       "      <th>3</th>\n",
       "      <td>0.551857</td>\n",
       "      <td>13</td>\n",
       "      <td>23</td>\n",
       "      <td>17</td>\n",
       "    </tr>\n",
       "    <tr>\n",
       "      <th>4</th>\n",
       "      <td>0.504234</td>\n",
       "      <td>13</td>\n",
       "      <td>23</td>\n",
       "      <td>18</td>\n",
       "    </tr>\n",
       "    <tr>\n",
       "      <th>...</th>\n",
       "      <td>...</td>\n",
       "      <td>...</td>\n",
       "      <td>...</td>\n",
       "      <td>...</td>\n",
       "    </tr>\n",
       "    <tr>\n",
       "      <th>57</th>\n",
       "      <td>0.476636</td>\n",
       "      <td>13</td>\n",
       "      <td>23</td>\n",
       "      <td>44</td>\n",
       "    </tr>\n",
       "    <tr>\n",
       "      <th>58</th>\n",
       "      <td>0.401643</td>\n",
       "      <td>13</td>\n",
       "      <td>23</td>\n",
       "      <td>44</td>\n",
       "    </tr>\n",
       "    <tr>\n",
       "      <th>59</th>\n",
       "      <td>0.402900</td>\n",
       "      <td>13</td>\n",
       "      <td>23</td>\n",
       "      <td>44</td>\n",
       "    </tr>\n",
       "    <tr>\n",
       "      <th>60</th>\n",
       "      <td>0.369231</td>\n",
       "      <td>13</td>\n",
       "      <td>23</td>\n",
       "      <td>45</td>\n",
       "    </tr>\n",
       "    <tr>\n",
       "      <th>61</th>\n",
       "      <td>0.325137</td>\n",
       "      <td>13</td>\n",
       "      <td>23</td>\n",
       "      <td>45</td>\n",
       "    </tr>\n",
       "  </tbody>\n",
       "</table>\n",
       "<p>62 rows × 4 columns</p>\n",
       "</div>"
      ],
      "text/plain": [
       "     TIEMPOS  HORA  MINUTO  SEGUNDO\n",
       "0   1.249523    13      23       15\n",
       "1   1.265306    13      23       16\n",
       "2   0.602887    13      23       17\n",
       "3   0.551857    13      23       17\n",
       "4   0.504234    13      23       18\n",
       "..       ...   ...     ...      ...\n",
       "57  0.476636    13      23       44\n",
       "58  0.401643    13      23       44\n",
       "59  0.402900    13      23       44\n",
       "60  0.369231    13      23       45\n",
       "61  0.325137    13      23       45\n",
       "\n",
       "[62 rows x 4 columns]"
      ]
     },
     "metadata": {},
     "output_type": "display_data"
    },
    {
     "data": {
      "text/plain": [
       "<AxesSubplot:>"
      ]
     },
     "execution_count": 118,
     "metadata": {},
     "output_type": "execute_result"
    },
    {
     "data": {
      "image/png": "[encoded data removed]",
      "text/plain": [
       "<Figure size 432x288 with 1 Axes>"
      ]
     },
     "metadata": {},
     "output_type": "display_data"
    }
   ],
   "source": [
    "tabla1=tabla.diff().copy()\n",
    "tabla1.dropna(inplace=True)\n",
    "tabla1['TIEMPOS']=tabla1['TIEMPOS']\n",
    "tabla1.reset_index(inplace=True,drop=True)\n",
    "tabla1['HORA']=horas \n",
    "tabla1['MINUTO']=minutos\n",
    "tabla1['SEGUNDO']=segundos\n",
    "display(tabla1)\n",
    "tabla1.plot()"
   ]
  },
  {
   "cell_type": "code",
   "execution_count": 119,
   "metadata": {},
   "outputs": [
    {
     "data": {
      "text/plain": [
       "'Sunday'"
      ]
     },
     "execution_count": 119,
     "metadata": {},
     "output_type": "execute_result"
    }
   ],
   "source": [
    "date.today().strftime(\"%A\")"
   ]
  },
  {
   "cell_type": "code",
   "execution_count": 120,
   "metadata": {},
   "outputs": [],
   "source": [
    "#RECUPERACION DE FECHAS\n",
    "dias_ordenados = [\"LUNES\", \"MARTES\", \"MIÉRCOLES\", \"JUEVES\", \"VIERNES\", \"SÁBADO\", \"DOMINGO\"]\n",
    "dias_en_ingles = ['Monday', 'Tuesday', 'Wednesday', 'Thursday', 'Friday', 'Saturday', 'Sunday']\n",
    "dia=int(datetime.today().day)\n",
    "mes=int(datetime.today().month)\n",
    "año=int(datetime.today().year)\n",
    "nombre=date.today().strftime(\"%A\")\n",
    "#ALGORITMO DE IDETIFICACION DE DIA ESPAÑOL\n",
    "i=0\n",
    "for day in dias_en_ingles:\n",
    "    if nombre==day:\n",
    "        nombre=dias_ordenados[i]\n",
    "    i+=1   \n",
    "#AGREGACION A LA TABLA\n",
    "tabla1['DIA_SEMANA']=nombre\n",
    "tabla1['DIA_NUMERO']=dia\n",
    "tabla1['MES']=mes\n",
    "tabla1['AÑO']=año\n",
    "\n",
    "tabla1['DIA_SEMANA']= pd.Categorical(tabla1['DIA_SEMANA'], dias_ordenados)"
   ]
  },
  {
   "cell_type": "code",
   "execution_count": 121,
   "metadata": {},
   "outputs": [
    {
     "data": {
      "text/plain": [
       "'DOMINGO'"
      ]
     },
     "execution_count": 121,
     "metadata": {},
     "output_type": "execute_result"
    }
   ],
   "source": [
    "nombre"
   ]
  },
  {
   "cell_type": "code",
   "execution_count": 122,
   "metadata": {},
   "outputs": [
    {
     "data": {
      "text/html": [
       "<div>\n",
       "<style scoped>\n",
       "    .dataframe tbody tr th:only-of-type {\n",
       "        vertical-align: middle;\n",
       "    }\n",
       "\n",
       "    .dataframe tbody tr th {\n",
       "        vertical-align: top;\n",
       "    }\n",
       "\n",
       "    .dataframe thead th {\n",
       "        text-align: right;\n",
       "    }\n",
       "</style>\n",
       "<table border=\"1\" class=\"dataframe\">\n",
       "  <thead>\n",
       "    <tr style=\"text-align: right;\">\n",
       "      <th></th>\n",
       "      <th>TIEMPOS</th>\n",
       "      <th>HORA</th>\n",
       "      <th>MINUTO</th>\n",
       "      <th>SEGUNDO</th>\n",
       "      <th>DIA_SEMANA</th>\n",
       "      <th>DIA_NUMERO</th>\n",
       "      <th>MES</th>\n",
       "      <th>AÑO</th>\n",
       "    </tr>\n",
       "  </thead>\n",
       "  <tbody>\n",
       "    <tr>\n",
       "      <th>0</th>\n",
       "      <td>1.249523</td>\n",
       "      <td>13</td>\n",
       "      <td>23</td>\n",
       "      <td>15</td>\n",
       "      <td>DOMINGO</td>\n",
       "      <td>3</td>\n",
       "      <td>1</td>\n",
       "      <td>2021</td>\n",
       "    </tr>\n",
       "    <tr>\n",
       "      <th>1</th>\n",
       "      <td>1.265306</td>\n",
       "      <td>13</td>\n",
       "      <td>23</td>\n",
       "      <td>16</td>\n",
       "      <td>DOMINGO</td>\n",
       "      <td>3</td>\n",
       "      <td>1</td>\n",
       "      <td>2021</td>\n",
       "    </tr>\n",
       "    <tr>\n",
       "      <th>2</th>\n",
       "      <td>0.602887</td>\n",
       "      <td>13</td>\n",
       "      <td>23</td>\n",
       "      <td>17</td>\n",
       "      <td>DOMINGO</td>\n",
       "      <td>3</td>\n",
       "      <td>1</td>\n",
       "      <td>2021</td>\n",
       "    </tr>\n",
       "    <tr>\n",
       "      <th>3</th>\n",
       "      <td>0.551857</td>\n",
       "      <td>13</td>\n",
       "      <td>23</td>\n",
       "      <td>17</td>\n",
       "      <td>DOMINGO</td>\n",
       "      <td>3</td>\n",
       "      <td>1</td>\n",
       "      <td>2021</td>\n",
       "    </tr>\n",
       "    <tr>\n",
       "      <th>4</th>\n",
       "      <td>0.504234</td>\n",
       "      <td>13</td>\n",
       "      <td>23</td>\n",
       "      <td>18</td>\n",
       "      <td>DOMINGO</td>\n",
       "      <td>3</td>\n",
       "      <td>1</td>\n",
       "      <td>2021</td>\n",
       "    </tr>\n",
       "    <tr>\n",
       "      <th>...</th>\n",
       "      <td>...</td>\n",
       "      <td>...</td>\n",
       "      <td>...</td>\n",
       "      <td>...</td>\n",
       "      <td>...</td>\n",
       "      <td>...</td>\n",
       "      <td>...</td>\n",
       "      <td>...</td>\n",
       "    </tr>\n",
       "    <tr>\n",
       "      <th>57</th>\n",
       "      <td>0.476636</td>\n",
       "      <td>13</td>\n",
       "      <td>23</td>\n",
       "      <td>44</td>\n",
       "      <td>DOMINGO</td>\n",
       "      <td>3</td>\n",
       "      <td>1</td>\n",
       "      <td>2021</td>\n",
       "    </tr>\n",
       "    <tr>\n",
       "      <th>58</th>\n",
       "      <td>0.401643</td>\n",
       "      <td>13</td>\n",
       "      <td>23</td>\n",
       "      <td>44</td>\n",
       "      <td>DOMINGO</td>\n",
       "      <td>3</td>\n",
       "      <td>1</td>\n",
       "      <td>2021</td>\n",
       "    </tr>\n",
       "    <tr>\n",
       "      <th>59</th>\n",
       "      <td>0.402900</td>\n",
       "      <td>13</td>\n",
       "      <td>23</td>\n",
       "      <td>44</td>\n",
       "      <td>DOMINGO</td>\n",
       "      <td>3</td>\n",
       "      <td>1</td>\n",
       "      <td>2021</td>\n",
       "    </tr>\n",
       "    <tr>\n",
       "      <th>60</th>\n",
       "      <td>0.369231</td>\n",
       "      <td>13</td>\n",
       "      <td>23</td>\n",
       "      <td>45</td>\n",
       "      <td>DOMINGO</td>\n",
       "      <td>3</td>\n",
       "      <td>1</td>\n",
       "      <td>2021</td>\n",
       "    </tr>\n",
       "    <tr>\n",
       "      <th>61</th>\n",
       "      <td>0.325137</td>\n",
       "      <td>13</td>\n",
       "      <td>23</td>\n",
       "      <td>45</td>\n",
       "      <td>DOMINGO</td>\n",
       "      <td>3</td>\n",
       "      <td>1</td>\n",
       "      <td>2021</td>\n",
       "    </tr>\n",
       "  </tbody>\n",
       "</table>\n",
       "<p>62 rows × 8 columns</p>\n",
       "</div>"
      ],
      "text/plain": [
       "     TIEMPOS  HORA  MINUTO  SEGUNDO DIA_SEMANA  DIA_NUMERO  MES   AÑO\n",
       "0   1.249523    13      23       15    DOMINGO           3    1  2021\n",
       "1   1.265306    13      23       16    DOMINGO           3    1  2021\n",
       "2   0.602887    13      23       17    DOMINGO           3    1  2021\n",
       "3   0.551857    13      23       17    DOMINGO           3    1  2021\n",
       "4   0.504234    13      23       18    DOMINGO           3    1  2021\n",
       "..       ...   ...     ...      ...        ...         ...  ...   ...\n",
       "57  0.476636    13      23       44    DOMINGO           3    1  2021\n",
       "58  0.401643    13      23       44    DOMINGO           3    1  2021\n",
       "59  0.402900    13      23       44    DOMINGO           3    1  2021\n",
       "60  0.369231    13      23       45    DOMINGO           3    1  2021\n",
       "61  0.325137    13      23       45    DOMINGO           3    1  2021\n",
       "\n",
       "[62 rows x 8 columns]"
      ]
     },
     "execution_count": 122,
     "metadata": {},
     "output_type": "execute_result"
    }
   ],
   "source": [
    "tabla1"
   ]
  },
  {
   "cell_type": "code",
   "execution_count": 123,
   "metadata": {
    "scrolled": true
   },
   "outputs": [
    {
     "data": {
      "text/plain": [
       "<AxesSubplot:>"
      ]
     },
     "execution_count": 123,
     "metadata": {},
     "output_type": "execute_result"
    },
    {
     "data": {
      "image/png": "[encoded data removed]",
      "text/plain": [
       "<Figure size 432x288 with 1 Axes>"
      ]
     },
     "metadata": {},
     "output_type": "display_data"
    }
   ],
   "source": [
    "entradas_hoy=tabla1.copy()\n",
    "if isfile('datos_new.csv'):\n",
    "    entradas_anteriores=pd.read_csv('datos_new.csv',header=0,encoding='utf-8-sig',decimal=',',sep=';')\n",
    "else:\n",
    "    entradas_anteriores=pd.DataFrame({'TIEMPOS':[],\n",
    "                                      'DIA_SEMANA':[],\n",
    "                                      'DIA_NUMERO':[],\n",
    "                                      'MES':[],\n",
    "                                      'AÑO':[]})\n",
    "df=pd.concat([entradas_anteriores,\n",
    "              entradas_hoy],\n",
    "             axis=0).reset_index().copy()\n",
    "df.drop(columns='index',inplace=True)\n",
    "df.TIEMPOS.plot(kind='bar')"
   ]
  },
  {
   "cell_type": "code",
   "execution_count": 124,
   "metadata": {},
   "outputs": [
    {
     "data": {
      "text/plain": [
       "array([0.        , 1.24952316, 1.26530552, 0.60288715, 0.55185676,\n",
       "       0.5042336 , 0.43968916, 0.39376044, 0.37716389, 0.35860825,\n",
       "       0.25937104, 0.2135098 , 0.20402241, 0.2068665 , 0.2120049 ,\n",
       "       0.1976161 , 0.20753241, 0.20288372, 0.20717859, 0.20413208,\n",
       "       0.1625073 , 0.14872909, 0.1498127 , 0.17248058, 0.70182848,\n",
       "       0.9275887 , 1.26040626, 1.51796079, 1.38013053, 1.17863488,\n",
       "       1.41246438, 1.37717223, 1.31360435, 1.93612576, 1.23622775,\n",
       "       0.55595112, 0.39630365, 0.37269759, 0.3798666 , 0.35990834,\n",
       "       0.36598349, 0.27363515, 0.22576594, 0.19910955, 0.19840026,\n",
       "       0.18693686, 0.19178104, 0.21707797, 0.16134024, 0.17135954,\n",
       "       0.19820356, 0.24882269, 0.29343009, 0.32653904, 0.29591513,\n",
       "       0.29974103, 0.32626677, 0.36082387, 0.47663569, 0.4016428 ,\n",
       "       0.40290022, 0.36923122, 0.3251369 , 1.24952316, 1.26530552,\n",
       "       0.60288715, 0.55185676, 0.5042336 , 0.43968916, 0.39376044,\n",
       "       0.37716389, 0.35860825, 0.25937104, 0.2135098 , 0.20402241,\n",
       "       0.2068665 , 0.2120049 , 0.1976161 , 0.20753241, 0.20288372,\n",
       "       0.20717859, 0.20413208, 0.1625073 , 0.14872909, 0.1498127 ,\n",
       "       0.17248058, 0.70182848, 0.9275887 , 1.26040626, 1.51796079,\n",
       "       1.38013053, 1.17863488, 1.41246438, 1.37717223, 1.31360435,\n",
       "       1.93612576, 1.23622775, 0.55595112, 0.39630365, 0.37269759,\n",
       "       0.3798666 , 0.35990834, 0.36598349, 0.27363515, 0.22576594,\n",
       "       0.19910955, 0.19840026, 0.18693686, 0.19178104, 0.21707797,\n",
       "       0.16134024, 0.17135954, 0.19820356, 0.24882269, 0.29343009,\n",
       "       0.32653904, 0.29591513, 0.29974103, 0.32626677, 0.36082387,\n",
       "       0.47663569, 0.4016428 , 0.40290022, 0.36923122, 0.3251369 ,\n",
       "       1.24952316, 1.26530552, 0.60288715, 0.55185676, 0.5042336 ,\n",
       "       0.43968916, 0.39376044, 0.37716389, 0.35860825, 0.25937104,\n",
       "       0.2135098 , 0.20402241, 0.2068665 , 0.2120049 , 0.1976161 ,\n",
       "       0.20753241, 0.20288372, 0.20717859, 0.20413208, 0.1625073 ,\n",
       "       0.14872909, 0.1498127 , 0.17248058, 0.70182848, 0.9275887 ,\n",
       "       1.26040626, 1.51796079, 1.38013053, 1.17863488, 1.41246438,\n",
       "       1.37717223, 1.31360435, 1.93612576, 1.23622775, 0.55595112,\n",
       "       0.39630365, 0.37269759, 0.3798666 , 0.35990834, 0.36598349,\n",
       "       0.27363515, 0.22576594, 0.19910955, 0.19840026, 0.18693686,\n",
       "       0.19178104, 0.21707797, 0.16134024, 0.17135954, 0.19820356,\n",
       "       0.24882269, 0.29343009, 0.32653904, 0.29591513, 0.29974103,\n",
       "       0.32626677, 0.36082387, 0.47663569, 0.4016428 , 0.40290022,\n",
       "       0.36923122])"
      ]
     },
     "execution_count": 124,
     "metadata": {},
     "output_type": "execute_result"
    }
   ],
   "source": [
    "LISTA=df['TIEMPOS'].copy()\n",
    "Lista=list(LISTA)\n",
    "Lista.insert(0,0)\n",
    "lista=Lista[:-1]\n",
    "np.array(lista)"
   ]
  },
  {
   "cell_type": "code",
   "execution_count": 125,
   "metadata": {},
   "outputs": [],
   "source": [
    "df['ANTERIOR']=lista\n",
    "df.to_csv('datos_new.csv',header=True,index=False,encoding='utf-8-sig',decimal=',',sep=';')\n",
    "df.to_csv('datos_newgithub.csv',header=True,index=False,encoding='utf-8-sig',decimal='.',sep=',')"
   ]
  },
  {
   "cell_type": "code",
   "execution_count": 127,
   "metadata": {},
   "outputs": [],
   "source": [
    "import numpy as np\n",
    "from sklearn import linear_model,metrics\n",
    "from sklearn.preprocessing import LabelEncoder"
   ]
  },
  {
   "cell_type": "code",
   "execution_count": 94,
   "metadata": {},
   "outputs": [
    {
     "data": {
      "text/plain": [
       "LinearRegression()"
      ]
     },
     "execution_count": 94,
     "metadata": {},
     "output_type": "execute_result"
    }
   ],
   "source": [
    "reg = linear_model.LinearRegression()\n",
    "reg.fit ([[0, 0], [1, 1], [2, 2]], [0, 1, 2])"
   ]
  },
  {
   "cell_type": "code",
   "execution_count": 95,
   "metadata": {},
   "outputs": [
    {
     "data": {
      "text/plain": [
       "array([0.5, 0.5])"
      ]
     },
     "execution_count": 95,
     "metadata": {},
     "output_type": "execute_result"
    }
   ],
   "source": [
    "reg.coef_"
   ]
  },
  {
   "cell_type": "code",
   "execution_count": 96,
   "metadata": {},
   "outputs": [
    {
     "data": {
      "text/plain": [
       "1.1102230246251565e-16"
      ]
     },
     "execution_count": 96,
     "metadata": {},
     "output_type": "execute_result"
    }
   ],
   "source": [
    "reg.intercept_"
   ]
  },
  {
   "cell_type": "code",
   "execution_count": 97,
   "metadata": {
    "scrolled": true
   },
   "outputs": [
    {
     "ename": "TypeError",
     "evalue": "score() missing 2 required positional arguments: 'X' and 'y'",
     "output_type": "error",
     "traceback": [
      "\u001b[1;31m---------------------------------------------------------------------------\u001b[0m",
      "\u001b[1;31mTypeError\u001b[0m                                 Traceback (most recent call last)",
      "\u001b[1;32m<ipython-input-97-208ed01e3368>\u001b[0m in \u001b[0;36m<module>\u001b[1;34m()\u001b[0m\n\u001b[1;32m----> 1\u001b[1;33m \u001b[0mreg\u001b[0m\u001b[1;33m.\u001b[0m\u001b[0mscore\u001b[0m\u001b[1;33m(\u001b[0m\u001b[1;33m)\u001b[0m\u001b[1;33m\u001b[0m\u001b[1;33m\u001b[0m\u001b[0m\n\u001b[0m",
      "\u001b[1;31mTypeError\u001b[0m: score() missing 2 required positional arguments: 'X' and 'y'"
     ]
    }
   ],
   "source": [
    "reg.score()"
   ]
  },
  {
   "cell_type": "code",
   "execution_count": 106,
   "metadata": {},
   "outputs": [],
   "source": [
    "import numpy as np"
   ]
  },
  {
   "cell_type": "code",
   "execution_count": 48,
   "metadata": {},
   "outputs": [],
   "source": [
    "df=pd.read_csv('datos_new.csv',sep=';',decimal=',',encoding='utf-8')"
   ]
  },
  {
   "cell_type": "code",
   "execution_count": 129,
   "metadata": {},
   "outputs": [
    {
     "data": {
      "text/html": [
       "<div>\n",
       "<style scoped>\n",
       "    .dataframe tbody tr th:only-of-type {\n",
       "        vertical-align: middle;\n",
       "    }\n",
       "\n",
       "    .dataframe tbody tr th {\n",
       "        vertical-align: top;\n",
       "    }\n",
       "\n",
       "    .dataframe thead th {\n",
       "        text-align: right;\n",
       "    }\n",
       "</style>\n",
       "<table border=\"1\" class=\"dataframe\">\n",
       "  <thead>\n",
       "    <tr style=\"text-align: right;\">\n",
       "      <th></th>\n",
       "      <th>TIEMPOS</th>\n",
       "      <th>DIA_SEMANA</th>\n",
       "      <th>DIA_NUMERO</th>\n",
       "      <th>MES</th>\n",
       "      <th>AÑO</th>\n",
       "      <th>HORA</th>\n",
       "      <th>MINUTO</th>\n",
       "      <th>SEGUNDO</th>\n",
       "      <th>ANTERIOR</th>\n",
       "    </tr>\n",
       "  </thead>\n",
       "  <tbody>\n",
       "    <tr>\n",
       "      <th>0</th>\n",
       "      <td>1.249523</td>\n",
       "      <td>DOMINGO</td>\n",
       "      <td>3.0</td>\n",
       "      <td>1.0</td>\n",
       "      <td>2021.0</td>\n",
       "      <td>13.0</td>\n",
       "      <td>23.0</td>\n",
       "      <td>15.0</td>\n",
       "      <td>0.000000</td>\n",
       "    </tr>\n",
       "    <tr>\n",
       "      <th>1</th>\n",
       "      <td>1.265306</td>\n",
       "      <td>DOMINGO</td>\n",
       "      <td>3.0</td>\n",
       "      <td>1.0</td>\n",
       "      <td>2021.0</td>\n",
       "      <td>13.0</td>\n",
       "      <td>23.0</td>\n",
       "      <td>16.0</td>\n",
       "      <td>1.249523</td>\n",
       "    </tr>\n",
       "    <tr>\n",
       "      <th>2</th>\n",
       "      <td>0.602887</td>\n",
       "      <td>DOMINGO</td>\n",
       "      <td>3.0</td>\n",
       "      <td>1.0</td>\n",
       "      <td>2021.0</td>\n",
       "      <td>13.0</td>\n",
       "      <td>23.0</td>\n",
       "      <td>17.0</td>\n",
       "      <td>1.265306</td>\n",
       "    </tr>\n",
       "    <tr>\n",
       "      <th>3</th>\n",
       "      <td>0.551857</td>\n",
       "      <td>DOMINGO</td>\n",
       "      <td>3.0</td>\n",
       "      <td>1.0</td>\n",
       "      <td>2021.0</td>\n",
       "      <td>13.0</td>\n",
       "      <td>23.0</td>\n",
       "      <td>17.0</td>\n",
       "      <td>0.602887</td>\n",
       "    </tr>\n",
       "    <tr>\n",
       "      <th>4</th>\n",
       "      <td>0.504234</td>\n",
       "      <td>DOMINGO</td>\n",
       "      <td>3.0</td>\n",
       "      <td>1.0</td>\n",
       "      <td>2021.0</td>\n",
       "      <td>13.0</td>\n",
       "      <td>23.0</td>\n",
       "      <td>18.0</td>\n",
       "      <td>0.551857</td>\n",
       "    </tr>\n",
       "    <tr>\n",
       "      <th>...</th>\n",
       "      <td>...</td>\n",
       "      <td>...</td>\n",
       "      <td>...</td>\n",
       "      <td>...</td>\n",
       "      <td>...</td>\n",
       "      <td>...</td>\n",
       "      <td>...</td>\n",
       "      <td>...</td>\n",
       "      <td>...</td>\n",
       "    </tr>\n",
       "    <tr>\n",
       "      <th>181</th>\n",
       "      <td>0.476636</td>\n",
       "      <td>DOMINGO</td>\n",
       "      <td>3.0</td>\n",
       "      <td>1.0</td>\n",
       "      <td>2021.0</td>\n",
       "      <td>13.0</td>\n",
       "      <td>23.0</td>\n",
       "      <td>44.0</td>\n",
       "      <td>0.360824</td>\n",
       "    </tr>\n",
       "    <tr>\n",
       "      <th>182</th>\n",
       "      <td>0.401643</td>\n",
       "      <td>DOMINGO</td>\n",
       "      <td>3.0</td>\n",
       "      <td>1.0</td>\n",
       "      <td>2021.0</td>\n",
       "      <td>13.0</td>\n",
       "      <td>23.0</td>\n",
       "      <td>44.0</td>\n",
       "      <td>0.476636</td>\n",
       "    </tr>\n",
       "    <tr>\n",
       "      <th>183</th>\n",
       "      <td>0.402900</td>\n",
       "      <td>DOMINGO</td>\n",
       "      <td>3.0</td>\n",
       "      <td>1.0</td>\n",
       "      <td>2021.0</td>\n",
       "      <td>13.0</td>\n",
       "      <td>23.0</td>\n",
       "      <td>44.0</td>\n",
       "      <td>0.401643</td>\n",
       "    </tr>\n",
       "    <tr>\n",
       "      <th>184</th>\n",
       "      <td>0.369231</td>\n",
       "      <td>DOMINGO</td>\n",
       "      <td>3.0</td>\n",
       "      <td>1.0</td>\n",
       "      <td>2021.0</td>\n",
       "      <td>13.0</td>\n",
       "      <td>23.0</td>\n",
       "      <td>45.0</td>\n",
       "      <td>0.402900</td>\n",
       "    </tr>\n",
       "    <tr>\n",
       "      <th>185</th>\n",
       "      <td>0.325137</td>\n",
       "      <td>DOMINGO</td>\n",
       "      <td>3.0</td>\n",
       "      <td>1.0</td>\n",
       "      <td>2021.0</td>\n",
       "      <td>13.0</td>\n",
       "      <td>23.0</td>\n",
       "      <td>45.0</td>\n",
       "      <td>0.369231</td>\n",
       "    </tr>\n",
       "  </tbody>\n",
       "</table>\n",
       "<p>186 rows × 9 columns</p>\n",
       "</div>"
      ],
      "text/plain": [
       "      TIEMPOS DIA_SEMANA  DIA_NUMERO  MES     AÑO  HORA  MINUTO  SEGUNDO  \\\n",
       "0    1.249523    DOMINGO         3.0  1.0  2021.0  13.0    23.0     15.0   \n",
       "1    1.265306    DOMINGO         3.0  1.0  2021.0  13.0    23.0     16.0   \n",
       "2    0.602887    DOMINGO         3.0  1.0  2021.0  13.0    23.0     17.0   \n",
       "3    0.551857    DOMINGO         3.0  1.0  2021.0  13.0    23.0     17.0   \n",
       "4    0.504234    DOMINGO         3.0  1.0  2021.0  13.0    23.0     18.0   \n",
       "..        ...        ...         ...  ...     ...   ...     ...      ...   \n",
       "181  0.476636    DOMINGO         3.0  1.0  2021.0  13.0    23.0     44.0   \n",
       "182  0.401643    DOMINGO         3.0  1.0  2021.0  13.0    23.0     44.0   \n",
       "183  0.402900    DOMINGO         3.0  1.0  2021.0  13.0    23.0     44.0   \n",
       "184  0.369231    DOMINGO         3.0  1.0  2021.0  13.0    23.0     45.0   \n",
       "185  0.325137    DOMINGO         3.0  1.0  2021.0  13.0    23.0     45.0   \n",
       "\n",
       "     ANTERIOR  \n",
       "0    0.000000  \n",
       "1    1.249523  \n",
       "2    1.265306  \n",
       "3    0.602887  \n",
       "4    0.551857  \n",
       "..        ...  \n",
       "181  0.360824  \n",
       "182  0.476636  \n",
       "183  0.401643  \n",
       "184  0.402900  \n",
       "185  0.369231  \n",
       "\n",
       "[186 rows x 9 columns]"
      ]
     },
     "execution_count": 129,
     "metadata": {},
     "output_type": "execute_result"
    }
   ],
   "source": [
    "df"
   ]
  },
  {
   "cell_type": "code",
   "execution_count": 128,
   "metadata": {},
   "outputs": [
    {
     "data": {
      "text/plain": [
       "Index(['TIEMPOS', 'DIA_SEMANA', 'DIA_NUMERO', 'MES', 'AÑO', 'HORA', 'MINUTO',\n",
       "       'SEGUNDO', 'ANTERIOR'],\n",
       "      dtype='object')"
      ]
     },
     "execution_count": 128,
     "metadata": {},
     "output_type": "execute_result"
    }
   ],
   "source": [
    "df.columns"
   ]
  },
  {
   "cell_type": "code",
   "execution_count": 130,
   "metadata": {},
   "outputs": [
    {
     "name": "stdout",
     "output_type": "stream",
     "text": [
      "TIEMPOS       float64\n",
      "DIA_SEMANA      int32\n",
      "DIA_NUMERO    float64\n",
      "MES           float64\n",
      "AÑO           float64\n",
      "HORA          float64\n",
      "MINUTO        float64\n",
      "SEGUNDO       float64\n",
      "ANTERIOR      float64\n",
      "dtype: object\n"
     ]
    }
   ],
   "source": [
    "var_mod = ['DIA_SEMANA']\n",
    "le = LabelEncoder()\n",
    "for i in var_mod:\n",
    "    df[i] = le.fit_transform(df[i])\n",
    "print(df.dtypes )"
   ]
  },
  {
   "cell_type": "code",
   "execution_count": 131,
   "metadata": {
    "scrolled": false
   },
   "outputs": [
    {
     "data": {
      "text/plain": [
       "<seaborn.axisgrid.PairGrid at 0x2735ef82588>"
      ]
     },
     "execution_count": 131,
     "metadata": {},
     "output_type": "execute_result"
    },
    {
     "data": {
      "image/png": "[encoded data removed]",
      "text/plain": [
       "<Figure size 720x180 with 4 Axes>"
      ]
     },
     "metadata": {},
     "output_type": "display_data"
    },
    {
     "data": {
      "image/png": "[encoded data removed]",
      "text/plain": [
       "<Figure size 720x180 with 4 Axes>"
      ]
     },
     "metadata": {},
     "output_type": "display_data"
    }
   ],
   "source": [
    "import seaborn as sns; sns.set()\n",
    "sns.pairplot(df,x_vars=['DIA_SEMANA', 'DIA_NUMERO', 'MES', 'AÑO'],y_vars=['TIEMPOS'] , kind=\"reg\")\n",
    "sns.pairplot(df,x_vars=['HORA', 'MINUTO','SEGUNDO','ANTERIOR'],y_vars=['TIEMPOS'] , kind=\"reg\")"
   ]
  },
  {
   "cell_type": "code",
   "execution_count": 132,
   "metadata": {},
   "outputs": [],
   "source": [
    "def classification_model(model, data, predictors, outcome):\n",
    "    model.fit(data[predictors],data[outcome])\n",
    "    predictions = model.predict(data[predictors])\n",
    "    accuracy = metrics.r2_score(predictions,data[outcome])\n",
    "    print(\"Rendimiento : %s\" % \"{0:.3%}\".format(accuracy))\n",
    "    return [accuracy,predictor_var]\n"
   ]
  },
  {
   "cell_type": "code",
   "execution_count": 134,
   "metadata": {},
   "outputs": [
    {
     "name": "stdout",
     "output_type": "stream",
     "text": [
      "Rendimiento : 61.946%\n",
      "[0.6194590612558099, ['ANTERIOR', 'SEGUNDO']]\n"
     ]
    }
   ],
   "source": [
    "outcome_var = 'TIEMPOS'\n",
    "model = linear_model.LinearRegression()\n",
    "predictor_var = ['ANTERIOR','SEGUNDO']\n",
    "print(classification_model(model,df,predictor_var,outcome_var))"
   ]
  },
  {
   "cell_type": "code",
   "execution_count": 135,
   "metadata": {},
   "outputs": [
    {
     "name": "stdout",
     "output_type": "stream",
     "text": [
      "Rendimiento : -1539418835738323804016925680336896.000%\n",
      "Rendimiento : -1539418835738323804016925680336896.000%\n",
      "Rendimiento : -1539418835738323804016925680336896.000%\n",
      "Rendimiento : -1539418835738323804016925680336896.000%\n",
      "Rendimiento : -5166.087%\n",
      "Rendimiento : -5166.087%\n",
      "Rendimiento : 60.809%\n",
      "Rendimiento : 60.809%\n",
      "Rendimiento : -1539418835738323804016925680336896.000%\n",
      "Rendimiento : -1539418835738323804016925680336896.000%\n",
      "Rendimiento : -5166.087%\n",
      "Rendimiento : 60.809%\n",
      "Rendimiento : -1539418835738323804016925680336896.000%\n",
      "Rendimiento : -5166.087%\n",
      "Rendimiento : 60.809%\n",
      "Rendimiento : -5166.087%\n",
      "Rendimiento : 60.809%\n",
      "Rendimiento : 61.946%\n",
      "Rendimiento : 61.946%\n",
      "Rendimiento : -1539418835738323804016925680336896.000%\n",
      "Rendimiento : -1539418835738323804016925680336896.000%\n",
      "Rendimiento : -5166.087%\n",
      "Rendimiento : 60.809%\n",
      "Rendimiento : -1539418835738323804016925680336896.000%\n",
      "Rendimiento : -5166.087%\n",
      "Rendimiento : 60.809%\n",
      "Rendimiento : -5166.087%\n",
      "Rendimiento : 60.809%\n",
      "Rendimiento : 61.946%\n",
      "Rendimiento : -1539418835738323804016925680336896.000%\n",
      "Rendimiento : -5166.087%\n",
      "Rendimiento : 60.809%\n",
      "Rendimiento : -5166.087%\n",
      "Rendimiento : 60.809%\n",
      "Rendimiento : 61.946%\n",
      "Rendimiento : -5166.087%\n",
      "Rendimiento : 60.809%\n",
      "Rendimiento : 61.946%\n",
      "Rendimiento : 61.946%\n",
      "Rendimiento : -1539418835738323804016925680336896.000%\n",
      "Rendimiento : -1539418835738323804016925680336896.000%\n",
      "Rendimiento : -5166.087%\n",
      "Rendimiento : 60.809%\n",
      "Rendimiento : -1539418835738323804016925680336896.000%\n",
      "Rendimiento : -5166.087%\n",
      "Rendimiento : 60.809%\n",
      "Rendimiento : -5166.087%\n",
      "Rendimiento : 60.809%\n",
      "Rendimiento : 61.946%\n",
      "Rendimiento : -1539418835738323804016925680336896.000%\n",
      "Rendimiento : -5166.087%\n",
      "Rendimiento : 60.809%\n",
      "Rendimiento : -5166.087%\n",
      "Rendimiento : 60.809%\n",
      "Rendimiento : 61.946%\n",
      "Rendimiento : -5166.087%\n",
      "Rendimiento : 60.809%\n",
      "Rendimiento : 61.946%\n",
      "Rendimiento : 61.946%\n",
      "Rendimiento : -1539418835738323804016925680336896.000%\n",
      "Rendimiento : -5166.087%\n",
      "Rendimiento : 60.809%\n",
      "Rendimiento : -5166.087%\n",
      "Rendimiento : 60.809%\n",
      "Rendimiento : 61.946%\n",
      "Rendimiento : -5166.087%\n",
      "Rendimiento : 60.809%\n",
      "Rendimiento : 61.946%\n",
      "Rendimiento : 61.946%\n",
      "Rendimiento : -5166.087%\n",
      "Rendimiento : 60.809%\n",
      "Rendimiento : 61.946%\n",
      "Rendimiento : 61.946%\n",
      "Rendimiento : 61.946%\n",
      "61.945906125580976 % ['DIA_SEMANA', 'DIA_NUMERO', 'SEGUNDO', 'ANTERIOR']\n"
     ]
    }
   ],
   "source": [
    "import itertools\n",
    "mayor=[-np.Infinity,0]\n",
    "var_mod=['DIA_SEMANA', 'DIA_NUMERO', 'MES', 'AÑO','HORA', 'MINUTO','SEGUNDO','ANTERIOR']\n",
    "for conjunto in list(itertools.combinations(var_mod[:],4)):\n",
    "    outcome_var = 'TIEMPOS'\n",
    "    model = linear_model.LinearRegression()\n",
    "    predictor_var = list(conjunto)\n",
    "    if classification_model(model,df,predictor_var,outcome_var)[0]>mayor[0]:\n",
    "        mayor=classification_model(model,df,predictor_var,outcome_var)\n",
    "print(mayor[0]*100,str('%'),mayor[1])"
   ]
  },
  {
   "cell_type": "code",
   "execution_count": null,
   "metadata": {},
   "outputs": [],
   "source": []
  }
 ],
 "metadata": {
  "kernelspec": {
   "display_name": "Python 3",
   "language": "python",
   "name": "python3"
  },
  "language_info": {
   "codemirror_mode": {
    "name": "ipython",
    "version": 3
   },
   "file_extension": ".py",
   "mimetype": "text/x-python",
   "name": "python",
   "nbconvert_exporter": "python",
   "pygments_lexer": "ipython3",
   "version": "3.7.4"
  }
 },
 "nbformat": 4,
 "nbformat_minor": 4
}
