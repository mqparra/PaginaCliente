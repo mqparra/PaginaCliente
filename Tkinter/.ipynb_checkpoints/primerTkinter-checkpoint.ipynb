{
 "cells": [
  {
   "cell_type": "code",
   "execution_count": 90,
   "metadata": {},
   "outputs": [
    {
     "name": "stdout",
     "output_type": "stream",
     "text": [
      "hola python\n",
      "hola python\n"
     ]
    }
   ],
   "source": [
    "import tkinter\n",
    "from datetime import datetime\n",
    "def saludo(nombre):\n",
    "    print('hola '+str(nombre))\n",
    "def textodelaCaja():\n",
    "    text20 = cajaTexto.get().upper() #recupera lo escrito en el sector en blanco\n",
    "    etiqueta2['text']= text20+' se ingreso a las: '+str(datetime.today().hour)+':'+str(datetime.today().minute)\n",
    "    \n",
    "\n",
    "\n",
    "ventana = tkinter.Tk()\n",
    "ventana.title('TomaTiempos_0.1')\n",
    "ventana.geometry('800x500')\n",
    "\n",
    "\n",
    "etiqueta1 = tkinter.Label(ventana, text = 'Wena los cauros',bg='green')\n",
    "etiqueta2 = tkinter.Label(ventana,bg='blue')\n",
    "\n",
    "boton1 = tkinter.Button(ventana, font='Helvetica 30', text='Bonton print',\n",
    "                        width=20,height=5, command=lambda: saludo('python'))\n",
    "boton2 = tkinter.Button(ventana, font='Helvetica 30', text='Boton de ingreso', command=textodelaCaja,\n",
    "                       width=20,height=5)\n",
    "\n",
    "\n",
    "cajaTexto = tkinter.Entry(ventana,font='Helvetica 30')\n",
    "cajaTexto.grid(row = 0,column=1)\n",
    "\n",
    "\n",
    "etiqueta1.grid(row = 0,column=0)\n",
    "etiqueta2.grid(row = 1,column=0)\n",
    "\n",
    "boton1.grid(row = 2,column=0)\n",
    "boton2.grid(row = 2,column=1)\n",
    "\n",
    "ventana.mainloop()"
   ]
  },
  {
   "cell_type": "code",
   "execution_count": 4,
   "metadata": {},
   "outputs": [
    {
     "name": "stdout",
     "output_type": "stream",
     "text": [
      "sacoe\n",
      "wea\n"
     ]
    }
   ],
   "source": [
    "print('sacoe\\nwea')"
   ]
  },
  {
   "cell_type": "code",
   "execution_count": null,
   "metadata": {},
   "outputs": [],
   "source": []
  },
  {
   "cell_type": "code",
   "execution_count": null,
   "metadata": {},
   "outputs": [],
   "source": []
  },
  {
   "cell_type": "code",
   "execution_count": null,
   "metadata": {},
   "outputs": [],
   "source": []
  },
  {
   "cell_type": "code",
   "execution_count": 50,
   "metadata": {},
   "outputs": [],
   "source": [
    "from tkinter import Tk,Label,Button, Entry\n",
    "from math import *\n",
    "import tkinter.font as font\n",
    "\n",
    "\n",
    "def sumar():    \n",
    "    if txt1.get()=='':\n",
    "        dig1=0\n",
    "        dig2= eval(txt2.get())\n",
    "    elif txt2.get()=='':\n",
    "        dig2=0\n",
    "        dig1= eval(txt1.get())\n",
    "    else:\n",
    "        dig1= eval(txt1.get())\n",
    "        dig2= eval(txt2.get())\n",
    "    \n",
    "    txt3.delete(0,'end')\n",
    "    txt3.insert(0,dig1+dig2)\n",
    "    \n",
    "def reubicar():\n",
    "    dig3=eval(txt3.get())\n",
    "    txt1.delete(0,'end')\n",
    "    txt2.delete(0,'end')\n",
    "    txt3.delete(0,'end')\n",
    "    txt1.insert(0,dig3)\n",
    "\n",
    "def cerrar():\n",
    "    ventana.destroy()\n",
    "    \n",
    "ventana = Tk() \n",
    "ventana.title(\"Primera Ventana\") #Cambiar el nombre de la ventana \n",
    "ventana.geometry(\"900x600\") #Configurar tamaño \n",
    "miFont = font.Font(family='Helvetica', size=20, weight='bold')\n",
    "\n",
    "\n",
    "lbl1= Label(ventana, text = 'Primer numero',bg='yellow')\n",
    "\n",
    "lbl2= Label(ventana, text = 'Segundo numero',bg='yellow')\n",
    "\n",
    "lbl3= Label(ventana, text = 'Resultado',bg='yellow')\n",
    "\n",
    "txt1= Entry(ventana,bg='pink')\n",
    "\n",
    "txt2= Entry(ventana,bg='pink')\n",
    "\n",
    "txt3= Entry(ventana,bg='pink')\n",
    "\n",
    "bt2 = Button(ventana,text = 'Sumar [enter]',bg = 'green' , fg= 'red',command = sumar)\n",
    "\n",
    "bt3 = Button(ventana, text = 'Reubicar [ctr R]',bg='red',command=reubicar)\n",
    "bt4 = Button(ventana, text = 'Cerrar [esc]',bg='red',command=cerrar)\n",
    "\n",
    "\n",
    "for i in [lbl1,lbl2,lbl3,txt1,txt2,txt3,bt2,bt3,bt4]:\n",
    "    i['font']=miFont\n",
    "\n",
    "\n",
    "# lbl1.place(relx=0.03,rely=0.04, relwidth= 0.23 , relheight= 0.1)\n",
    "# lbl2.place(relx=0.03,rely=0.17, relwidth= 0.23 , relheight= 0.1)\n",
    "# lbl3.place(relx=0.03,rely=0.3, relwidth= 0.23 , relheight= 0.1)\n",
    "\n",
    "# txt1.place(relx=0.35,rely=0.04, relwidth= 0.23 , relheight= 0.1)\n",
    "# txt2.place(relx=0.35,rely=0.17, relwidth= 0.23 , relheight= 0.1)\n",
    "# txt3.place(relx=0.35,rely=0.3, relwidth= 0.23 , relheight= 0.1)\n",
    "\n",
    "# bt2.place(relx=0.7,rely=0.17, relwidth= 0.23 , relheight= 0.1)\n",
    "# bt3.place(relx=0.7,rely=0.3, relwidth= 0.23 , relheight= 0.1)\n",
    "\n",
    "lbl1.grid(row=0,column=0,sticky='nsew')\n",
    "lbl2.grid(row=1,column=0,sticky='nsew')\n",
    "lbl3.grid(row=2,column=0,sticky='nsew')\n",
    "\n",
    "txt1.grid(row=0,column=1,sticky='nsew')\n",
    "txt2.grid(row=1,column=1,sticky='nsew')\n",
    "txt3.grid(row=2,column=1,sticky='nsew')\n",
    "\n",
    "bt2.grid(row=1,column=2,sticky='nsew')\n",
    "bt3.grid(row=2,column=2,sticky='nsew')\n",
    "bt4.grid(row=2,column=3,sticky='nsew')\n",
    "\n",
    "ventana.bind(\"<Return>\",lambda _: sumar())\n",
    "ventana.bind(\"<Control_R>\",lambda _:reubicar())\n",
    "ventana.bind(\"<Escape>\",lambda _:cerrar())\n",
    "\n",
    "\n",
    "\n",
    "ventana.rowconfigure(0,weight=1)\n",
    "ventana.rowconfigure(1,weight=1)\n",
    "ventana.rowconfigure(2,weight=1)\n",
    "ventana.columnconfigure(0,weight=1)\n",
    "ventana.columnconfigure(1,weight=1)\n",
    "ventana.columnconfigure(2,weight=4)\n",
    "ventana.columnconfigure(3,weight=4)\n",
    "\n",
    "\n",
    "\n",
    "\n",
    "\n",
    "ventana.mainloop()"
   ]
  },
  {
   "cell_type": "code",
   "execution_count": 44,
   "metadata": {},
   "outputs": [
    {
     "data": {
      "text/plain": [
       "array([0.        , 1.05409255, 1.49071198, 1.82574186, 2.10818511,\n",
       "       2.3570226 , 2.5819889 , 2.78886676, 2.98142397, 3.16227766])"
      ]
     },
     "execution_count": 44,
     "metadata": {},
     "output_type": "execute_result"
    }
   ],
   "source": [
    "t= np.linspace(0,10,10)\n",
    "func=lambda _: np.sqrt(t)\n",
    "func(456)"
   ]
  },
  {
   "cell_type": "code",
   "execution_count": 82,
   "metadata": {},
   "outputs": [],
   "source": [
    "import datetime\n",
    "a={'uno':[1,2,3,4,5],'dos':[6,7,8,9,10]}"
   ]
  }
 ],
 "metadata": {
  "kernelspec": {
   "display_name": "Python 3",
   "language": "python",
   "name": "python3"
  },
  "language_info": {
   "codemirror_mode": {
    "name": "ipython",
    "version": 3
   },
   "file_extension": ".py",
   "mimetype": "text/x-python",
   "name": "python",
   "nbconvert_exporter": "python",
   "pygments_lexer": "ipython3",
   "version": "3.7.4"
  }
 },
 "nbformat": 4,
 "nbformat_minor": 4
}
